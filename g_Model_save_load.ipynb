{
  "nbformat": 4,
  "nbformat_minor": 0,
  "metadata": {
    "colab": {
      "name": "g_Model_save_load",
      "provenance": [],
      "authorship_tag": "ABX9TyPymAoJPoPYwr6+pXSYH1aw",
      "include_colab_link": true
    },
    "kernelspec": {
      "name": "python3",
      "display_name": "Python 3"
    },
    "language_info": {
      "name": "python"
    },
    "accelerator": "GPU"
  },
  "cells": [
    {
      "cell_type": "markdown",
      "metadata": {
        "id": "view-in-github",
        "colab_type": "text"
      },
      "source": [
        "<a href=\"https://colab.research.google.com/github/ChaejinE/MyPytorch/blob/main/g_Model_save_load.ipynb\" target=\"_parent\"><img src=\"https://colab.research.google.com/assets/colab-badge.svg\" alt=\"Open In Colab\"/></a>"
      ]
    },
    {
      "cell_type": "code",
      "metadata": {
        "id": "2Q-xYMm9RWyE"
      },
      "source": [
        "import torch\n",
        "import torch.onnx as onnx\n",
        "import torchvision.models as models"
      ],
      "execution_count": 1,
      "outputs": []
    },
    {
      "cell_type": "markdown",
      "metadata": {
        "id": "8sFWf4RBR1Yr"
      },
      "source": [
        "# 모델 가중치 저장 및 불러오기\n",
        "- PyTorch 모델은 학습한 매개변수를 state_dict라고 불리는 internal state dictionary에 저장한다.\n",
        "- torch.save 메소드를 사용해 저장할 수 있다."
      ]
    },
    {
      "cell_type": "code",
      "metadata": {
        "id": "zqVpx3IhRmzA"
      },
      "source": [
        "model = models.vgg16(pretrained=True)\n",
        "torch.save(model.state_dict(), \"model_weights.pth\")"
      ],
      "execution_count": 4,
      "outputs": []
    },
    {
      "cell_type": "markdown",
      "metadata": {
        "id": "Gm63DcFxZT8t"
      },
      "source": [
        "- 모델 가중치를 불러오려면 동일한 model instance를 생성한 다음 load_state_dict() 메소드를 사용하여 매개변수들을 불러온다\n",
        "- model.eva() 메소드를 호출해 dropout과 batch normalization을 evaluation mode로 설정해야한다.\n",
        "그렇지 않으면 추론 결과가 일관성이없어진다."
      ]
    },
    {
      "cell_type": "code",
      "metadata": {
        "colab": {
          "base_uri": "https://localhost:8080/"
        },
        "id": "JhpvKr8vZOt1",
        "outputId": "69c3da78-c0d4-4a97-c754-1a9b73382d86"
      },
      "source": [
        "model = models.vgg16()\n",
        "model.load_state_dict(torch.load(\"model_weights.pth\"))\n",
        "model.eval()"
      ],
      "execution_count": 5,
      "outputs": [
        {
          "output_type": "execute_result",
          "data": {
            "text/plain": [
              "VGG(\n",
              "  (features): Sequential(\n",
              "    (0): Conv2d(3, 64, kernel_size=(3, 3), stride=(1, 1), padding=(1, 1))\n",
              "    (1): ReLU(inplace=True)\n",
              "    (2): Conv2d(64, 64, kernel_size=(3, 3), stride=(1, 1), padding=(1, 1))\n",
              "    (3): ReLU(inplace=True)\n",
              "    (4): MaxPool2d(kernel_size=2, stride=2, padding=0, dilation=1, ceil_mode=False)\n",
              "    (5): Conv2d(64, 128, kernel_size=(3, 3), stride=(1, 1), padding=(1, 1))\n",
              "    (6): ReLU(inplace=True)\n",
              "    (7): Conv2d(128, 128, kernel_size=(3, 3), stride=(1, 1), padding=(1, 1))\n",
              "    (8): ReLU(inplace=True)\n",
              "    (9): MaxPool2d(kernel_size=2, stride=2, padding=0, dilation=1, ceil_mode=False)\n",
              "    (10): Conv2d(128, 256, kernel_size=(3, 3), stride=(1, 1), padding=(1, 1))\n",
              "    (11): ReLU(inplace=True)\n",
              "    (12): Conv2d(256, 256, kernel_size=(3, 3), stride=(1, 1), padding=(1, 1))\n",
              "    (13): ReLU(inplace=True)\n",
              "    (14): Conv2d(256, 256, kernel_size=(3, 3), stride=(1, 1), padding=(1, 1))\n",
              "    (15): ReLU(inplace=True)\n",
              "    (16): MaxPool2d(kernel_size=2, stride=2, padding=0, dilation=1, ceil_mode=False)\n",
              "    (17): Conv2d(256, 512, kernel_size=(3, 3), stride=(1, 1), padding=(1, 1))\n",
              "    (18): ReLU(inplace=True)\n",
              "    (19): Conv2d(512, 512, kernel_size=(3, 3), stride=(1, 1), padding=(1, 1))\n",
              "    (20): ReLU(inplace=True)\n",
              "    (21): Conv2d(512, 512, kernel_size=(3, 3), stride=(1, 1), padding=(1, 1))\n",
              "    (22): ReLU(inplace=True)\n",
              "    (23): MaxPool2d(kernel_size=2, stride=2, padding=0, dilation=1, ceil_mode=False)\n",
              "    (24): Conv2d(512, 512, kernel_size=(3, 3), stride=(1, 1), padding=(1, 1))\n",
              "    (25): ReLU(inplace=True)\n",
              "    (26): Conv2d(512, 512, kernel_size=(3, 3), stride=(1, 1), padding=(1, 1))\n",
              "    (27): ReLU(inplace=True)\n",
              "    (28): Conv2d(512, 512, kernel_size=(3, 3), stride=(1, 1), padding=(1, 1))\n",
              "    (29): ReLU(inplace=True)\n",
              "    (30): MaxPool2d(kernel_size=2, stride=2, padding=0, dilation=1, ceil_mode=False)\n",
              "  )\n",
              "  (avgpool): AdaptiveAvgPool2d(output_size=(7, 7))\n",
              "  (classifier): Sequential(\n",
              "    (0): Linear(in_features=25088, out_features=4096, bias=True)\n",
              "    (1): ReLU(inplace=True)\n",
              "    (2): Dropout(p=0.5, inplace=False)\n",
              "    (3): Linear(in_features=4096, out_features=4096, bias=True)\n",
              "    (4): ReLU(inplace=True)\n",
              "    (5): Dropout(p=0.5, inplace=False)\n",
              "    (6): Linear(in_features=4096, out_features=1000, bias=True)\n",
              "  )\n",
              ")"
            ]
          },
          "metadata": {},
          "execution_count": 5
        }
      ]
    },
    {
      "cell_type": "markdown",
      "metadata": {
        "id": "kzVY3T71Z1e8"
      },
      "source": [
        "# 모델 형태를 포함하여 저장하고 불러오기\n",
        "- 모델 가중치 불러올 때, NN의 구조를 정의하기 위해 모델 클래스를 먼저 생성해야 했다.\n",
        "- 클래스의 구조를 모델과 함께 저장하고 싶으면 model.state_dict()가 아닌 model을 저장 함수에 전달한다.\n",
        "- Python pickle 모듈을 사용해 모델을 직렬화하므로 모델을 불러올 때 실제 클래스 정의를 적용한다."
      ]
    },
    {
      "cell_type": "code",
      "metadata": {
        "id": "88I-pUbMZgwL"
      },
      "source": [
        "torch.save(model, \"model.pth\")"
      ],
      "execution_count": 6,
      "outputs": []
    },
    {
      "cell_type": "code",
      "metadata": {
        "id": "hRvKZTKmaD9I"
      },
      "source": [
        "model = torch.load(\"model.pth\")"
      ],
      "execution_count": 7,
      "outputs": []
    },
    {
      "cell_type": "markdown",
      "metadata": {
        "id": "X9TqzK1ObD5t"
      },
      "source": [
        "# 모델을 ONNX로 내보내기\n",
        "- PyTorch 실행 그래프의 동적 특성 때문에 내보내는 과정에 ONNX 모델을 생성하기 위해 실행 그래프를 탐색해야한다.\n",
        "- 내보내기 단계에서는 적절한 크기의 테스트 변수를 전달해야한다.\n",
        "  - 예시에서는 올바른 크기의 dummy 0 텐서를 생성\n",
        "- [ONNX Tutorial](https://github.com/onnx/tutorials)"
      ]
    },
    {
      "cell_type": "code",
      "metadata": {
        "colab": {
          "base_uri": "https://localhost:8080/"
        },
        "id": "kHqM3eKyaGlg",
        "outputId": "8f2093f2-bb0f-4d5c-d776-a2f719a795bd"
      },
      "source": [
        "input_image = torch.zeros((1,3,244,244,))\n",
        "onnx.export(model, input_image, \"model.onnx\")"
      ],
      "execution_count": 8,
      "outputs": [
        {
          "output_type": "stream",
          "name": "stderr",
          "text": [
            "/usr/local/lib/python3.7/dist-packages/torch/nn/functional.py:718: UserWarning: Named tensors and all their associated APIs are an experimental feature and subject to change. Please do not use them for anything important until they are released as stable. (Triggered internally at  /pytorch/c10/core/TensorImpl.h:1156.)\n",
            "  return torch.max_pool2d(input, kernel_size, stride, padding, dilation, ceil_mode)\n"
          ]
        }
      ]
    },
    {
      "cell_type": "code",
      "metadata": {
        "id": "_3PuN3fRbjRs"
      },
      "source": [
        ""
      ],
      "execution_count": null,
      "outputs": []
    }
  ]
}