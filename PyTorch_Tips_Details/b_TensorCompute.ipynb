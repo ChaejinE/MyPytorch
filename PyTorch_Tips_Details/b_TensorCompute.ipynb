{
  "nbformat": 4,
  "nbformat_minor": 0,
  "metadata": {
    "colab": {
      "name": "b_TensorCompute",
      "provenance": [],
      "authorship_tag": "ABX9TyOMPUOmKxOpk9K+y+vV+QUm",
      "include_colab_link": true
    },
    "kernelspec": {
      "name": "python3",
      "display_name": "Python 3"
    },
    "language_info": {
      "name": "python"
    },
    "accelerator": "GPU"
  },
  "cells": [
    {
      "cell_type": "markdown",
      "metadata": {
        "id": "view-in-github",
        "colab_type": "text"
      },
      "source": [
        "<a href=\"https://colab.research.google.com/github/ChaejinE/MyPytorch/blob/main/PyTorch_Tips_Details/b_TensorCompute.ipynb\" target=\"_parent\"><img src=\"https://colab.research.google.com/assets/colab-badge.svg\" alt=\"Open In Colab\"/></a>"
      ]
    },
    {
      "cell_type": "code",
      "metadata": {
        "id": "3JbnI_teW-QY"
      },
      "source": [
        "import torch"
      ],
      "execution_count": 1,
      "outputs": []
    },
    {
      "cell_type": "code",
      "metadata": {
        "id": "gGvy7vJcXI6i"
      },
      "source": [
        "# vector\n",
        "v = torch.tensor([1,2,3.])\n",
        "w = torch.tensor([0, 10, 20])\n",
        "\n",
        "# matrix\n",
        "m = torch.tensor([ [0, 1, 2], [100, 200, 300.] ])"
      ],
      "execution_count": 2,
      "outputs": []
    },
    {
      "cell_type": "code",
      "metadata": {
        "colab": {
          "base_uri": "https://localhost:8080/"
        },
        "id": "xltHL8q3XVUg",
        "outputId": "8fa29dc3-fc66-44d5-ad13-016dda97e366"
      },
      "source": [
        "v2 = v + 10 # vector + scalar : 기본적으로 broadcasting을 한다.\n",
        "v2"
      ],
      "execution_count": 5,
      "outputs": [
        {
          "output_type": "execute_result",
          "data": {
            "text/plain": [
              "tensor([11., 12., 13.])"
            ]
          },
          "metadata": {},
          "execution_count": 5
        }
      ]
    },
    {
      "cell_type": "code",
      "metadata": {
        "colab": {
          "base_uri": "https://localhost:8080/"
        },
        "id": "xirZBhlbXX8_",
        "outputId": "20ff584f-5764-43b9-dcc7-253be8963334"
      },
      "source": [
        "v2 = v ** 2 # 제곱\n",
        "v2"
      ],
      "execution_count": 6,
      "outputs": [
        {
          "output_type": "execute_result",
          "data": {
            "text/plain": [
              "tensor([1., 4., 9.])"
            ]
          },
          "metadata": {},
          "execution_count": 6
        }
      ]
    },
    {
      "cell_type": "code",
      "metadata": {
        "colab": {
          "base_uri": "https://localhost:8080/"
        },
        "id": "VrHq2Rd-XfaM",
        "outputId": "f8cdc1ab-6058-4c4c-f22c-d11306f8d961"
      },
      "source": [
        "z = v - w # 동일 길이 벡터간 뺄셈\n",
        "z"
      ],
      "execution_count": 8,
      "outputs": [
        {
          "output_type": "execute_result",
          "data": {
            "text/plain": [
              "tensor([  1.,  -8., -17.])"
            ]
          },
          "metadata": {},
          "execution_count": 8
        }
      ]
    },
    {
      "cell_type": "code",
      "metadata": {
        "colab": {
          "base_uri": "https://localhost:8080/"
        },
        "id": "Tg_QmsaqXh0c",
        "outputId": "46d7e7d4-effb-466c-8c96-3dcdc1800e6c"
      },
      "source": [
        "u = 2 * v - w / 10 + 6.0\n",
        "u"
      ],
      "execution_count": 9,
      "outputs": [
        {
          "output_type": "execute_result",
          "data": {
            "text/plain": [
              "tensor([ 8.,  9., 10.])"
            ]
          },
          "metadata": {},
          "execution_count": 9
        }
      ]
    },
    {
      "cell_type": "code",
      "metadata": {
        "colab": {
          "base_uri": "https://localhost:8080/"
        },
        "id": "RUg3c-17XpmA",
        "outputId": "c261b800-20f3-43e4-e99d-25c19ce8bb5c"
      },
      "source": [
        "m2 = m * 2.0 # 행렬과 스칼라 곱 : 역시 기본적으로 broadcasting\n",
        "m2"
      ],
      "execution_count": 12,
      "outputs": [
        {
          "output_type": "execute_result",
          "data": {
            "text/plain": [
              "tensor([[  0.,   2.,   4.],\n",
              "        [200., 400., 600.]])"
            ]
          },
          "metadata": {},
          "execution_count": 12
        }
      ]
    },
    {
      "cell_type": "code",
      "metadata": {
        "colab": {
          "base_uri": "https://localhost:8080/"
        },
        "id": "iNtNj5g5Xt_C",
        "outputId": "f7f241b9-56d5-4618-8037-420b1ce3b370"
      },
      "source": [
        "m + v # 행렬 + vector : 역시 broadcasting"
      ],
      "execution_count": 13,
      "outputs": [
        {
          "output_type": "execute_result",
          "data": {
            "text/plain": [
              "tensor([[  1.,   3.,   5.],\n",
              "        [101., 202., 303.]])"
            ]
          },
          "metadata": {},
          "execution_count": 13
        }
      ]
    },
    {
      "cell_type": "code",
      "metadata": {
        "colab": {
          "base_uri": "https://localhost:8080/"
        },
        "id": "G6Mgt82aX738",
        "outputId": "c94490a0-b4e8-4821-efde-5b3ab5cdeca6"
      },
      "source": [
        "m + m # 행렬간 덧셈"
      ],
      "execution_count": 14,
      "outputs": [
        {
          "output_type": "execute_result",
          "data": {
            "text/plain": [
              "tensor([[  0.,   2.,   4.],\n",
              "        [200., 400., 600.]])"
            ]
          },
          "metadata": {},
          "execution_count": 14
        }
      ]
    },
    {
      "cell_type": "code",
      "metadata": {
        "id": "lnUjXRCNYF3l"
      },
      "source": [
        ""
      ],
      "execution_count": null,
      "outputs": []
    }
  ]
}