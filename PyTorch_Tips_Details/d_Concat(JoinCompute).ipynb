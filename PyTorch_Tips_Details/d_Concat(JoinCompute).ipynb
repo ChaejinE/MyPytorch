{
  "nbformat": 4,
  "nbformat_minor": 0,
  "metadata": {
    "colab": {
      "name": "d_Concat(JoinCompute)",
      "provenance": [],
      "authorship_tag": "ABX9TyOX0hZIFz0U7MTiCPE/WOxN",
      "include_colab_link": true
    },
    "kernelspec": {
      "name": "python3",
      "display_name": "Python 3"
    },
    "language_info": {
      "name": "python"
    },
    "accelerator": "GPU"
  },
  "cells": [
    {
      "cell_type": "markdown",
      "metadata": {
        "id": "view-in-github",
        "colab_type": "text"
      },
      "source": [
        "<a href=\"https://colab.research.google.com/github/ChaejinE/MyPytorch/blob/main/PyTorch_Tips_Details/d_Concat(JoinCompute).ipynb\" target=\"_parent\"><img src=\"https://colab.research.google.com/assets/colab-badge.svg\" alt=\"Open In Colab\"/></a>"
      ]
    },
    {
      "cell_type": "code",
      "metadata": {
        "id": "Hesct9uKkRgF"
      },
      "source": [
        "import torch"
      ],
      "execution_count": 1,
      "outputs": []
    },
    {
      "cell_type": "markdown",
      "metadata": {
        "id": "9DAtBYjGk5XH"
      },
      "source": [
        "# concatenate 연산\n",
        "- dim : concatenate할 방향(축)을 정할 수 있다."
      ]
    },
    {
      "cell_type": "code",
      "metadata": {
        "id": "xOUpK4tuka9w"
      },
      "source": [
        "x = torch.cuda.FloatTensor([[1, 2, 3], [4, 5, 6]])\n",
        "y = torch.cuda.FloatTensor([[-1, -2, -3], [-4, -5, -6]])"
      ],
      "execution_count": 3,
      "outputs": []
    },
    {
      "cell_type": "code",
      "metadata": {
        "colab": {
          "base_uri": "https://localhost:8080/"
        },
        "id": "NEr66eL1korZ",
        "outputId": "6a410b4b-e4aa-44dc-a222-1ed4ba4cfda9"
      },
      "source": [
        "z1 = torch.cat([x, y], dim=0)\n",
        "z1"
      ],
      "execution_count": 4,
      "outputs": [
        {
          "output_type": "execute_result",
          "data": {
            "text/plain": [
              "tensor([[ 1.,  2.,  3.],\n",
              "        [ 4.,  5.,  6.],\n",
              "        [-1., -2., -3.],\n",
              "        [-4., -5., -6.]], device='cuda:0')"
            ]
          },
          "metadata": {},
          "execution_count": 4
        }
      ]
    },
    {
      "cell_type": "code",
      "metadata": {
        "colab": {
          "base_uri": "https://localhost:8080/"
        },
        "id": "rKb4JbaRkvhY",
        "outputId": "e75efe42-2fa2-456d-8f36-886f0912b916"
      },
      "source": [
        "z2 = torch.cat([x, y], dim=1)\n",
        "z2"
      ],
      "execution_count": 5,
      "outputs": [
        {
          "output_type": "execute_result",
          "data": {
            "text/plain": [
              "tensor([[ 1.,  2.,  3., -1., -2., -3.],\n",
              "        [ 4.,  5.,  6., -4., -5., -6.]], device='cuda:0')"
            ]
          },
          "metadata": {},
          "execution_count": 5
        }
      ]
    },
    {
      "cell_type": "markdown",
      "metadata": {
        "id": "GHsCmKLyk_A-"
      },
      "source": [
        "- stack을 통해서도 concatenate할 수 있다."
      ]
    },
    {
      "cell_type": "code",
      "metadata": {
        "colab": {
          "base_uri": "https://localhost:8080/"
        },
        "id": "h1SRfbfTk16-",
        "outputId": "d3534a24-b0b9-437a-df96-b2298b52473f"
      },
      "source": [
        "x = torch.FloatTensor([[1, 2, 3], [4, 5, 6]])\n",
        "x_stack = torch.stack([x, x, x, x], dim=0) # stack은 새로운 차원축을 따라서 stack한다. ((2, 2)들을 stack -> (1, 2, 2))\n",
        "x_stack"
      ],
      "execution_count": 7,
      "outputs": [
        {
          "output_type": "execute_result",
          "data": {
            "text/plain": [
              "tensor([[[1., 2., 3.],\n",
              "         [4., 5., 6.]],\n",
              "\n",
              "        [[1., 2., 3.],\n",
              "         [4., 5., 6.]],\n",
              "\n",
              "        [[1., 2., 3.],\n",
              "         [4., 5., 6.]],\n",
              "\n",
              "        [[1., 2., 3.],\n",
              "         [4., 5., 6.]]])"
            ]
          },
          "metadata": {},
          "execution_count": 7
        }
      ]
    },
    {
      "cell_type": "code",
      "metadata": {
        "colab": {
          "base_uri": "https://localhost:8080/"
        },
        "id": "f0iqubHIlK0Z",
        "outputId": "8859d73c-cd66-4ad5-8594-eec0ae6b6089"
      },
      "source": [
        "b, h, w = x_stack.size()\n",
        "print(x_stack.size())\n",
        "print(b, h, w)"
      ],
      "execution_count": 10,
      "outputs": [
        {
          "output_type": "stream",
          "name": "stdout",
          "text": [
            "torch.Size([4, 2, 3])\n",
            "4 2 3\n"
          ]
        }
      ]
    },
    {
      "cell_type": "code",
      "metadata": {
        "id": "_4W4BAfylfCA"
      },
      "source": [
        ""
      ],
      "execution_count": null,
      "outputs": []
    }
  ]
}