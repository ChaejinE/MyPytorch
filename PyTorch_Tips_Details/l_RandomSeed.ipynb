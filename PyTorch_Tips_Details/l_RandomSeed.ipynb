{
  "nbformat": 4,
  "nbformat_minor": 0,
  "metadata": {
    "colab": {
      "name": "l_RandomSeed",
      "provenance": [],
      "authorship_tag": "ABX9TyM0xCCPD7fKlNgh+tbegZCp",
      "include_colab_link": true
    },
    "kernelspec": {
      "name": "python3",
      "display_name": "Python 3"
    },
    "language_info": {
      "name": "python"
    },
    "accelerator": "GPU"
  },
  "cells": [
    {
      "cell_type": "markdown",
      "metadata": {
        "id": "view-in-github",
        "colab_type": "text"
      },
      "source": [
        "<a href=\"https://colab.research.google.com/github/ChaejinE/MyPytorch/blob/main/PyTorch_Tips_Details/l_RandomSeed.ipynb\" target=\"_parent\"><img src=\"https://colab.research.google.com/assets/colab-badge.svg\" alt=\"Open In Colab\"/></a>"
      ]
    },
    {
      "cell_type": "code",
      "metadata": {
        "id": "zcwywYe0LPYI"
      },
      "source": [
        "import torch"
      ],
      "execution_count": 1,
      "outputs": []
    },
    {
      "cell_type": "markdown",
      "metadata": {
        "id": "kmYwvwy1LWKo"
      },
      "source": [
        "# 재현을 위한 Random Seed값 고정\n",
        "- Pytorch에서 코드를 재현하기 위해서는 Random Seed 값을 고정해줘야한다.\n",
        "  - python, numpy, Pytorch의 seed 수동 설정\n",
        "  - cudnn 설정\n",
        "\n",
        "## torch.backends.cudnn.benchmark = False\n",
        "- 이 옵션을 통해 cudnn이 하드웨어에 따라 최적화 알고리즘을 사용한다고 한다.\n",
        "- 하드웨어의 상태에 따라 알고리즘이 다르므로 재현을 위해서는 옵션을 꺼준다.\n",
        "- [Reference](https://discuss.pytorch.org/t/what-does-torch-backends-cudnn-benchmark-do/5936/2)\n",
        "## torch.backend.cudnn.deterministic = True\n",
        "- cudnn에서 같은 input에 대해 재현 가능하도록 만들어 준다.\n",
        "- [Reference](https://discuss.pytorch.org/t/what-is-the-differenc-between-cudnn-deterministic-and-cudnn-benchmark/38054/2)\n",
        "---\n",
        "cudnn에 관한 2가지 옵션을 동시에 사용하면 된다.\n"
      ]
    },
    {
      "cell_type": "code",
      "metadata": {
        "id": "whOAkgQiMWz-"
      },
      "source": [
        "import numpy as np\n",
        "import random\n",
        "\n",
        "seed = 1\n",
        "torch.manual_seed(seed)\n",
        "np.random.seed(seed)\n",
        "random.seed(seed)\n",
        "torch.cuda.manual_seed(seed)\n",
        "torch.cuda.manual_seed_all(seed)\n",
        "torch.backends.cudnn.benchmark = False\n",
        "torch.backends.cudnn.deterministic = True"
      ],
      "execution_count": 4,
      "outputs": []
    },
    {
      "cell_type": "code",
      "metadata": {
        "id": "Q-HyUjYIMlWI"
      },
      "source": [
        ""
      ],
      "execution_count": null,
      "outputs": []
    }
  ]
}