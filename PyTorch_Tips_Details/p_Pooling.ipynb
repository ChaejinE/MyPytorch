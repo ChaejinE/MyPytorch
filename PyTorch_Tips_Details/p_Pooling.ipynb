{
  "nbformat": 4,
  "nbformat_minor": 0,
  "metadata": {
    "colab": {
      "name": "p_Pooling",
      "provenance": [],
      "authorship_tag": "ABX9TyMCJdGUpCKsZuqr6KerRJKi",
      "include_colab_link": true
    },
    "kernelspec": {
      "name": "python3",
      "display_name": "Python 3"
    },
    "language_info": {
      "name": "python"
    },
    "accelerator": "GPU"
  },
  "cells": [
    {
      "cell_type": "markdown",
      "metadata": {
        "id": "view-in-github",
        "colab_type": "text"
      },
      "source": [
        "<a href=\"https://colab.research.google.com/github/ChaejinE/MyPytorch/blob/main/PyTorch_Tips_Details/p_Pooling.ipynb\" target=\"_parent\"><img src=\"https://colab.research.google.com/assets/colab-badge.svg\" alt=\"Open In Colab\"/></a>"
      ]
    },
    {
      "cell_type": "code",
      "metadata": {
        "id": "p-_u2yzNn1ka"
      },
      "source": [
        "import torch"
      ],
      "execution_count": 1,
      "outputs": []
    },
    {
      "cell_type": "markdown",
      "metadata": {
        "id": "QuEPXbWQoE0M"
      },
      "source": [
        "# nn.AvgPool2d vs nn.AdaptiveAvgPool2d\n",
        "- AvgPool2d에서는 pooling 작업에 대한 kernel, stride를 정의해야 동작\n",
        "- AdaptiveAvgPool2d에서는 Pooling 작업이 끝날 때 필요한 출력 크기 정의\n",
        "  - 출력 크기 3x3인 경우 AdaptivePool2d는 5x5, 7x7텐서 모두를 3x3 텐서로 줄인다.\n",
        "  - 이 기능은 입력 크기에 변동이 있고 CNN 상단에서 FC-layer를 사용하는 경우 유용하다."
      ]
    },
    {
      "cell_type": "code",
      "metadata": {
        "id": "6Sko8ZzRoDj8"
      },
      "source": [
        "import torch.nn as nn"
      ],
      "execution_count": 2,
      "outputs": []
    },
    {
      "cell_type": "code",
      "metadata": {
        "colab": {
          "base_uri": "https://localhost:8080/"
        },
        "id": "b6O2dt3tn5xH",
        "outputId": "6cfcce09-ec03-4d8e-bebe-d192efd57117"
      },
      "source": [
        "m = nn.AvgPool2d(3, stride=2)\n",
        "m"
      ],
      "execution_count": 4,
      "outputs": [
        {
          "output_type": "execute_result",
          "data": {
            "text/plain": [
              "AvgPool2d(kernel_size=3, stride=2, padding=0)"
            ]
          },
          "metadata": {},
          "execution_count": 4
        }
      ]
    },
    {
      "cell_type": "code",
      "metadata": {
        "colab": {
          "base_uri": "https://localhost:8080/"
        },
        "id": "MdDAqnrqoqoC",
        "outputId": "8f857976-945b-4030-ddca-11f754e38a01"
      },
      "source": [
        "m = nn.AvgPool2d((3, 2), stride=(2, 1))\n",
        "input = torch.randn(20, 16, 50, 32)\n",
        "output = m(input)\n",
        "output.shape"
      ],
      "execution_count": 6,
      "outputs": [
        {
          "output_type": "execute_result",
          "data": {
            "text/plain": [
              "torch.Size([20, 16, 24, 31])"
            ]
          },
          "metadata": {},
          "execution_count": 6
        }
      ]
    },
    {
      "cell_type": "code",
      "metadata": {
        "colab": {
          "base_uri": "https://localhost:8080/"
        },
        "id": "X0gV3Gtlo3Pl",
        "outputId": "73df69d5-7735-4cb0-be1d-389ddb2749eb"
      },
      "source": [
        "m = nn.AdaptiveAvgPool2d((5, 7))\n",
        "input = torch.randn(1, 64, 8, 9)\n",
        "output = m(input)\n",
        "output.size()"
      ],
      "execution_count": 7,
      "outputs": [
        {
          "output_type": "execute_result",
          "data": {
            "text/plain": [
              "torch.Size([1, 64, 5, 7])"
            ]
          },
          "metadata": {},
          "execution_count": 7
        }
      ]
    },
    {
      "cell_type": "code",
      "metadata": {
        "colab": {
          "base_uri": "https://localhost:8080/"
        },
        "id": "Y8TX5ej5pELy",
        "outputId": "1e3b5a98-80d4-4458-c331-90f4e72d454a"
      },
      "source": [
        "m = nn.AdaptiveAvgPool2d(7)\n",
        "input = torch.randn(1, 64, 10, 9)\n",
        "output = m(input)\n",
        "output.size()"
      ],
      "execution_count": 8,
      "outputs": [
        {
          "output_type": "execute_result",
          "data": {
            "text/plain": [
              "torch.Size([1, 64, 7, 7])"
            ]
          },
          "metadata": {},
          "execution_count": 8
        }
      ]
    },
    {
      "cell_type": "code",
      "metadata": {
        "colab": {
          "base_uri": "https://localhost:8080/"
        },
        "id": "8ab5Nx6hpK_P",
        "outputId": "0f028891-08c6-4211-e90a-a13ff79dd613"
      },
      "source": [
        "m = nn.AdaptiveAvgPool2d((None, 7))\n",
        "input = torch.randn(1, 64, 10, 9)\n",
        "output = m(input)\n",
        "output.size()"
      ],
      "execution_count": 9,
      "outputs": [
        {
          "output_type": "execute_result",
          "data": {
            "text/plain": [
              "torch.Size([1, 64, 10, 7])"
            ]
          },
          "metadata": {},
          "execution_count": 9
        }
      ]
    },
    {
      "cell_type": "markdown",
      "metadata": {
        "id": "B_yhW_35pgvP"
      },
      "source": [
        "## AdaptiveAvgPool2d 작동 원리\n",
        "![image](https://user-images.githubusercontent.com/69780812/140708428-f811c93f-12c3-4ad9-90ad-e01164890bee.png)\n",
        "- 이 식에 맞춰서 커널의 사이즈가 정해진다.\n",
        "\n",
        "```python\n",
        "tensor([[[[(1+2+4+5)/4., (2+3+5+6)/4.],     = tensor([[[[3., 4.],\n",
        "          [(4+5+7+8)/4., (5+6+8+9)/4.]]]])              [6., 7.]]]])\n",
        "```\n",
        "- 이 경우 출력 사이즈가 (3, 3) -> (2, 2)로 고정되어있어 kernel의 크기는 (2, 2)로 자동적으로 정해진다."
      ]
    },
    {
      "cell_type": "code",
      "metadata": {
        "colab": {
          "base_uri": "https://localhost:8080/"
        },
        "id": "RR-pPCVPpSy-",
        "outputId": "27dcf18d-0b72-49ae-e813-a073fb074dc9"
      },
      "source": [
        "# AdaptiveAvgPool2d 작동 원리\n",
        "input = torch.tensor([[[[1,2.,3], [4,5,6], [7,8,9]]]], dtype = torch.float)\n",
        "print(input.shape)\n",
        "output = nn.AdaptiveAvgPool2d((2, 2))(input)\n",
        "output"
      ],
      "execution_count": 12,
      "outputs": [
        {
          "output_type": "stream",
          "name": "stdout",
          "text": [
            "torch.Size([1, 1, 3, 3])\n"
          ]
        },
        {
          "output_type": "execute_result",
          "data": {
            "text/plain": [
              "tensor([[[[3., 4.],\n",
              "          [6., 7.]]]])"
            ]
          },
          "metadata": {},
          "execution_count": 12
        }
      ]
    },
    {
      "cell_type": "code",
      "metadata": {
        "id": "3ulqVf3bpdZt"
      },
      "source": [
        ""
      ],
      "execution_count": null,
      "outputs": []
    }
  ]
}