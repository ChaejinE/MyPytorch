{
  "nbformat": 4,
  "nbformat_minor": 0,
  "metadata": {
    "colab": {
      "name": "i_PyTorchSettings",
      "provenance": [],
      "authorship_tag": "ABX9TyMBgrOnAAGbiGWFUL2RoigB",
      "include_colab_link": true
    },
    "kernelspec": {
      "name": "python3",
      "display_name": "Python 3"
    },
    "language_info": {
      "name": "python"
    },
    "accelerator": "GPU"
  },
  "cells": [
    {
      "cell_type": "markdown",
      "metadata": {
        "id": "view-in-github",
        "colab_type": "text"
      },
      "source": [
        "<a href=\"https://colab.research.google.com/github/ChaejinE/MyPytorch/blob/main/PyTorch_Tips_Details/i_PyTorchSettings.ipynb\" target=\"_parent\"><img src=\"https://colab.research.google.com/assets/colab-badge.svg\" alt=\"Open In Colab\"/></a>"
      ]
    },
    {
      "cell_type": "markdown",
      "metadata": {
        "id": "YjyH6jnQbnMo"
      },
      "source": [
        "# Import 모음"
      ]
    },
    {
      "cell_type": "code",
      "metadata": {
        "id": "AeHiKy6zZ6gj"
      },
      "source": [
        "import torch\n",
        "import torchvision\n",
        "import torch.nn as nn # neural network 모음. (e.g. nn.Linear, nn.Conv2d, BatchNorm, Loss functions 등등)\n",
        "import torch.optim as optim # Optimization algorithm 모음, (e.g. SGD, Adam, 등등)\n",
        "import torch.nn.functional as F # 파라미터가 필요없는 Function 모음\n",
        "from torch.utils.data import DataLoader # 데이터 세트 관리 및 미니 배치 생성을 위한 함수 모음\n",
        "import torchvision.datasets as datasets # 표준 데이터 세트 모음\n",
        "import torchvision.transforms as transforms # 데이터 세트에 적용 할 수있는 변환 관련 함수 모음\n",
        "from torch.utils.tensorboard import SummaryWriter # tensorboard에 출력하기 위한 함수 모음\n",
        "import torch.backends.cudnn as cudnn # cudnn을 다루기 위한 값 모음\n",
        "\n",
        "from torchsummary import summary # summary를 통한 model의 현황을 확인 하기 위함\n",
        "import torch.onnx # model을 onnx 로 변환하기 위함"
      ],
      "execution_count": 1,
      "outputs": []
    },
    {
      "cell_type": "markdown",
      "metadata": {
        "id": "VjYPGmu5bqFY"
      },
      "source": [
        "# PyTorch Setting 관련 코드\n",
        "```python\n",
        "torch.manual_seed(seed)\n",
        "```\n",
        "- pytorch 내부적으로 사용하는 seed 값 Setting\n",
        "\n",
        "```python\n",
        "torch.cuda.manual_seed(seed)\n",
        "```\n",
        "- cuda 사용할 경우 pytorch 내부적으로 사용하는 seed Setting"
      ]
    },
    {
      "cell_type": "markdown",
      "metadata": {
        "id": "rBpxD3lHcPur"
      },
      "source": [
        "# GPU Setting 관련 코드"
      ]
    },
    {
      "cell_type": "code",
      "metadata": {
        "colab": {
          "base_uri": "https://localhost:8080/"
        },
        "id": "E7mHUNk5bbeV",
        "outputId": "05e15e79-4b7f-43e2-f8b4-bb750d3ed60b"
      },
      "source": [
        "torch.cuda.is_available() #  cuda 사용 가능한지 확인"
      ],
      "execution_count": 2,
      "outputs": [
        {
          "output_type": "execute_result",
          "data": {
            "text/plain": [
              "True"
            ]
          },
          "metadata": {},
          "execution_count": 2
        }
      ]
    },
    {
      "cell_type": "code",
      "metadata": {
        "id": "i-sAtq3VcUOo"
      },
      "source": [
        "device = torch.device(\"cuda\" if torch.cuda.is_available() else \"cpu\")\n",
        "# cuda 사용 가능 시 device에 \"cuda\" 저장\n",
        "# 불가능하면 \"cpu\" 저장"
      ],
      "execution_count": 3,
      "outputs": []
    },
    {
      "cell_type": "code",
      "metadata": {
        "id": "qLY18p_Rce0p"
      },
      "source": [
        "import os\n",
        "os.environ[\"CUDA_VISIBLE_DEVICES\"] = \"0, 1, 2\"\n",
        "# Multi GPU 사용 시 가능한 GPU 셋팅\n",
        "# 0, 1, 2 GPU 3개가 있으면 위와 같이 설정가능, 특정해서 지정해도됨"
      ],
      "execution_count": 4,
      "outputs": []
    },
    {
      "cell_type": "code",
      "metadata": {
        "colab": {
          "base_uri": "https://localhost:8080/"
        },
        "id": "2Hs78uOuclet",
        "outputId": "1a237791-754d-4df5-cf47-0e7298b0a16f"
      },
      "source": [
        "torch.cuda.device_count()\n",
        "# 현재 사용 가능한 GPU 사용 갯수 확인"
      ],
      "execution_count": 5,
      "outputs": [
        {
          "output_type": "execute_result",
          "data": {
            "text/plain": [
              "1"
            ]
          },
          "metadata": {},
          "execution_count": 5
        }
      ]
    },
    {
      "cell_type": "code",
      "metadata": {
        "id": "89aqGffTcytq"
      },
      "source": [
        "os.environ[\"CUDA_VISIBLE_DEVICES\"] = \",\".join(list(map(str, list(range(torch.cuda.device_count()))))) \n",
        "# 사용 가능한 device 개수 맞춰서 0번 부터 GPU 할당"
      ],
      "execution_count": 6,
      "outputs": []
    },
    {
      "cell_type": "markdown",
      "metadata": {
        "id": "utAVRntQqehA"
      },
      "source": [
        "- cudnn을 사용하도록 설정\n",
        "- GPU 사용 시 기본 값 True"
      ]
    },
    {
      "cell_type": "code",
      "metadata": {
        "id": "Zs7-VOBNdDfV"
      },
      "source": [
        "import torch.backends.cudnn as cudnn"
      ],
      "execution_count": 7,
      "outputs": []
    },
    {
      "cell_type": "code",
      "metadata": {
        "colab": {
          "base_uri": "https://localhost:8080/"
        },
        "id": "4MDSJm3cqoM7",
        "outputId": "37265997-e240-44aa-bd9f-3e7586b28df3"
      },
      "source": [
        "cudnn.enabled # cudnn.enabled = True"
      ],
      "execution_count": 9,
      "outputs": [
        {
          "output_type": "execute_result",
          "data": {
            "text/plain": [
              "True"
            ]
          },
          "metadata": {},
          "execution_count": 9
        }
      ]
    },
    {
      "cell_type": "code",
      "metadata": {
        "id": "Fqnmgl1kqqTa"
      },
      "source": [
        "cudnn.benchmark = True # inbuilt cudnn auto-tuner가 사용중이 하드웨어에 가장 적합한 알고리즘을 선택하도록 허용"
      ],
      "execution_count": 10,
      "outputs": []
    },
    {
      "cell_type": "markdown",
      "metadata": {
        "id": "Ek8lFT1aq4Us"
      },
      "source": [
        "- GPU Device의 사용 가능한 메모리 확인 (코드로)"
      ]
    },
    {
      "cell_type": "code",
      "metadata": {
        "colab": {
          "base_uri": "https://localhost:8080/"
        },
        "id": "nMP2aMjaq0sI",
        "outputId": "0698e7cd-2747-4ffa-af2b-703e4dcad497"
      },
      "source": [
        "torch.cuda.get_device_properties(\"cuda:0\").total_memory"
      ],
      "execution_count": 11,
      "outputs": [
        {
          "output_type": "execute_result",
          "data": {
            "text/plain": [
              "11996954624"
            ]
          },
          "metadata": {},
          "execution_count": 11
        }
      ]
    },
    {
      "cell_type": "markdown",
      "metadata": {
        "id": "WEiFhGe4rJMY"
      },
      "source": [
        "- Multi GPU 사용 시 전체 사용 가능한 GPU 메모리 확인"
      ]
    },
    {
      "cell_type": "code",
      "metadata": {
        "colab": {
          "base_uri": "https://localhost:8080/"
        },
        "id": "uCZau4EMrC5M",
        "outputId": "13596c29-0a79-462a-863f-72a8069774af"
      },
      "source": [
        "gpu_ids = list(map(str, list(range(torch.cuda.device_count()))))\n",
        "gpu_ids"
      ],
      "execution_count": 14,
      "outputs": [
        {
          "output_type": "execute_result",
          "data": {
            "text/plain": [
              "['0']"
            ]
          },
          "metadata": {},
          "execution_count": 14
        }
      ]
    },
    {
      "cell_type": "code",
      "metadata": {
        "colab": {
          "base_uri": "https://localhost:8080/"
        },
        "id": "MoOcBjA9rRPL",
        "outputId": "5f5f95ab-ab88-43ad-e669-ece5cc6b791f"
      },
      "source": [
        "total_gpu_memory = 0\n",
        "for gpu_id in gpu_ids:\n",
        "    total_gpu_memory += torch.cuda.get_device_properties(\"cuda:\" + gpu_id).total_memory\n",
        "total_gpu_memory"
      ],
      "execution_count": 18,
      "outputs": [
        {
          "output_type": "execute_result",
          "data": {
            "text/plain": [
              "11996954624"
            ]
          },
          "metadata": {},
          "execution_count": 18
        }
      ]
    },
    {
      "cell_type": "code",
      "metadata": {
        "id": "EvIJZxj8reYb"
      },
      "source": [
        ""
      ],
      "execution_count": null,
      "outputs": []
    }
  ]
}