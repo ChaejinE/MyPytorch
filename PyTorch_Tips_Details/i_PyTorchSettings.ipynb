{
  "nbformat": 4,
  "nbformat_minor": 0,
  "metadata": {
    "colab": {
      "name": "i_PyTorchSettings",
      "provenance": [],
      "authorship_tag": "ABX9TyNi63A/TaHLRf9YuClyoqSz",
      "include_colab_link": true
    },
    "kernelspec": {
      "name": "python3",
      "display_name": "Python 3"
    },
    "language_info": {
      "name": "python"
    },
    "accelerator": "GPU"
  },
  "cells": [
    {
      "cell_type": "markdown",
      "metadata": {
        "id": "view-in-github",
        "colab_type": "text"
      },
      "source": [
        "<a href=\"https://colab.research.google.com/github/ChaejinE/MyPytorch/blob/main/PyTorch_Tips_Details/i_PyTorchSettings.ipynb\" target=\"_parent\"><img src=\"https://colab.research.google.com/assets/colab-badge.svg\" alt=\"Open In Colab\"/></a>"
      ]
    },
    {
      "cell_type": "markdown",
      "metadata": {
        "id": "YjyH6jnQbnMo"
      },
      "source": [
        "# Import 모음"
      ]
    },
    {
      "cell_type": "code",
      "metadata": {
        "id": "AeHiKy6zZ6gj"
      },
      "source": [
        "import torch\n",
        "import torchvision\n",
        "import torch.nn as nn # neural network 모음. (e.g. nn.Linear, nn.Conv2d, BatchNorm, Loss functions 등등)\n",
        "import torch.optim as optim # Optimization algorithm 모음, (e.g. SGD, Adam, 등등)\n",
        "import torch.nn.functional as F # 파라미터가 필요없는 Function 모음\n",
        "from torch.utils.data import DataLoader # 데이터 세트 관리 및 미니 배치 생성을 위한 함수 모음\n",
        "import torchvision.datasets as datasets # 표준 데이터 세트 모음\n",
        "import torchvision.transforms as transforms # 데이터 세트에 적용 할 수있는 변환 관련 함수 모음\n",
        "from torch.utils.tensorboard import SummaryWriter # tensorboard에 출력하기 위한 함수 모음\n",
        "import torch.backends.cudnn as cudnn # cudnn을 다루기 위한 값 모음\n",
        "\n",
        "from torchsummary import summary # summary를 통한 model의 현황을 확인 하기 위함\n",
        "import torch.onnx # model을 onnx 로 변환하기 위함"
      ],
      "execution_count": 1,
      "outputs": []
    },
    {
      "cell_type": "markdown",
      "metadata": {
        "id": "VjYPGmu5bqFY"
      },
      "source": [
        "# PyTorch Setting 관련 코드\n",
        "```python\n",
        "torch.manual_seed(seed)\n",
        "```\n",
        "- pytorch 내부적으로 사용하는 seed 값 Setting\n",
        "\n",
        "```python\n",
        "torch.cuda.manual_seed(seed)\n",
        "```\n",
        "- cuda 사용할 경우 pytorch 내부적으로 사용하는 seed Setting"
      ]
    },
    {
      "cell_type": "markdown",
      "metadata": {
        "id": "rBpxD3lHcPur"
      },
      "source": [
        "# GPU Setting 관련 코드"
      ]
    },
    {
      "cell_type": "code",
      "metadata": {
        "colab": {
          "base_uri": "https://localhost:8080/"
        },
        "id": "E7mHUNk5bbeV",
        "outputId": "24fa4d6b-e8f9-4660-e3ff-2b1123307995"
      },
      "source": [
        "torch.cuda.is_available() #  cuda 사용 가능한지 확인"
      ],
      "execution_count": 2,
      "outputs": [
        {
          "output_type": "execute_result",
          "data": {
            "text/plain": [
              "True"
            ]
          },
          "metadata": {},
          "execution_count": 2
        }
      ]
    },
    {
      "cell_type": "code",
      "metadata": {
        "id": "i-sAtq3VcUOo"
      },
      "source": [
        "device = torch.device(\"cuda\" if torch.cuda.is_available() else \"cpu\")\n",
        "# cuda 사용 가능 시 device에 \"cuda\" 저장\n",
        "# 불가능하면 \"cpu\" 저장"
      ],
      "execution_count": 3,
      "outputs": []
    },
    {
      "cell_type": "code",
      "metadata": {
        "id": "qLY18p_Rce0p"
      },
      "source": [
        "import os\n",
        "os.environ[\"CUDA_VISIBLE_DEVICES\"] = \"0, 1, 2\"\n",
        "# Multi GPU 사용 시 가능한 GPU 셋팅\n",
        "# 0, 1, 2 GPU 3개가 있으면 위와 같이 설정가능, 특정해서 지정해도됨"
      ],
      "execution_count": 6,
      "outputs": []
    },
    {
      "cell_type": "code",
      "metadata": {
        "colab": {
          "base_uri": "https://localhost:8080/"
        },
        "id": "2Hs78uOuclet",
        "outputId": "60040871-34dd-41bc-ee1d-55c614a5a3c7"
      },
      "source": [
        "torch.cuda.device_count()\n",
        "# 현재 사용 가능한 GPU 사용 갯수 확인"
      ],
      "execution_count": 8,
      "outputs": [
        {
          "output_type": "execute_result",
          "data": {
            "text/plain": [
              "1"
            ]
          },
          "metadata": {},
          "execution_count": 8
        }
      ]
    },
    {
      "cell_type": "code",
      "metadata": {
        "id": "89aqGffTcytq"
      },
      "source": [
        "os.environ[\"CUDA_VISIBLE_DEVICES\"] = \",\".join(list(map(str, list(range(torch.cuda.device_count()))))) \n",
        "# 사용 가능한 device 개수 맞춰서 0번 부터 GPU 할당"
      ],
      "execution_count": 9,
      "outputs": []
    },
    {
      "cell_type": "code",
      "metadata": {
        "id": "Zs7-VOBNdDfV"
      },
      "source": [
        ""
      ],
      "execution_count": null,
      "outputs": []
    }
  ]
}