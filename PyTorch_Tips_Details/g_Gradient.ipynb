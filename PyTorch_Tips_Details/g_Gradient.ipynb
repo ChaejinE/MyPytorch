{
  "nbformat": 4,
  "nbformat_minor": 0,
  "metadata": {
    "colab": {
      "name": "g_Gradient",
      "provenance": [],
      "authorship_tag": "ABX9TyPjBgvD7rgoIjQ+7INsTO3Z",
      "include_colab_link": true
    },
    "kernelspec": {
      "name": "python3",
      "display_name": "Python 3"
    },
    "language_info": {
      "name": "python"
    },
    "accelerator": "GPU"
  },
  "cells": [
    {
      "cell_type": "markdown",
      "metadata": {
        "id": "view-in-github",
        "colab_type": "text"
      },
      "source": [
        "<a href=\"https://colab.research.google.com/github/ChaejinE/MyPytorch/blob/main/PyTorch_Tips_Details/g_Gradient.ipynb\" target=\"_parent\"><img src=\"https://colab.research.google.com/assets/colab-badge.svg\" alt=\"Open In Colab\"/></a>"
      ]
    },
    {
      "cell_type": "code",
      "metadata": {
        "id": "AGbuNHsuLWZk"
      },
      "source": [
        "import torch"
      ],
      "execution_count": 1,
      "outputs": []
    },
    {
      "cell_type": "markdown",
      "metadata": {
        "id": "IBp-M7v_Lt3v"
      },
      "source": [
        "# Autograd 사용 방법\n",
        "## Autograd\n",
        "- 자동 미분 (Auto differentitation)을 이용해 Gradient 계산\n",
        "\n",
        "## 만족되어야 하는 조건\n",
        "1. tensor option이 requires_grad = True로 되어있어야 한다. (**Default가 False**)\n",
        "2. backpropagation 시작 지점의 output은 scalar 형태여야한다.\n",
        "\n",
        "## tensor의 gradient 구하는 방법 \n",
        "- backpropagtion 시작 지점의 tensor에서 .backward()함수 호출\n",
        "\n",
        "## gradient 값 확인\n",
        "- requries_grad = True인 Tensor에서 .grad 통해 확인"
      ]
    },
    {
      "cell_type": "code",
      "metadata": {
        "colab": {
          "base_uri": "https://localhost:8080/"
        },
        "id": "UsEmho8FLedi",
        "outputId": "5fe1afff-bff8-45de-d1fc-175d1cb55fcd"
      },
      "source": [
        "x1 = torch.ones(2, 2)\n",
        "x1"
      ],
      "execution_count": 2,
      "outputs": [
        {
          "output_type": "execute_result",
          "data": {
            "text/plain": [
              "tensor([[1., 1.],\n",
              "        [1., 1.]])"
            ]
          },
          "metadata": {},
          "execution_count": 2
        }
      ]
    },
    {
      "cell_type": "code",
      "metadata": {
        "colab": {
          "base_uri": "https://localhost:8080/"
        },
        "id": "Lm-GnY1SMnT3",
        "outputId": "8ba1cc64-550a-4763-d979-f3af9c045452"
      },
      "source": [
        "x2 = torch.ones(2, 2, requires_grad=True)\n",
        "x2"
      ],
      "execution_count": 3,
      "outputs": [
        {
          "output_type": "execute_result",
          "data": {
            "text/plain": [
              "tensor([[1., 1.],\n",
              "        [1., 1.]], requires_grad=True)"
            ]
          },
          "metadata": {},
          "execution_count": 3
        }
      ]
    },
    {
      "cell_type": "code",
      "metadata": {
        "colab": {
          "base_uri": "https://localhost:8080/"
        },
        "id": "fcAGJ17wMrMw",
        "outputId": "ae2176d8-50ef-4932-e497-dea8ee4420fa"
      },
      "source": [
        "y1 = x1 + 2\n",
        "y1"
      ],
      "execution_count": 4,
      "outputs": [
        {
          "output_type": "execute_result",
          "data": {
            "text/plain": [
              "tensor([[3., 3.],\n",
              "        [3., 3.]])"
            ]
          },
          "metadata": {},
          "execution_count": 4
        }
      ]
    },
    {
      "cell_type": "code",
      "metadata": {
        "colab": {
          "base_uri": "https://localhost:8080/"
        },
        "id": "DcBNQnmGMyhx",
        "outputId": "2737ee34-bec6-46ea-df4f-b3159fd95a99"
      },
      "source": [
        "y2 = x2 + 2\n",
        "y2 # grad_fn 확인\n",
        "# grad fn : 텐서가 어떤 연산을 하였는지에대한 연산 정보를 담는다. 이 정보는 역전파 과정에서 사용된다."
      ],
      "execution_count": 6,
      "outputs": [
        {
          "output_type": "execute_result",
          "data": {
            "text/plain": [
              "tensor([[3., 3.],\n",
              "        [3., 3.]], grad_fn=<AddBackward0>)"
            ]
          },
          "metadata": {},
          "execution_count": 6
        }
      ]
    },
    {
      "cell_type": "markdown",
      "metadata": {
        "id": "-WA_CkgENN-P"
      },
      "source": [
        "- 역전파를 위해 기록되는 grad_fn : AddBackWard0, SubBackward0, Mul.., Div와 같이 저장된다."
      ]
    },
    {
      "cell_type": "code",
      "metadata": {
        "colab": {
          "base_uri": "https://localhost:8080/"
        },
        "id": "Rjb1U53PMz1H",
        "outputId": "76a85240-4090-41ab-93de-7ebf24a0b7ec"
      },
      "source": [
        "y1 = x2 + 2\n",
        "y1"
      ],
      "execution_count": 8,
      "outputs": [
        {
          "output_type": "execute_result",
          "data": {
            "text/plain": [
              "tensor([[3., 3.],\n",
              "        [3., 3.]], grad_fn=<AddBackward0>)"
            ]
          },
          "metadata": {},
          "execution_count": 8
        }
      ]
    },
    {
      "cell_type": "code",
      "metadata": {
        "colab": {
          "base_uri": "https://localhost:8080/"
        },
        "id": "vcjE_lYDNEdo",
        "outputId": "2e85d629-15b4-446d-c8ae-14cb98ec26cd"
      },
      "source": [
        "y2 = x2 - 2\n",
        "y2"
      ],
      "execution_count": 10,
      "outputs": [
        {
          "output_type": "execute_result",
          "data": {
            "text/plain": [
              "tensor([[-1., -1.],\n",
              "        [-1., -1.]], grad_fn=<SubBackward0>)"
            ]
          },
          "metadata": {},
          "execution_count": 10
        }
      ]
    },
    {
      "cell_type": "code",
      "metadata": {
        "colab": {
          "base_uri": "https://localhost:8080/"
        },
        "id": "pNrWEuSMNG2p",
        "outputId": "cb1f9bd6-13fe-4bd4-e447-8ecfad2db05b"
      },
      "source": [
        "y3 = x2 * 2\n",
        "y3"
      ],
      "execution_count": 12,
      "outputs": [
        {
          "output_type": "execute_result",
          "data": {
            "text/plain": [
              "tensor([[2., 2.],\n",
              "        [2., 2.]], grad_fn=<MulBackward0>)"
            ]
          },
          "metadata": {},
          "execution_count": 12
        }
      ]
    },
    {
      "cell_type": "code",
      "metadata": {
        "colab": {
          "base_uri": "https://localhost:8080/"
        },
        "id": "ToNidDL8NJLy",
        "outputId": "5d046879-726f-4bf0-cfd1-99582bfa4e58"
      },
      "source": [
        "y4 = x2 / 2\n",
        "y4"
      ],
      "execution_count": 13,
      "outputs": [
        {
          "output_type": "execute_result",
          "data": {
            "text/plain": [
              "tensor([[0.5000, 0.5000],\n",
              "        [0.5000, 0.5000]], grad_fn=<DivBackward0>)"
            ]
          },
          "metadata": {},
          "execution_count": 13
        }
      ]
    },
    {
      "cell_type": "markdown",
      "metadata": {
        "id": "wo47T6JyNX9o"
      },
      "source": [
        "- var.requires\\_grad_(True)를 하면 속성값을 추가할 수 있다.\n",
        "- **다만, 위처럼 별도로 추가한 경우, 앞에서 연산한 이력이 grad_fn에 자동으로 저장되지는 않는다.** (Warning)"
      ]
    },
    {
      "cell_type": "markdown",
      "metadata": {
        "id": "-3M3hVuXN2WM"
      },
      "source": [
        "# derivative 기본 예제\n",
        "\n",
        "![image.png](data:image/png;base64,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)\n",
        "\n",
        "![image.png](data:image/png;base64,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)\n",
        "\n",
        "- df/dx를 통해 **x = a 지점의 경사를 구할 수 있다.**\n",
        "- if) x=2, 36 x 2^3 + 6 x 2^2 + 6 x 2 + 6 = 330이 2일 때의 변화율이다."
      ]
    },
    {
      "cell_type": "code",
      "metadata": {
        "id": "_kQ7-NJpNL4t"
      },
      "source": [
        "x = torch.tensor(2.0, requires_grad=True)\n",
        "y = 9*x**4 + 2*x**3 + 3*x**2 + 6*x + 1"
      ],
      "execution_count": 15,
      "outputs": []
    },
    {
      "cell_type": "code",
      "metadata": {
        "id": "8d1PYQelORFl"
      },
      "source": [
        "y.backward()"
      ],
      "execution_count": 16,
      "outputs": []
    },
    {
      "cell_type": "code",
      "metadata": {
        "colab": {
          "base_uri": "https://localhost:8080/"
        },
        "id": "h8sgJgEuOZvm",
        "outputId": "bff7c09e-d214-45a4-a48a-2390e425e497"
      },
      "source": [
        "x.grad"
      ],
      "execution_count": 17,
      "outputs": [
        {
          "output_type": "execute_result",
          "data": {
            "text/plain": [
              "tensor(330.)"
            ]
          },
          "metadata": {},
          "execution_count": 17
        }
      ]
    },
    {
      "cell_type": "markdown",
      "metadata": {
        "id": "BWu5_4seOyCz"
      },
      "source": [
        "- 유심히 봐야할 점은 **output(y)가 scalar라는 사실이다.**\n",
        "  - scalar 가 출력이어야 backward 연산이 된다."
      ]
    },
    {
      "cell_type": "code",
      "metadata": {
        "colab": {
          "base_uri": "https://localhost:8080/"
        },
        "id": "LK_IrAVIOap5",
        "outputId": "553f16ae-99be-4ff6-cf88-f41a70693ee2"
      },
      "source": [
        "x = torch.randn(2, 2, requires_grad=True)\n",
        "y = x + 2\n",
        "z = (y * y).sum() # sum을 안하면 scalar가 아니라 2x2 Matrix 된다. -> Error\n",
        "z.backward()\n",
        "print(f\"x:{x}\")\n",
        "print(f\"y:{y}\")\n",
        "print(f\"z:{z}\")\n",
        "print(f\"x.grad:{x.grad}\")\n",
        "print(f\"y:{y.grad}\")\n",
        "print(f\"z:{z.grad}\")\n",
        "\n",
        "# x는 실제 값이 할당되는 Tensor다. backward를 통해 계산된 grad가 저장된다.\n",
        "# 반면 중간 과정(y, z)는 실제 grad가 저장되지 않고 backword 연산에만 참여된 것으로 본다. grad is None !!"
      ],
      "execution_count": 19,
      "outputs": [
        {
          "output_type": "stream",
          "name": "stdout",
          "text": [
            "x:tensor([[ 0.6956, -0.1598],\n",
            "        [ 0.5608,  0.8906]], requires_grad=True)\n",
            "y:tensor([[2.6956, 1.8402],\n",
            "        [2.5608, 2.8906]], grad_fn=<AddBackward0>)\n",
            "z:25.566268920898438\n",
            "x.grad:tensor([[5.3913, 3.6804],\n",
            "        [5.1215, 5.7813]])\n",
            "y:None\n",
            "z:None\n"
          ]
        },
        {
          "output_type": "stream",
          "name": "stderr",
          "text": [
            "/usr/local/lib/python3.7/dist-packages/ipykernel_launcher.py:9: UserWarning: The .grad attribute of a Tensor that is not a leaf Tensor is being accessed. Its .grad attribute won't be populated during autograd.backward(). If you indeed want the gradient for a non-leaf Tensor, use .retain_grad() on the non-leaf Tensor. If you access the non-leaf Tensor by mistake, make sure you access the leaf Tensor instead. See github.com/pytorch/pytorch/pull/30531 for more information.\n",
            "  if __name__ == '__main__':\n",
            "/usr/local/lib/python3.7/dist-packages/ipykernel_launcher.py:10: UserWarning: The .grad attribute of a Tensor that is not a leaf Tensor is being accessed. Its .grad attribute won't be populated during autograd.backward(). If you indeed want the gradient for a non-leaf Tensor, use .retain_grad() on the non-leaf Tensor. If you access the non-leaf Tensor by mistake, make sure you access the leaf Tensor instead. See github.com/pytorch/pytorch/pull/30531 for more information.\n",
            "  # Remove the CWD from sys.path while we load stuff.\n"
          ]
        }
      ]
    },
    {
      "cell_type": "markdown",
      "metadata": {
        "id": "CmkTU0cvQa5g"
      },
      "source": [
        "# backward, Matrix에서 진행하려면 ?\n"
      ]
    },
    {
      "cell_type": "code",
      "metadata": {
        "colab": {
          "base_uri": "https://localhost:8080/"
        },
        "id": "vSZK1HLCPayS",
        "outputId": "c69ef957-fa68-43e3-9d7d-f03d389c0a5d"
      },
      "source": [
        "x = torch.randn(2, 2, requires_grad=True)\n",
        "y = x + 2\n",
        "z = (y * y)\n",
        "y.backward(z) # z를 tensor.backward()의 인자로 넣어주면 연산이 된다.\n",
        "\n",
        "x.grad"
      ],
      "execution_count": 21,
      "outputs": [
        {
          "output_type": "execute_result",
          "data": {
            "text/plain": [
              "tensor([[4.6137, 3.6249],\n",
              "        [0.0516, 2.9761]])"
            ]
          },
          "metadata": {},
          "execution_count": 21
        }
      ]
    },
    {
      "cell_type": "markdown",
      "metadata": {
        "id": "8n6pel7cQ-Ti"
      },
      "source": [
        "![image.png](data:image/png;base64,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)\n",
        "- 이런 식의 예제를 풀어보자\n",
        "\n",
        "![image.png](data:image/png;base64,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)\n",
        "- 2x2 matrix X의 미분 결과는 위와 같을 것이다.\n",
        "\n",
        "![image.png](data:image/png;base64,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)\n",
        "- if) X=\\[1., 2., 3., 4.], 위와 같이 gradient를 구할 수 있게 된다."
      ]
    },
    {
      "cell_type": "code",
      "metadata": {
        "colab": {
          "base_uri": "https://localhost:8080/"
        },
        "id": "3wsR26C1QhqT",
        "outputId": "e15b2171-914a-4253-ce71-aa6c61512ed0"
      },
      "source": [
        "x = torch.tensor([[1., 2.], [3., 4.]], requires_grad=True) # X_ij\n",
        "y = x + 2 # (X_ij + 2)\n",
        "z = y * y * 3 # 3*(X_ij + 2)^2\n",
        "out = z.mean() # (1/4)3*(X_ij + 2)^2\n",
        "\n",
        "out.backward()\n",
        "x.grad\n",
        "\n",
        "# 결과가 일치한다."
      ],
      "execution_count": 25,
      "outputs": [
        {
          "output_type": "execute_result",
          "data": {
            "text/plain": [
              "tensor([[4.5000, 6.0000],\n",
              "        [7.5000, 9.0000]])"
            ]
          },
          "metadata": {},
          "execution_count": 25
        }
      ]
    },
    {
      "cell_type": "markdown",
      "metadata": {
        "id": "ZRvAtMFySwn9"
      },
      "source": [
        "# Partial Derivative\n",
        "![image.png](data:image/png;base64,iVBORw0KGgoAAAANSUhEUgAAAFkAAAAfCAYAAACMCmHeAAAEPklEQVRoBe2Yz0sqXRjH77/iYqBZ2aqd8W6kRRHcIsjggtLClxYjLYZaXAwKLyQtWrgIAhfCLAThIgMvIUQI0nWhzCIRLiJEBhcMAgXhLILPy4yW07XpqqQXYQYGz/x6nud8znO+zzl+wj0mTuDTxD24DnAhTyEJXMgu5CkQmIILN5NdyFMgMAUXs5fJnSrnikL0IMiCL0A09zAFTE4uBBXtiOipxvl+AP9OkooYfHfmIJeP51lP1a2e1FIBPFKQ9P1gx6Zyp6kTkmRWknX4lbHa3oQx4HrGILe52J9nbjVJzexKKY5Hkgl9/1vZLLgrFak0gZszFqUF9nLtWYf8Ov47LYBnQSH76/X96V61qRV0TjaXCSUNWk+vvTcz4RnejNxnCPkCJEpviODrfvavRJXs9yojfNH/9g8tUYrj964RvbTPKoOYNKuQOwYnmyrpW6DTRvyWPY48TN38rHWlxvGlER50GpQLBnfWqJlAZTxLPSkzzZhytp2ZwUzuGMQ2wqSMB1qPDdJKmPSwcvHBkFv/qXi8PqKXbRB5opKMdz9HqzdOplR4jo23IAtqmspWOMDiQpzr57l1rxP5/JULU+QndghqmSNCikpk1cdWQiOxEySyE8D7rYigW/jMYtc/w2SHjWkcyE8NLg4CeCWZuXCGO1En9SVMqi7AehZkS40T2wmwrmpUOn04jpAtbVF1mj81ViSZaL5LuXLmx+M96kPv24L7HLFdlcgwZ8pw1EQzM1YO8zTN6V84wiPNE9GLpDZkPP/EKT8PuN33KO0xIJvF1X+Y4bpQJJtUWZGWiebtuuscgCPkZiFJ+qZNJWFCVbl4NI08kN6W8Sj6y1RwNj3uE0FNT3LVW/NagyopZB+hWS1yXR2uYy/eRZ3s6Skn9vMwzKIUIGK/Z7b1uuPAv9gzs3Y/SFRv/Pnd54/e1eQng5hXZu4g3zXYyhGR5JdNwLONyf32BnVDozZsURsmmDEy2TLbqZNSgpz8GHGgeW91UTUX1jL/6r2FdSnOnLRG4sZhvn6QXIhbo5uxvUFdSfSWW48GqVxjGIzvvzMO5FaRWPAr6Z+9vpvLwGSRYcuA8zq5B3nv0jQsuP7W1eMrm6i/35sxnoqiNXs8G2dcpRWrsHXrgaB8vEZEHzWL3ohhVMjmSmZJxq/EOc/kuS7oJII+Qqkh5MXm3mFbLSgnAniXFCI7y1ZlnawemxE9kN314d8Msr6bJJ0IWv6jqkJUM7rF0Bb4WM2RIAuuDrqbC9HME1udt5ZroURx5FgGIT+1qZWKlG970+NWY92s8m/sycfq6N/8yPxDZ0PjbsoxDEI2TpmTZPynBuKpQTo8j1fJUHOQ4ynHO5PuBiGLKufhZdZ3j9jbDn/cVJ1JPB8T9CDkj7HrWrERcCHbYEyq6UKeFFmbXReyDcakmi7kSZG12XUh22BMqulCnhRZm93/AcDbh8lq0vV8AAAAAElFTkSuQmCC)\n",
        "\n",
        "![image.png](data:image/png;base64,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)\n",
        "- x 에 대한 편미분\n",
        "\n",
        "![image.png](data:image/png;base64,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)\n",
        "- z에 대한 편미분\n",
        "\n",
        "![image.png](data:image/png;base64,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)\n",
        "- 위 연산을 진행해 보자\n",
        "\n",
        "![image.png](data:image/png;base64,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)\n",
        "- x에 관하여 연산\n",
        "\n",
        "![image.png](data:image/png;base64,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)\n",
        "- z에 관한 연산\n"
      ]
    },
    {
      "cell_type": "code",
      "metadata": {
        "colab": {
          "base_uri": "https://localhost:8080/"
        },
        "id": "v5VoTKrLROkG",
        "outputId": "3e29475d-288c-4c87-fba1-a0a6d660c89c"
      },
      "source": [
        "x = torch.tensor(1.0, requires_grad=True)\n",
        "z = torch.tensor(2.0, requires_grad=True)\n",
        "y = x**2 + z**3\n",
        "y.backward()\n",
        "\n",
        "print(f\"x.grad : {x.grad}\")\n",
        "print(f\"y.grad : {y.grad}\")\n",
        "print(f\"z.grad : {z.grad}\")"
      ],
      "execution_count": 27,
      "outputs": [
        {
          "output_type": "stream",
          "name": "stdout",
          "text": [
            "x.grad : 2.0\n",
            "y.grad : None\n",
            "z.grad : 12.0\n"
          ]
        },
        {
          "output_type": "stream",
          "name": "stderr",
          "text": [
            "/usr/local/lib/python3.7/dist-packages/ipykernel_launcher.py:7: UserWarning: The .grad attribute of a Tensor that is not a leaf Tensor is being accessed. Its .grad attribute won't be populated during autograd.backward(). If you indeed want the gradient for a non-leaf Tensor, use .retain_grad() on the non-leaf Tensor. If you access the non-leaf Tensor by mistake, make sure you access the leaf Tensor instead. See github.com/pytorch/pytorch/pull/30531 for more information.\n",
            "  import sys\n"
          ]
        }
      ]
    },
    {
      "cell_type": "markdown",
      "metadata": {
        "id": "lNiOaeY6T3aW"
      },
      "source": [
        "# Traning Mode & Evalutation Mode\n",
        "- gradient : 학습 대상이 되는 weight\n",
        "- 학습 후 inference 단계에서 굳이 학습 모드 사용할 필요 x\n",
        "- torch.no_grad() -> 적용 시 실제 속성이 requires_grad=True더라도 **gradient update 하지 않는다.**\n",
        "  - **dropout, batchnormalization 등이 적용되지 않는다.**\n",
        "  "
      ]
    },
    {
      "cell_type": "code",
      "metadata": {
        "colab": {
          "base_uri": "https://localhost:8080/"
        },
        "id": "7sX6-eOtTqck",
        "outputId": "f0f9cec4-68a5-41bc-9d1b-ef7605e5107c"
      },
      "source": [
        "x = torch.tensor(1.0, requires_grad=True)\n",
        "x.requires_grad"
      ],
      "execution_count": 28,
      "outputs": [
        {
          "output_type": "execute_result",
          "data": {
            "text/plain": [
              "True"
            ]
          },
          "metadata": {},
          "execution_count": 28
        }
      ]
    },
    {
      "cell_type": "code",
      "metadata": {
        "colab": {
          "base_uri": "https://localhost:8080/"
        },
        "id": "GrrXBFF5UVSk",
        "outputId": "574cd5c4-d0fe-42d1-c422-d1c34d42b172"
      },
      "source": [
        "with torch.no_grad():\n",
        "  print(x.requires_grad)\n",
        "  print((x**2).requires_grad) # False, Tensor가 어떤 연산이 적용될 때 False로 변경되는 것을 알 수 있다.\n",
        "\n",
        "print(x.requires_grad) # True, with문 벗어나면 다시 원복된다.\n"
      ],
      "execution_count": 29,
      "outputs": [
        {
          "output_type": "stream",
          "name": "stdout",
          "text": [
            "True\n",
            "False\n",
            "True\n"
          ]
        }
      ]
    },
    {
      "cell_type": "code",
      "metadata": {
        "id": "DKdQNDm5UeDR"
      },
      "source": [
        ""
      ],
      "execution_count": null,
      "outputs": []
    }
  ]
}