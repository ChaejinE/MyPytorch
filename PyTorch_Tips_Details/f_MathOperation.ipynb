{
  "nbformat": 4,
  "nbformat_minor": 0,
  "metadata": {
    "colab": {
      "name": "f_MathOperation",
      "provenance": [],
      "collapsed_sections": [],
      "authorship_tag": "ABX9TyOhMqnnT/lgbwb/BLsGAKaL",
      "include_colab_link": true
    },
    "kernelspec": {
      "name": "python3",
      "display_name": "Python 3"
    },
    "language_info": {
      "name": "python"
    },
    "accelerator": "GPU"
  },
  "cells": [
    {
      "cell_type": "markdown",
      "metadata": {
        "id": "view-in-github",
        "colab_type": "text"
      },
      "source": [
        "<a href=\"https://colab.research.google.com/github/ChaejinE/MyPytorch/blob/main/PyTorch_Tips_Details/f_MathOperation.ipynb\" target=\"_parent\"><img src=\"https://colab.research.google.com/assets/colab-badge.svg\" alt=\"Open In Colab\"/></a>"
      ]
    },
    {
      "cell_type": "code",
      "metadata": {
        "id": "schP5gW1rhV_"
      },
      "source": [
        "import torch"
      ],
      "execution_count": 1,
      "outputs": []
    },
    {
      "cell_type": "markdown",
      "metadata": {
        "id": "Ee_wh-LZrvBk"
      },
      "source": [
        "# 벡터 내적"
      ]
    },
    {
      "cell_type": "code",
      "metadata": {
        "colab": {
          "base_uri": "https://localhost:8080/"
        },
        "id": "1SeuRUbtrlHv",
        "outputId": "f48158d4-2992-43a1-9210-4974fdbdb41e"
      },
      "source": [
        "a = torch.tensor([1, 2, 3, 4, 5, 6]).view(3, 2)\n",
        "b = torch.tensor([9, 8, 7, 6, 5, 4]).view(2, 3)\n",
        "ab = torch.matmul(a, b)\n",
        "ab"
      ],
      "execution_count": 2,
      "outputs": [
        {
          "output_type": "execute_result",
          "data": {
            "text/plain": [
              "tensor([[21, 18, 15],\n",
              "        [51, 44, 37],\n",
              "        [81, 70, 59]])"
            ]
          },
          "metadata": {},
          "execution_count": 2
        }
      ]
    },
    {
      "cell_type": "code",
      "metadata": {
        "colab": {
          "base_uri": "https://localhost:8080/"
        },
        "id": "BLhYrOW0r385",
        "outputId": "c01d76c7-1971-4f94-a921-9e53f3aca67b"
      },
      "source": [
        "ab = a@b\n",
        "ab"
      ],
      "execution_count": 3,
      "outputs": [
        {
          "output_type": "execute_result",
          "data": {
            "text/plain": [
              "tensor([[21, 18, 15],\n",
              "        [51, 44, 37],\n",
              "        [81, 70, 59]])"
            ]
          },
          "metadata": {},
          "execution_count": 3
        }
      ]
    },
    {
      "cell_type": "markdown",
      "metadata": {
        "id": "KQM4xxsYFwtl"
      },
      "source": [
        "# + 연산 방법"
      ]
    },
    {
      "cell_type": "code",
      "metadata": {
        "colab": {
          "base_uri": "https://localhost:8080/"
        },
        "id": "LYxMZgbCr5WO",
        "outputId": "f7bbecae-b571-4d88-99bb-f00f5b5a64e0"
      },
      "source": [
        "x1 = torch.FloatTensor([[1, 2, 3], [4, 5, 6]])\n",
        "x2 = torch.FloatTensor([[1, 2, 3], [4, 5, 6]])\n",
        "add = x1 + x2\n",
        "add"
      ],
      "execution_count": 4,
      "outputs": [
        {
          "output_type": "execute_result",
          "data": {
            "text/plain": [
              "tensor([[ 2.,  4.,  6.],\n",
              "        [ 8., 10., 12.]])"
            ]
          },
          "metadata": {},
          "execution_count": 4
        }
      ]
    },
    {
      "cell_type": "code",
      "metadata": {
        "colab": {
          "base_uri": "https://localhost:8080/"
        },
        "id": "EnIBr5GOF7uX",
        "outputId": "45f0df0a-4e5f-4c38-a735-be0347a778cb"
      },
      "source": [
        "x1 = torch.FloatTensor([[1, 2, 3], [4, 5, 6]]) # \n",
        "x1 + 10 # broadcasting"
      ],
      "execution_count": 5,
      "outputs": [
        {
          "output_type": "execute_result",
          "data": {
            "text/plain": [
              "tensor([[11., 12., 13.],\n",
              "        [14., 15., 16.]])"
            ]
          },
          "metadata": {},
          "execution_count": 5
        }
      ]
    },
    {
      "cell_type": "markdown",
      "metadata": {
        "id": "OEDLXHX9GJN-"
      },
      "source": [
        "# * 연산 방법"
      ]
    },
    {
      "cell_type": "code",
      "metadata": {
        "colab": {
          "base_uri": "https://localhost:8080/"
        },
        "id": "67HAWDnsGCwl",
        "outputId": "bb6bb4ca-f67c-4d07-9d4d-e2305f42c88b"
      },
      "source": [
        "x1 = torch.FloatTensor([[1, 2, 3], [4 , 5, 6]])\n",
        "x2 = torch.FloatTensor([[1, 2, 3], [4 , 5, 6]])\n",
        "x1 * x2 # elementwise, (torch.mul(x1, x2))"
      ],
      "execution_count": 6,
      "outputs": [
        {
          "output_type": "execute_result",
          "data": {
            "text/plain": [
              "tensor([[ 1.,  4.,  9.],\n",
              "        [16., 25., 36.]])"
            ]
          },
          "metadata": {},
          "execution_count": 6
        }
      ]
    },
    {
      "cell_type": "markdown",
      "metadata": {
        "id": "zATUmTKpGlHD"
      },
      "source": [
        "# / 연산 방법"
      ]
    },
    {
      "cell_type": "code",
      "metadata": {
        "colab": {
          "base_uri": "https://localhost:8080/"
        },
        "id": "Sp0GeJOYGaxI",
        "outputId": "3cf7002c-3104-4f6d-bb81-daf6d6852cef"
      },
      "source": [
        "x1 = torch.FloatTensor([[1, 2, 3], [4, 5, 6]])\n",
        "x2 = torch.FloatTensor([[1, 2, 3], [4, 5, 6]])\n",
        "x1/x2 # elementwise, (torch.div(x1, x2))"
      ],
      "execution_count": 7,
      "outputs": [
        {
          "output_type": "execute_result",
          "data": {
            "text/plain": [
              "tensor([[1., 1., 1.],\n",
              "        [1., 1., 1.]])"
            ]
          },
          "metadata": {},
          "execution_count": 7
        }
      ]
    },
    {
      "cell_type": "code",
      "metadata": {
        "colab": {
          "base_uri": "https://localhost:8080/"
        },
        "id": "NZzLDdjFGmv_",
        "outputId": "93a9d964-42b1-43ad-d676-04f32d87ccf8"
      },
      "source": [
        "x1 = torch.FloatTensor([[1, 2, 3], [4, 5, 6]])\n",
        "x1 / 5 #broadcasting"
      ],
      "execution_count": 8,
      "outputs": [
        {
          "output_type": "execute_result",
          "data": {
            "text/plain": [
              "tensor([[0.2000, 0.4000, 0.6000],\n",
              "        [0.8000, 1.0000, 1.2000]])"
            ]
          },
          "metadata": {},
          "execution_count": 8
        }
      ]
    },
    {
      "cell_type": "markdown",
      "metadata": {
        "id": "9S-KzVbvHPWe"
      },
      "source": [
        "# Pow 연산"
      ]
    },
    {
      "cell_type": "code",
      "metadata": {
        "colab": {
          "base_uri": "https://localhost:8080/"
        },
        "id": "yDUvnVWCHAEE",
        "outputId": "f92eda60-ac4d-4806-f158-e4eec4d30738"
      },
      "source": [
        "x1 = torch.FloatTensor([[1, 2, 3], [4, 5, 6]])\n",
        "x1 ** 2 # torch.pow(input, exponent)"
      ],
      "execution_count": 9,
      "outputs": [
        {
          "output_type": "execute_result",
          "data": {
            "text/plain": [
              "tensor([[ 1.,  4.,  9.],\n",
              "        [16., 25., 36.]])"
            ]
          },
          "metadata": {},
          "execution_count": 9
        }
      ]
    },
    {
      "cell_type": "markdown",
      "metadata": {
        "id": "3n5LxPjeHXXv"
      },
      "source": [
        "# Exponential 연산"
      ]
    },
    {
      "cell_type": "code",
      "metadata": {
        "colab": {
          "base_uri": "https://localhost:8080/"
        },
        "id": "N1BLjqLmHWDk",
        "outputId": "49daec6b-a094-432c-b3ca-1931b8364ef3"
      },
      "source": [
        "x1 = torch.FloatTensor([[1, 2, 3], [4, 5, 6]])\n",
        "torch.exp(x1)"
      ],
      "execution_count": 10,
      "outputs": [
        {
          "output_type": "execute_result",
          "data": {
            "text/plain": [
              "tensor([[  2.7183,   7.3891,  20.0855],\n",
              "        [ 54.5981, 148.4132, 403.4288]])"
            ]
          },
          "metadata": {},
          "execution_count": 10
        }
      ]
    },
    {
      "cell_type": "markdown",
      "metadata": {
        "id": "y49f6oPlHdyQ"
      },
      "source": [
        "# Log 연산"
      ]
    },
    {
      "cell_type": "code",
      "metadata": {
        "colab": {
          "base_uri": "https://localhost:8080/"
        },
        "id": "GFDgNBWLHcCJ",
        "outputId": "2cc24f38-511f-42a9-d601-b84bdad79eb9"
      },
      "source": [
        "import math\n",
        "x1 = torch.FloatTensor([[1, 2, 3], [4, 5, math.exp(1)]])\n",
        "torch.log(x1)"
      ],
      "execution_count": 11,
      "outputs": [
        {
          "output_type": "execute_result",
          "data": {
            "text/plain": [
              "tensor([[0.0000, 0.6931, 1.0986],\n",
              "        [1.3863, 1.6094, 1.0000]])"
            ]
          },
          "metadata": {},
          "execution_count": 11
        }
      ]
    },
    {
      "cell_type": "markdown",
      "metadata": {
        "id": "P3nvYk4OIQNe"
      },
      "source": [
        "# Matrix Multiplication\n",
        "- shape이 잘 맞아야 연산된다."
      ]
    },
    {
      "cell_type": "code",
      "metadata": {
        "colab": {
          "base_uri": "https://localhost:8080/"
        },
        "id": "FSoPEZw1H-0u",
        "outputId": "b1d58f31-745f-4021-85c0-a41e4ee7dee2"
      },
      "source": [
        "x1 = torch.FloatTensor(3, 4)\n",
        "x2 = torch.FloatTensor(4, 5)\n",
        "torch.mm(x1, x2).size()"
      ],
      "execution_count": 12,
      "outputs": [
        {
          "output_type": "execute_result",
          "data": {
            "text/plain": [
              "torch.Size([3, 5])"
            ]
          },
          "metadata": {},
          "execution_count": 12
        }
      ]
    },
    {
      "cell_type": "markdown",
      "metadata": {
        "id": "QEf9g5UcIj7Y"
      },
      "source": [
        "- Tensor 곱을 Batch 단위로 처리한다.\n",
        "- torch.mm은 단일 텐서, 즉 행렬로 계산을 한 것이다.\n",
        "- batch 단위로 처리하면 효율적인 경우가 있다."
      ]
    },
    {
      "cell_type": "code",
      "metadata": {
        "colab": {
          "base_uri": "https://localhost:8080/"
        },
        "id": "MDPb2LSkIfai",
        "outputId": "d69812dd-1af4-475a-dbcf-1017fe7d9063"
      },
      "source": [
        "x1 = torch.FloatTensor(10, 3, 4)\n",
        "x2 = torch.FloatTensor(10, 4, 5)\n",
        "torch.bmm(x1, x2).size()"
      ],
      "execution_count": 13,
      "outputs": [
        {
          "output_type": "execute_result",
          "data": {
            "text/plain": [
              "torch.Size([10, 3, 5])"
            ]
          },
          "metadata": {},
          "execution_count": 13
        }
      ]
    },
    {
      "cell_type": "markdown",
      "metadata": {
        "id": "quWc_nt4I8ru"
      },
      "source": [
        "# Matrix Dot"
      ]
    },
    {
      "cell_type": "code",
      "metadata": {
        "colab": {
          "base_uri": "https://localhost:8080/"
        },
        "id": "dP8LFi00I5PJ",
        "outputId": "336fee76-9878-42c2-864f-257f08fb4410"
      },
      "source": [
        "torch.dot(torch.tensor([2, 3]), torch.tensor([2, 1])) # 두 텐서의 dot product을 수행"
      ],
      "execution_count": 14,
      "outputs": [
        {
          "output_type": "execute_result",
          "data": {
            "text/plain": [
              "tensor(7)"
            ]
          },
          "metadata": {},
          "execution_count": 14
        }
      ]
    },
    {
      "cell_type": "markdown",
      "metadata": {
        "id": "43o8V8DiJXmR"
      },
      "source": [
        "# Matrix transposed"
      ]
    },
    {
      "cell_type": "code",
      "metadata": {
        "colab": {
          "base_uri": "https://localhost:8080/"
        },
        "id": "3aqBuccqJG1X",
        "outputId": "1b752920-5b93-4be6-c165-f28605709c26"
      },
      "source": [
        "x1 = torch.FloatTensor(2, 3)\n",
        "x1"
      ],
      "execution_count": 15,
      "outputs": [
        {
          "output_type": "execute_result",
          "data": {
            "text/plain": [
              "tensor([[       nan, 3.0806e-41, 4.2039e-45],\n",
              "        [0.0000e+00,        nan, 0.0000e+00]])"
            ]
          },
          "metadata": {},
          "execution_count": 15
        }
      ]
    },
    {
      "cell_type": "code",
      "metadata": {
        "id": "gJtE_QhrJjXy"
      },
      "source": [
        "x2 = x1.t() # transposed tensor"
      ],
      "execution_count": 16,
      "outputs": []
    },
    {
      "cell_type": "code",
      "metadata": {
        "colab": {
          "base_uri": "https://localhost:8080/"
        },
        "id": "2tWx6ZkVJqlc",
        "outputId": "48c9afe1-51b4-4f3f-8e64-f05bcd50d4ff"
      },
      "source": [
        "x1 = torch.FloatTensor(10, 3, 4, 5)\n",
        "x1.size()\n",
        "torch.transpose(x1, 1, 2).size() # 특정 dimension을 변경할 수 있다."
      ],
      "execution_count": 17,
      "outputs": [
        {
          "output_type": "execute_result",
          "data": {
            "text/plain": [
              "torch.Size([10, 4, 3, 5])"
            ]
          },
          "metadata": {},
          "execution_count": 17
        }
      ]
    },
    {
      "cell_type": "code",
      "metadata": {
        "colab": {
          "base_uri": "https://localhost:8080/"
        },
        "id": "trIhcaJDJyGt",
        "outputId": "137abea0-2f3b-4d9e-b8a0-c3ceae441f88"
      },
      "source": [
        "torch.transpose(x1, 2, 3).size()"
      ],
      "execution_count": 18,
      "outputs": [
        {
          "output_type": "execute_result",
          "data": {
            "text/plain": [
              "torch.Size([10, 3, 5, 4])"
            ]
          },
          "metadata": {},
          "execution_count": 18
        }
      ]
    },
    {
      "cell_type": "markdown",
      "metadata": {
        "id": "dj20QyHpKADL"
      },
      "source": [
        "# eigenvalue, eigenvector"
      ]
    },
    {
      "cell_type": "code",
      "metadata": {
        "colab": {
          "base_uri": "https://localhost:8080/",
          "height": 180
        },
        "id": "zvjcBJjPJ0Fb",
        "outputId": "3e914a3f-b0c2-4005-b5da-f3fc0133be7d"
      },
      "source": [
        "x1 = torch.FloatTensor(4,4) # nan이 나올 때도 있다 ㅋ\n",
        "torch.eig(x1, eigenvectors=True)"
      ],
      "execution_count": 29,
      "outputs": [
        {
          "output_type": "error",
          "ename": "RuntimeError",
          "evalue": "ignored",
          "traceback": [
            "\u001b[0;31m---------------------------------------------------------------------------\u001b[0m",
            "\u001b[0;31mRuntimeError\u001b[0m                              Traceback (most recent call last)",
            "\u001b[0;32m<ipython-input-29-d50d74de7663>\u001b[0m in \u001b[0;36m<module>\u001b[0;34m()\u001b[0m\n\u001b[1;32m      1\u001b[0m \u001b[0mx1\u001b[0m \u001b[0;34m=\u001b[0m \u001b[0mtorch\u001b[0m\u001b[0;34m.\u001b[0m\u001b[0mFloatTensor\u001b[0m\u001b[0;34m(\u001b[0m\u001b[0;36m4\u001b[0m\u001b[0;34m,\u001b[0m\u001b[0;36m4\u001b[0m\u001b[0;34m)\u001b[0m\u001b[0;34m\u001b[0m\u001b[0;34m\u001b[0m\u001b[0m\n\u001b[0;32m----> 2\u001b[0;31m \u001b[0mtorch\u001b[0m\u001b[0;34m.\u001b[0m\u001b[0meig\u001b[0m\u001b[0;34m(\u001b[0m\u001b[0mx1\u001b[0m\u001b[0;34m,\u001b[0m \u001b[0meigenvectors\u001b[0m\u001b[0;34m=\u001b[0m\u001b[0;32mTrue\u001b[0m\u001b[0;34m)\u001b[0m\u001b[0;34m\u001b[0m\u001b[0;34m\u001b[0m\u001b[0m\n\u001b[0m",
            "\u001b[0;31mRuntimeError\u001b[0m: input should not contain infs or NaNs"
          ]
        }
      ]
    },
    {
      "cell_type": "markdown",
      "metadata": {
        "id": "6-eD2KkutCv4"
      },
      "source": [
        "# einsum\n",
        "![image](https://user-images.githubusercontent.com/69780812/140712360-8d794571-32be-4756-9b78-75ac12b50611.png)\n"
      ]
    },
    {
      "cell_type": "code",
      "metadata": {
        "id": "h_d7dcXCKGfM",
        "colab": {
          "base_uri": "https://localhost:8080/"
        },
        "outputId": "c9cbb3ff-9194-4645-cc06-de1d08481bd9"
      },
      "source": [
        "x = torch.rand((2, 3))\n",
        "x.shape"
      ],
      "execution_count": 31,
      "outputs": [
        {
          "output_type": "execute_result",
          "data": {
            "text/plain": [
              "torch.Size([2, 3])"
            ]
          },
          "metadata": {},
          "execution_count": 31
        }
      ]
    },
    {
      "cell_type": "code",
      "metadata": {
        "colab": {
          "base_uri": "https://localhost:8080/"
        },
        "id": "aeXGrd0FuEHq",
        "outputId": "03fa2695-05ee-40da-d302-de11a95b94e1"
      },
      "source": [
        "# Permutation\n",
        "x2 = torch.einsum(\"ij->ji\", x)\n",
        "print(x2)\n",
        "print(x2.shape)"
      ],
      "execution_count": 33,
      "outputs": [
        {
          "output_type": "stream",
          "name": "stdout",
          "text": [
            "tensor([[0.1282, 0.9306],\n",
            "        [0.6292, 0.5559],\n",
            "        [0.2000, 0.6452]])\n",
            "torch.Size([3, 2])\n"
          ]
        }
      ]
    },
    {
      "cell_type": "code",
      "metadata": {
        "colab": {
          "base_uri": "https://localhost:8080/"
        },
        "id": "gtwm7p8EuIO4",
        "outputId": "83544c56-35eb-45ae-ca6b-4abc24dba94a"
      },
      "source": [
        "# Summation\n",
        "x3 = torch.einsum(\"ij->\", x)\n",
        "print(x3)\n",
        "print(x3.shape)"
      ],
      "execution_count": 34,
      "outputs": [
        {
          "output_type": "stream",
          "name": "stdout",
          "text": [
            "tensor(3.0892)\n",
            "torch.Size([])\n"
          ]
        }
      ]
    },
    {
      "cell_type": "code",
      "metadata": {
        "colab": {
          "base_uri": "https://localhost:8080/"
        },
        "id": "5ONC0G-ZuSQY",
        "outputId": "9d7d909d-3a8b-4a19-8a29-f061363b9c86"
      },
      "source": [
        "# column sum\n",
        "x4 = torch.einsum(\"ij->j\", x)\n",
        "print(x4)\n",
        "print(x4.shape)"
      ],
      "execution_count": 35,
      "outputs": [
        {
          "output_type": "stream",
          "name": "stdout",
          "text": [
            "tensor([1.0588, 1.1851, 0.8453])\n",
            "torch.Size([3])\n"
          ]
        }
      ]
    },
    {
      "cell_type": "code",
      "metadata": {
        "colab": {
          "base_uri": "https://localhost:8080/"
        },
        "id": "o_ybkMFXugBQ",
        "outputId": "b3b5149d-8b76-474f-b076-a901cc33bcb1"
      },
      "source": [
        "# row sum\n",
        "x5 = torch.einsum(\"ij->i\", x)\n",
        "print(x5)\n",
        "print(x5.shape)"
      ],
      "execution_count": 36,
      "outputs": [
        {
          "output_type": "stream",
          "name": "stdout",
          "text": [
            "tensor([0.9574, 2.1318])\n",
            "torch.Size([2])\n"
          ]
        }
      ]
    },
    {
      "cell_type": "code",
      "metadata": {
        "colab": {
          "base_uri": "https://localhost:8080/"
        },
        "id": "as9jJ9pAumhC",
        "outputId": "1670959e-0db3-458d-d5e1-0a04972eff11"
      },
      "source": [
        "# matrix vector multiplication\n",
        "x = torch.randint(low=1, high=10, size=(2, 3)) # matrix\n",
        "v = torch.randint(low=1, high=10, size=(1, 3)) # row voctor\n",
        "x6 = torch.einsum(\"ij,kj->ik\", x, v)\n",
        "print(x)\n",
        "print(v)\n",
        "print(x6)\n",
        "print(x6.shape)\n",
        "\n",
        "# 여러 시도를 해보니\n",
        "# 좌변 우변에 겹쳐있는 알파벳끼리 요소별 곱이고\n",
        "# 우변에서 사라지는 변수의 차원을 따라 합하면된다."
      ],
      "execution_count": 55,
      "outputs": [
        {
          "output_type": "stream",
          "name": "stdout",
          "text": [
            "tensor([[4, 2, 5],\n",
            "        [3, 3, 6]])\n",
            "tensor([[7, 5, 7]])\n",
            "tensor([[73],\n",
            "        [78]])\n",
            "torch.Size([2, 1])\n"
          ]
        }
      ]
    },
    {
      "cell_type": "code",
      "metadata": {
        "id": "rkNXeRsG0ol1"
      },
      "source": [
        ""
      ],
      "execution_count": null,
      "outputs": []
    }
  ]
}