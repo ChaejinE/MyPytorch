{
  "nbformat": 4,
  "nbformat_minor": 0,
  "metadata": {
    "colab": {
      "name": "f_MathOperation",
      "provenance": [],
      "collapsed_sections": [],
      "authorship_tag": "ABX9TyNaPOXfQhIjHmrNJztnQHwf",
      "include_colab_link": true
    },
    "kernelspec": {
      "name": "python3",
      "display_name": "Python 3"
    },
    "language_info": {
      "name": "python"
    },
    "accelerator": "GPU"
  },
  "cells": [
    {
      "cell_type": "markdown",
      "metadata": {
        "id": "view-in-github",
        "colab_type": "text"
      },
      "source": [
        "<a href=\"https://colab.research.google.com/github/ChaejinE/MyPytorch/blob/main/PyTorch_Tips_Details/f_MathOperation.ipynb\" target=\"_parent\"><img src=\"https://colab.research.google.com/assets/colab-badge.svg\" alt=\"Open In Colab\"/></a>"
      ]
    },
    {
      "cell_type": "code",
      "metadata": {
        "id": "schP5gW1rhV_"
      },
      "source": [
        "import torch"
      ],
      "execution_count": 1,
      "outputs": []
    },
    {
      "cell_type": "markdown",
      "metadata": {
        "id": "Ee_wh-LZrvBk"
      },
      "source": [
        "# 벡터 내적"
      ]
    },
    {
      "cell_type": "code",
      "metadata": {
        "colab": {
          "base_uri": "https://localhost:8080/"
        },
        "id": "1SeuRUbtrlHv",
        "outputId": "9159873f-39cc-415e-a273-dfa14db40022"
      },
      "source": [
        "a = torch.tensor([1, 2, 3, 4, 5, 6]).view(3, 2)\n",
        "b = torch.tensor([9, 8, 7, 6, 5, 4]).view(2, 3)\n",
        "ab = torch.matmul(a, b)\n",
        "ab"
      ],
      "execution_count": 2,
      "outputs": [
        {
          "output_type": "execute_result",
          "data": {
            "text/plain": [
              "tensor([[21, 18, 15],\n",
              "        [51, 44, 37],\n",
              "        [81, 70, 59]])"
            ]
          },
          "metadata": {},
          "execution_count": 2
        }
      ]
    },
    {
      "cell_type": "code",
      "metadata": {
        "colab": {
          "base_uri": "https://localhost:8080/"
        },
        "id": "BLhYrOW0r385",
        "outputId": "a3a4318e-52b9-48f5-fa03-9f038fa4bb75"
      },
      "source": [
        "ab = a@b\n",
        "ab"
      ],
      "execution_count": 3,
      "outputs": [
        {
          "output_type": "execute_result",
          "data": {
            "text/plain": [
              "tensor([[21, 18, 15],\n",
              "        [51, 44, 37],\n",
              "        [81, 70, 59]])"
            ]
          },
          "metadata": {},
          "execution_count": 3
        }
      ]
    },
    {
      "cell_type": "markdown",
      "metadata": {
        "id": "KQM4xxsYFwtl"
      },
      "source": [
        "# + 연산 방법"
      ]
    },
    {
      "cell_type": "code",
      "metadata": {
        "colab": {
          "base_uri": "https://localhost:8080/"
        },
        "id": "LYxMZgbCr5WO",
        "outputId": "d213301f-56aa-49a6-a370-621a23096365"
      },
      "source": [
        "x1 = torch.FloatTensor([[1, 2, 3], [4, 5, 6]])\n",
        "x2 = torch.FloatTensor([[1, 2, 3], [4, 5, 6]])\n",
        "add = x1 + x2\n",
        "add"
      ],
      "execution_count": 4,
      "outputs": [
        {
          "output_type": "execute_result",
          "data": {
            "text/plain": [
              "tensor([[ 2.,  4.,  6.],\n",
              "        [ 8., 10., 12.]])"
            ]
          },
          "metadata": {},
          "execution_count": 4
        }
      ]
    },
    {
      "cell_type": "code",
      "metadata": {
        "colab": {
          "base_uri": "https://localhost:8080/"
        },
        "id": "EnIBr5GOF7uX",
        "outputId": "6c8b7441-9c07-4236-bcc3-e51926f7fe81"
      },
      "source": [
        "x1 = torch.FloatTensor([[1, 2, 3], [4, 5, 6]]) # \n",
        "x1 + 10 # broadcasting"
      ],
      "execution_count": 5,
      "outputs": [
        {
          "output_type": "execute_result",
          "data": {
            "text/plain": [
              "tensor([[11., 12., 13.],\n",
              "        [14., 15., 16.]])"
            ]
          },
          "metadata": {},
          "execution_count": 5
        }
      ]
    },
    {
      "cell_type": "markdown",
      "metadata": {
        "id": "OEDLXHX9GJN-"
      },
      "source": [
        "# * 연산 방법"
      ]
    },
    {
      "cell_type": "code",
      "metadata": {
        "colab": {
          "base_uri": "https://localhost:8080/"
        },
        "id": "67HAWDnsGCwl",
        "outputId": "fb230096-5ab3-420e-9f78-5ddef5561e5a"
      },
      "source": [
        "x1 = torch.FloatTensor([[1, 2, 3], [4 , 5, 6]])\n",
        "x2 = torch.FloatTensor([[1, 2, 3], [4 , 5, 6]])\n",
        "x1 * x2 # elementwise, (torch.mul(x1, x2))"
      ],
      "execution_count": 7,
      "outputs": [
        {
          "output_type": "execute_result",
          "data": {
            "text/plain": [
              "tensor([[ 1.,  4.,  9.],\n",
              "        [16., 25., 36.]])"
            ]
          },
          "metadata": {},
          "execution_count": 7
        }
      ]
    },
    {
      "cell_type": "markdown",
      "metadata": {
        "id": "zATUmTKpGlHD"
      },
      "source": [
        "# / 연산 방법"
      ]
    },
    {
      "cell_type": "code",
      "metadata": {
        "colab": {
          "base_uri": "https://localhost:8080/"
        },
        "id": "Sp0GeJOYGaxI",
        "outputId": "d8dbf801-877b-4186-9acc-e1caf4e5c064"
      },
      "source": [
        "x1 = torch.FloatTensor([[1, 2, 3], [4, 5, 6]])\n",
        "x2 = torch.FloatTensor([[1, 2, 3], [4, 5, 6]])\n",
        "x1/x2 # elementwise, (torch.div(x1, x2))"
      ],
      "execution_count": 9,
      "outputs": [
        {
          "output_type": "execute_result",
          "data": {
            "text/plain": [
              "tensor([[1., 1., 1.],\n",
              "        [1., 1., 1.]])"
            ]
          },
          "metadata": {},
          "execution_count": 9
        }
      ]
    },
    {
      "cell_type": "code",
      "metadata": {
        "colab": {
          "base_uri": "https://localhost:8080/"
        },
        "id": "NZzLDdjFGmv_",
        "outputId": "d011f9c8-ddbf-4b83-f0fe-a89ac3b7974a"
      },
      "source": [
        "x1 = torch.FloatTensor([[1, 2, 3], [4, 5, 6]])\n",
        "x1 / 5 #broadcasting"
      ],
      "execution_count": 10,
      "outputs": [
        {
          "output_type": "execute_result",
          "data": {
            "text/plain": [
              "tensor([[0.2000, 0.4000, 0.6000],\n",
              "        [0.8000, 1.0000, 1.2000]])"
            ]
          },
          "metadata": {},
          "execution_count": 10
        }
      ]
    },
    {
      "cell_type": "markdown",
      "metadata": {
        "id": "9S-KzVbvHPWe"
      },
      "source": [
        "# Pow 연산"
      ]
    },
    {
      "cell_type": "code",
      "metadata": {
        "colab": {
          "base_uri": "https://localhost:8080/"
        },
        "id": "yDUvnVWCHAEE",
        "outputId": "e21a1636-b309-4b51-9186-1541a4182333"
      },
      "source": [
        "x1 = torch.FloatTensor([[1, 2, 3], [4, 5, 6]])\n",
        "x1 ** 2 # torch.pow(input, exponent)"
      ],
      "execution_count": 11,
      "outputs": [
        {
          "output_type": "execute_result",
          "data": {
            "text/plain": [
              "tensor([[ 1.,  4.,  9.],\n",
              "        [16., 25., 36.]])"
            ]
          },
          "metadata": {},
          "execution_count": 11
        }
      ]
    },
    {
      "cell_type": "markdown",
      "metadata": {
        "id": "3n5LxPjeHXXv"
      },
      "source": [
        "# Exponential 연산"
      ]
    },
    {
      "cell_type": "code",
      "metadata": {
        "colab": {
          "base_uri": "https://localhost:8080/"
        },
        "id": "N1BLjqLmHWDk",
        "outputId": "7ffe7f33-fef2-4cad-a625-403f411420a2"
      },
      "source": [
        "x1 = torch.FloatTensor([[1, 2, 3], [4, 5, 6]])\n",
        "torch.exp(x1)"
      ],
      "execution_count": 12,
      "outputs": [
        {
          "output_type": "execute_result",
          "data": {
            "text/plain": [
              "tensor([[  2.7183,   7.3891,  20.0855],\n",
              "        [ 54.5981, 148.4132, 403.4288]])"
            ]
          },
          "metadata": {},
          "execution_count": 12
        }
      ]
    },
    {
      "cell_type": "markdown",
      "metadata": {
        "id": "y49f6oPlHdyQ"
      },
      "source": [
        "# Log 연산"
      ]
    },
    {
      "cell_type": "code",
      "metadata": {
        "colab": {
          "base_uri": "https://localhost:8080/"
        },
        "id": "GFDgNBWLHcCJ",
        "outputId": "18592246-d38e-412f-a0f8-eac839e7bd0f"
      },
      "source": [
        "import math\n",
        "x1 = torch.FloatTensor([[1, 2, 3], [4, 5, math.exp(1)]])\n",
        "torch.log(x1)"
      ],
      "execution_count": 22,
      "outputs": [
        {
          "output_type": "execute_result",
          "data": {
            "text/plain": [
              "tensor([[0.0000, 0.6931, 1.0986],\n",
              "        [1.3863, 1.6094, 1.0000]])"
            ]
          },
          "metadata": {},
          "execution_count": 22
        }
      ]
    },
    {
      "cell_type": "markdown",
      "metadata": {
        "id": "P3nvYk4OIQNe"
      },
      "source": [
        "# Matrix Multiplication\n",
        "- shape이 잘 맞아야 연산된다."
      ]
    },
    {
      "cell_type": "code",
      "metadata": {
        "colab": {
          "base_uri": "https://localhost:8080/"
        },
        "id": "FSoPEZw1H-0u",
        "outputId": "b64a9d8f-610c-4eb6-f030-ec394ce72fae"
      },
      "source": [
        "x1 = torch.FloatTensor(3, 4)\n",
        "x2 = torch.FloatTensor(4, 5)\n",
        "torch.mm(x1, x2).size()"
      ],
      "execution_count": 23,
      "outputs": [
        {
          "output_type": "execute_result",
          "data": {
            "text/plain": [
              "torch.Size([3, 5])"
            ]
          },
          "metadata": {},
          "execution_count": 23
        }
      ]
    },
    {
      "cell_type": "markdown",
      "metadata": {
        "id": "QEf9g5UcIj7Y"
      },
      "source": [
        "- Tensor 곱을 Batch 단위로 처리한다.\n",
        "- torch.mm은 단일 텐서, 즉 행렬로 계산을 한 것이다.\n",
        "- batch 단위로 처리하면 효율적인 경우가 있다."
      ]
    },
    {
      "cell_type": "code",
      "metadata": {
        "colab": {
          "base_uri": "https://localhost:8080/"
        },
        "id": "MDPb2LSkIfai",
        "outputId": "37289fd0-fa1c-4b58-fe8c-172e5bafa4c7"
      },
      "source": [
        "x1 = torch.FloatTensor(10, 3, 4)\n",
        "x2 = torch.FloatTensor(10, 4, 5)\n",
        "torch.bmm(x1, x2).size()"
      ],
      "execution_count": 24,
      "outputs": [
        {
          "output_type": "execute_result",
          "data": {
            "text/plain": [
              "torch.Size([10, 3, 5])"
            ]
          },
          "metadata": {},
          "execution_count": 24
        }
      ]
    },
    {
      "cell_type": "markdown",
      "metadata": {
        "id": "quWc_nt4I8ru"
      },
      "source": [
        "# Matrix Dot"
      ]
    },
    {
      "cell_type": "code",
      "metadata": {
        "colab": {
          "base_uri": "https://localhost:8080/"
        },
        "id": "dP8LFi00I5PJ",
        "outputId": "bdff9178-3897-4af2-c333-3ae8ab58501c"
      },
      "source": [
        "torch.dot(torch.tensor([2, 3]), torch.tensor([2, 1])) # 두 텐서의 dot product을 수행"
      ],
      "execution_count": 26,
      "outputs": [
        {
          "output_type": "execute_result",
          "data": {
            "text/plain": [
              "tensor(7)"
            ]
          },
          "metadata": {},
          "execution_count": 26
        }
      ]
    },
    {
      "cell_type": "markdown",
      "metadata": {
        "id": "43o8V8DiJXmR"
      },
      "source": [
        "# Matrix transposed"
      ]
    },
    {
      "cell_type": "code",
      "metadata": {
        "colab": {
          "base_uri": "https://localhost:8080/"
        },
        "id": "3aqBuccqJG1X",
        "outputId": "1673ab15-abc0-4867-f709-76256b9117cd"
      },
      "source": [
        "x1 = torch.FloatTensor(2, 3)\n",
        "x1"
      ],
      "execution_count": 28,
      "outputs": [
        {
          "output_type": "execute_result",
          "data": {
            "text/plain": [
              "tensor([[2.6737e+36, 3.0611e-41, 3.3631e-44],\n",
              "        [0.0000e+00,        nan, 1.9233e+00]])"
            ]
          },
          "metadata": {},
          "execution_count": 28
        }
      ]
    },
    {
      "cell_type": "code",
      "metadata": {
        "id": "gJtE_QhrJjXy"
      },
      "source": [
        "x2 = x1.t() # transposed tensor"
      ],
      "execution_count": 29,
      "outputs": []
    },
    {
      "cell_type": "code",
      "metadata": {
        "colab": {
          "base_uri": "https://localhost:8080/"
        },
        "id": "2tWx6ZkVJqlc",
        "outputId": "e2fd27eb-194e-4b92-b888-a5da6c48112d"
      },
      "source": [
        "x1 = torch.FloatTensor(10, 3, 4, 5)\n",
        "x1.size()\n",
        "torch.transpose(x1, 1, 2).size() # 특정 dimension을 변경할 수 있다."
      ],
      "execution_count": 34,
      "outputs": [
        {
          "output_type": "execute_result",
          "data": {
            "text/plain": [
              "torch.Size([10, 4, 3, 5])"
            ]
          },
          "metadata": {},
          "execution_count": 34
        }
      ]
    },
    {
      "cell_type": "code",
      "metadata": {
        "colab": {
          "base_uri": "https://localhost:8080/"
        },
        "id": "trIhcaJDJyGt",
        "outputId": "ae94d217-19f7-41b2-aa25-e2dfbe1d6edd"
      },
      "source": [
        "torch.transpose(x1, 2, 3).size()"
      ],
      "execution_count": 35,
      "outputs": [
        {
          "output_type": "execute_result",
          "data": {
            "text/plain": [
              "torch.Size([10, 3, 5, 4])"
            ]
          },
          "metadata": {},
          "execution_count": 35
        }
      ]
    },
    {
      "cell_type": "markdown",
      "metadata": {
        "id": "dj20QyHpKADL"
      },
      "source": [
        "# eigenvalue, eigenvector"
      ]
    },
    {
      "cell_type": "code",
      "metadata": {
        "colab": {
          "base_uri": "https://localhost:8080/"
        },
        "id": "zvjcBJjPJ0Fb",
        "outputId": "2eb38b98-dbd4-4b88-dbe1-c43b68ad8df2"
      },
      "source": [
        "x1 = torch.FloatTensor(4, 4)\n",
        "torch.eig(x1, eigenvectors=True)"
      ],
      "execution_count": 37,
      "outputs": [
        {
          "output_type": "execute_result",
          "data": {
            "text/plain": [
              "torch.return_types.eig(eigenvalues=tensor([[0.0000e+00, 0.0000e+00],\n",
              "        [2.6739e+36, 0.0000e+00],\n",
              "        [0.0000e+00, 0.0000e+00],\n",
              "        [0.0000e+00, 0.0000e+00]]), eigenvectors=tensor([[ 0.0000e+00,  1.0000e+00,  0.0000e+00,  0.0000e+00],\n",
              "        [ 0.0000e+00,  0.0000e+00,  2.0252e-37,  0.0000e+00],\n",
              "        [ 0.0000e+00,  0.0000e+00,  0.0000e+00,  1.0150e-15],\n",
              "        [ 1.0000e+00,  1.0526e-13, -1.0000e+00, -1.0000e+00]]))"
            ]
          },
          "metadata": {},
          "execution_count": 37
        }
      ]
    },
    {
      "cell_type": "code",
      "metadata": {
        "id": "h_d7dcXCKGfM"
      },
      "source": [
        ""
      ],
      "execution_count": null,
      "outputs": []
    }
  ]
}