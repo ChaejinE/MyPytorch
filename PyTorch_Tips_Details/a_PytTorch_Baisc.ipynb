{
  "nbformat": 4,
  "nbformat_minor": 0,
  "metadata": {
    "colab": {
      "name": "a_PytTorch_Baisc",
      "provenance": [],
      "authorship_tag": "ABX9TyOy3LVE7WZ6cw+FSqj4tya4",
      "include_colab_link": true
    },
    "kernelspec": {
      "name": "python3",
      "display_name": "Python 3"
    },
    "language_info": {
      "name": "python"
    },
    "accelerator": "GPU"
  },
  "cells": [
    {
      "cell_type": "markdown",
      "metadata": {
        "id": "view-in-github",
        "colab_type": "text"
      },
      "source": [
        "<a href=\"https://colab.research.google.com/github/ChaejinE/MyPytorch/blob/main/PyTorch_Tips_Details/a_PytTorch_Baisc.ipynb\" target=\"_parent\"><img src=\"https://colab.research.google.com/assets/colab-badge.svg\" alt=\"Open In Colab\"/></a>"
      ]
    },
    {
      "cell_type": "code",
      "metadata": {
        "id": "HK-YuJrsRkZh"
      },
      "source": [
        "import torch"
      ],
      "execution_count": null,
      "outputs": []
    },
    {
      "cell_type": "markdown",
      "metadata": {
        "id": "Qb8EvSSTUA-F"
      },
      "source": [
        "# 굉장히 넘파이스럽게"
      ]
    },
    {
      "cell_type": "code",
      "metadata": {
        "id": "HyQ-FeBmRyj4",
        "colab": {
          "base_uri": "https://localhost:8080/"
        },
        "outputId": "6c440557-576f-4619-8163-b0ba71e4b996"
      },
      "source": [
        "nums = torch.arange(9)\n",
        "nums"
      ],
      "execution_count": null,
      "outputs": [
        {
          "output_type": "execute_result",
          "data": {
            "text/plain": [
              "tensor([0, 1, 2, 3, 4, 5, 6, 7, 8])"
            ]
          },
          "metadata": {},
          "execution_count": 2
        }
      ]
    },
    {
      "cell_type": "code",
      "metadata": {
        "colab": {
          "base_uri": "https://localhost:8080/"
        },
        "id": "J7s3Cv5aTmVR",
        "outputId": "7872d2e1-a0cc-4772-da2f-ac1af9c7e558"
      },
      "source": [
        "nums.shape"
      ],
      "execution_count": null,
      "outputs": [
        {
          "output_type": "execute_result",
          "data": {
            "text/plain": [
              "torch.Size([9])"
            ]
          },
          "metadata": {},
          "execution_count": 3
        }
      ]
    },
    {
      "cell_type": "code",
      "metadata": {
        "id": "RZJFoQVxTpEK",
        "colab": {
          "base_uri": "https://localhost:8080/"
        },
        "outputId": "6425f376-bead-41a5-942d-16bb5516ddd0"
      },
      "source": [
        "type(nums)"
      ],
      "execution_count": null,
      "outputs": [
        {
          "output_type": "execute_result",
          "data": {
            "text/plain": [
              "torch.Tensor"
            ]
          },
          "metadata": {},
          "execution_count": 4
        }
      ]
    },
    {
      "cell_type": "code",
      "metadata": {
        "id": "MKn6DVy_TrFu",
        "colab": {
          "base_uri": "https://localhost:8080/"
        },
        "outputId": "8db36128-16ca-410b-e5e5-782c43dd947b"
      },
      "source": [
        "nums.numpy()\n",
        "nums.reshape(3, 3)\n",
        "nums"
      ],
      "execution_count": null,
      "outputs": [
        {
          "output_type": "execute_result",
          "data": {
            "text/plain": [
              "tensor([0, 1, 2, 3, 4, 5, 6, 7, 8])"
            ]
          },
          "metadata": {},
          "execution_count": 5
        }
      ]
    },
    {
      "cell_type": "code",
      "metadata": {
        "id": "gqFQOcDoT5WR",
        "colab": {
          "base_uri": "https://localhost:8080/"
        },
        "outputId": "b3c3c764-a2f6-445e-e3af-2c3f4cda15d2"
      },
      "source": [
        "nums = torch.arange(9).reshape(3, 3)\n",
        "nums"
      ],
      "execution_count": null,
      "outputs": [
        {
          "output_type": "execute_result",
          "data": {
            "text/plain": [
              "tensor([[0, 1, 2],\n",
              "        [3, 4, 5],\n",
              "        [6, 7, 8]])"
            ]
          },
          "metadata": {},
          "execution_count": 6
        }
      ]
    },
    {
      "cell_type": "code",
      "metadata": {
        "id": "cFRXZeypT6sk",
        "colab": {
          "base_uri": "https://localhost:8080/"
        },
        "outputId": "aadede4d-ede0-49cd-9392-3443723640e7"
      },
      "source": [
        "nums + nums"
      ],
      "execution_count": null,
      "outputs": [
        {
          "output_type": "execute_result",
          "data": {
            "text/plain": [
              "tensor([[ 0,  2,  4],\n",
              "        [ 6,  8, 10],\n",
              "        [12, 14, 16]])"
            ]
          },
          "metadata": {},
          "execution_count": 7
        }
      ]
    },
    {
      "cell_type": "markdown",
      "metadata": {
        "id": "cgCGDGPNUFH0"
      },
      "source": [
        "# 텐서 생성 및 변환"
      ]
    },
    {
      "cell_type": "code",
      "metadata": {
        "id": "t-urU2uBT8Nl"
      },
      "source": [
        "import torch\n",
        "import numpy as np"
      ],
      "execution_count": null,
      "outputs": []
    },
    {
      "cell_type": "code",
      "metadata": {
        "id": "fWmY-RD2UPIv",
        "colab": {
          "base_uri": "https://localhost:8080/"
        },
        "outputId": "aff8a2a9-d718-4eb9-b2f1-70e9680b0f57"
      },
      "source": [
        "torch.tensor([[1,2],[3,4.]])"
      ],
      "execution_count": null,
      "outputs": [
        {
          "output_type": "execute_result",
          "data": {
            "text/plain": [
              "tensor([[1., 2.],\n",
              "        [3., 4.]])"
            ]
          },
          "metadata": {},
          "execution_count": 9
        }
      ]
    },
    {
      "cell_type": "code",
      "metadata": {
        "id": "c4HVUwY5URjp",
        "colab": {
          "base_uri": "https://localhost:8080/"
        },
        "outputId": "f7d4d265-20ee-4f08-ab07-f23d198432f7"
      },
      "source": [
        "torch.tensor([[1,2],[3,4.]], device=\"cuda:0\") # gpu에 텐서 만들기"
      ],
      "execution_count": null,
      "outputs": [
        {
          "output_type": "execute_result",
          "data": {
            "text/plain": [
              "tensor([[1., 2.],\n",
              "        [3., 4.]], device='cuda:0')"
            ]
          },
          "metadata": {},
          "execution_count": 10
        }
      ]
    },
    {
      "cell_type": "code",
      "metadata": {
        "id": "0L0j33WeUYcx",
        "colab": {
          "base_uri": "https://localhost:8080/"
        },
        "outputId": "a8ba94dd-ac6e-4361-a6fb-1a17cabf05d5"
      },
      "source": [
        "torch.tensor([[1,2],[3,4.]], dtype=torch.float64) # 텐서의 데이터 형태 지정"
      ],
      "execution_count": null,
      "outputs": [
        {
          "output_type": "execute_result",
          "data": {
            "text/plain": [
              "tensor([[1., 2.],\n",
              "        [3., 4.]], dtype=torch.float64)"
            ]
          },
          "metadata": {},
          "execution_count": 11
        }
      ]
    },
    {
      "cell_type": "code",
      "metadata": {
        "id": "jnvVShBHUieU",
        "colab": {
          "base_uri": "https://localhost:8080/"
        },
        "outputId": "3cac0a54-ea93-4dab-9151-a160814d5528"
      },
      "source": [
        "torch.arange(0, 10) # arange를 활용한 1-d tensor"
      ],
      "execution_count": null,
      "outputs": [
        {
          "output_type": "execute_result",
          "data": {
            "text/plain": [
              "tensor([0, 1, 2, 3, 4, 5, 6, 7, 8, 9])"
            ]
          },
          "metadata": {},
          "execution_count": 12
        }
      ]
    },
    {
      "cell_type": "code",
      "metadata": {
        "id": "xs-nNOozUm5g",
        "colab": {
          "base_uri": "https://localhost:8080/"
        },
        "outputId": "fdff9c6d-8ac6-4fa8-f2f5-df54c27143ee"
      },
      "source": [
        "torch.zeros(3, 5).to(\"cuda:0\") # to 메소드로  GPU에 전송"
      ],
      "execution_count": null,
      "outputs": [
        {
          "output_type": "execute_result",
          "data": {
            "text/plain": [
              "tensor([[0., 0., 0., 0., 0.],\n",
              "        [0., 0., 0., 0., 0.],\n",
              "        [0., 0., 0., 0., 0.]], device='cuda:0')"
            ]
          },
          "metadata": {},
          "execution_count": 13
        }
      ]
    },
    {
      "cell_type": "code",
      "metadata": {
        "id": "yxDW33cmUx4y",
        "colab": {
          "base_uri": "https://localhost:8080/"
        },
        "outputId": "f215cce8-54ba-4407-a077-0e932f15f7bc"
      },
      "source": [
        "torch.randn(3, 5) # normal distribution으로 3 x 5 텐서 생성"
      ],
      "execution_count": null,
      "outputs": [
        {
          "output_type": "execute_result",
          "data": {
            "text/plain": [
              "tensor([[ 0.7305,  0.7840, -0.5045,  1.0376,  1.9134],\n",
              "        [-0.3948, -1.7347, -0.4193, -0.6488, -1.2591],\n",
              "        [ 0.3950,  0.2514, -0.5652, -0.4278,  1.9954]])"
            ]
          },
          "metadata": {},
          "execution_count": 14
        }
      ]
    },
    {
      "cell_type": "code",
      "metadata": {
        "id": "XXa7EbfvU4zA",
        "colab": {
          "base_uri": "https://localhost:8080/"
        },
        "outputId": "19354f21-ca70-4ae0-a26a-b7ddd5ef5245"
      },
      "source": [
        "t = torch.randn(3, 5)\n",
        "t.size()"
      ],
      "execution_count": null,
      "outputs": [
        {
          "output_type": "execute_result",
          "data": {
            "text/plain": [
              "torch.Size([3, 5])"
            ]
          },
          "metadata": {},
          "execution_count": 15
        }
      ]
    },
    {
      "cell_type": "code",
      "metadata": {
        "id": "LeLFk6CcU7BC"
      },
      "source": [
        "t = torch.tensor([[1,2],[3,4.]])\n",
        "x = t.numpy()\n",
        "\n",
        "t = torch.tensor([[1,2],[3,4.]], device=\"cuda:0\")\n",
        "x = t.to(\"cpu\").numpy() # gpu tensor는 numpy로 바로 변환 x, cpu로 Type으로 바꿔줘야한다."
      ],
      "execution_count": null,
      "outputs": []
    },
    {
      "cell_type": "code",
      "metadata": {
        "id": "zViz5PE6VQZX",
        "colab": {
          "base_uri": "https://localhost:8080/"
        },
        "outputId": "3214a748-7963-41c8-886c-46ca83eb3265"
      },
      "source": [
        "x = torch.linspace(0, 10, 5) # 0 ~ 10 중에 5개를 일정한 간격으로 생성해준다.\n",
        "x"
      ],
      "execution_count": null,
      "outputs": [
        {
          "output_type": "execute_result",
          "data": {
            "text/plain": [
              "tensor([ 0.0000,  2.5000,  5.0000,  7.5000, 10.0000])"
            ]
          },
          "metadata": {},
          "execution_count": 17
        }
      ]
    },
    {
      "cell_type": "code",
      "metadata": {
        "id": "efqj0rmTVaCN",
        "colab": {
          "base_uri": "https://localhost:8080/"
        },
        "outputId": "a6d55bfb-aba7-444a-a1f5-5113e44fa111"
      },
      "source": [
        "y = torch.exp(x)\n",
        "y"
      ],
      "execution_count": null,
      "outputs": [
        {
          "output_type": "execute_result",
          "data": {
            "text/plain": [
              "tensor([1.0000e+00, 1.2182e+01, 1.4841e+02, 1.8080e+03, 2.2026e+04])"
            ]
          },
          "metadata": {},
          "execution_count": 18
        }
      ]
    },
    {
      "cell_type": "code",
      "metadata": {
        "id": "lLu3Hp3FVcZm",
        "colab": {
          "base_uri": "https://localhost:8080/",
          "height": 283
        },
        "outputId": "7ea96371-022c-42eb-f827-116031619898"
      },
      "source": [
        "import matplotlib.pyplot as plt\n",
        "plt.plot(x.numpy(), y.numpy())"
      ],
      "execution_count": null,
      "outputs": [
        {
          "output_type": "execute_result",
          "data": {
            "text/plain": [
              "[<matplotlib.lines.Line2D at 0x7f9dd87d1a50>]"
            ]
          },
          "metadata": {},
          "execution_count": 19
        },
        {
          "output_type": "display_data",
          "data": {
            "image/png": "[encoded data removed]",
            "text/plain": [
              "<Figure size 432x288 with 1 Axes>"
            ]
          },
          "metadata": {
            "needs_background": "light"
          }
        }
      ]
    },
    {
      "cell_type": "markdown",
      "metadata": {
        "id": "aQvVft8pbG2x"
      },
      "source": [
        "# rand, zeros, ones\n",
        "- 첫 인자 : dimension(shape)"
      ]
    },
    {
      "cell_type": "code",
      "metadata": {
        "id": "DgYG1iBdbQyU",
        "colab": {
          "base_uri": "https://localhost:8080/"
        },
        "outputId": "7a6351db-c98b-461e-a654-c90d1ce6fcde"
      },
      "source": [
        "x = torch.rand(2, 3) # 2x3 float tensor\n",
        "print(x)\n",
        "print(type(x))"
      ],
      "execution_count": null,
      "outputs": [
        {
          "output_type": "stream",
          "name": "stdout",
          "text": [
            "tensor([[0.5823, 0.2423, 0.8146],\n",
            "        [0.2713, 0.5443, 0.9081]])\n",
            "<class 'torch.Tensor'>\n"
          ]
        }
      ]
    },
    {
      "cell_type": "markdown",
      "metadata": {
        "id": "rovZ5qAYc9Qb"
      },
      "source": [
        "- Random 순열 생성법"
      ]
    },
    {
      "cell_type": "code",
      "metadata": {
        "id": "afNluTVjcqbt",
        "colab": {
          "base_uri": "https://localhost:8080/"
        },
        "outputId": "5a7307cc-f94d-4f43-90ed-486421f655ba"
      },
      "source": [
        "torch.torch.randperm(5) # "
      ],
      "execution_count": null,
      "outputs": [
        {
          "output_type": "execute_result",
          "data": {
            "text/plain": [
              "tensor([3, 0, 1, 2, 4])"
            ]
          },
          "metadata": {},
          "execution_count": 22
        }
      ]
    },
    {
      "cell_type": "markdown",
      "metadata": {
        "id": "7WpNYDsfdgb7"
      },
      "source": [
        "- zeros"
      ]
    },
    {
      "cell_type": "code",
      "metadata": {
        "id": "QjncHj8ydFK6",
        "colab": {
          "base_uri": "https://localhost:8080/"
        },
        "outputId": "81d113b6-60ef-4901-c6d3-649e781e6fda"
      },
      "source": [
        "zeros = torch.zeros(2, 3) # 2 x 3 shape zeros matrix\n",
        "zeros"
      ],
      "execution_count": null,
      "outputs": [
        {
          "output_type": "execute_result",
          "data": {
            "text/plain": [
              "tensor([[0., 0., 0.],\n",
              "        [0., 0., 0.]])"
            ]
          },
          "metadata": {},
          "execution_count": 27
        }
      ]
    },
    {
      "cell_type": "code",
      "metadata": {
        "id": "NI5n1IbpdXoP",
        "colab": {
          "base_uri": "https://localhost:8080/"
        },
        "outputId": "71134677-460c-4909-b2b0-4e7f6a7ca7e5"
      },
      "source": [
        "torch.zeros_like(zeros) # zeros like"
      ],
      "execution_count": null,
      "outputs": [
        {
          "output_type": "execute_result",
          "data": {
            "text/plain": [
              "tensor([[0., 0., 0.],\n",
              "        [0., 0., 0.]])"
            ]
          },
          "metadata": {},
          "execution_count": 28
        }
      ]
    },
    {
      "cell_type": "markdown",
      "metadata": {
        "id": "2_KuPBfEditr"
      },
      "source": [
        "- ones"
      ]
    },
    {
      "cell_type": "code",
      "metadata": {
        "id": "QC4hyON3dkD3",
        "colab": {
          "base_uri": "https://localhost:8080/"
        },
        "outputId": "7cdfea33-ef71-438f-9d89-87e7e4754a55"
      },
      "source": [
        "torch.ones(2, 3) # 2 x 3 shape ones matrix"
      ],
      "execution_count": null,
      "outputs": [
        {
          "output_type": "execute_result",
          "data": {
            "text/plain": [
              "tensor([[1., 1., 1.],\n",
              "        [1., 1., 1.]])"
            ]
          },
          "metadata": {},
          "execution_count": 30
        }
      ]
    },
    {
      "cell_type": "markdown",
      "metadata": {
        "id": "ElQnMgjBeC_U"
      },
      "source": [
        "- arange를 통한 Tensor 생성\n",
        "- arange(a, b, c) a부터 c **전**까지 생성하는데 c step만큼의 간격으로 생성"
      ]
    },
    {
      "cell_type": "code",
      "metadata": {
        "id": "8zNXQClLePb3",
        "colab": {
          "base_uri": "https://localhost:8080/"
        },
        "outputId": "90fac4c2-f6ad-4c21-c4f3-d4a91b74c7b1"
      },
      "source": [
        "torch.arange(0, 3, step=0.5)"
      ],
      "execution_count": null,
      "outputs": [
        {
          "output_type": "execute_result",
          "data": {
            "text/plain": [
              "tensor([0.0000, 0.5000, 1.0000, 1.5000, 2.0000, 2.5000])"
            ]
          },
          "metadata": {},
          "execution_count": 31
        }
      ]
    },
    {
      "cell_type": "markdown",
      "metadata": {
        "id": "xilF7t82emxQ"
      },
      "source": [
        "# Tensor Type"
      ]
    },
    {
      "cell_type": "code",
      "metadata": {
        "id": "uHAB_O4DepH7",
        "colab": {
          "base_uri": "https://localhost:8080/"
        },
        "outputId": "5917640a-96b4-4f79-aca5-89e7cd342ed6"
      },
      "source": [
        "torch.cuda.FloatTensor(2, 3) # Float Type 2 x 3 Tensor"
      ],
      "execution_count": null,
      "outputs": [
        {
          "output_type": "execute_result",
          "data": {
            "text/plain": [
              "tensor([[2.0000, 2.1250, 0.0000],\n",
              "        [2.0000, 0.0000, 2.1250]], device='cuda:0')"
            ]
          },
          "metadata": {},
          "execution_count": 33
        }
      ]
    },
    {
      "cell_type": "markdown",
      "metadata": {
        "id": "ZnLGxWB5fFqe"
      },
      "source": [
        "- Type 변환"
      ]
    },
    {
      "cell_type": "code",
      "metadata": {
        "id": "oDW8yKUaewCB",
        "colab": {
          "base_uri": "https://localhost:8080/"
        },
        "outputId": "f6ebadb1-3bb6-43a1-d041-fc501470654b"
      },
      "source": [
        "x = torch.cuda.FloatTensor([2, 3])\n",
        "x.type_as(torch.cuda.IntTensor()) # Convert FloatTensor to IntTensor"
      ],
      "execution_count": null,
      "outputs": [
        {
          "output_type": "execute_result",
          "data": {
            "text/plain": [
              "tensor([2, 3], device='cuda:0', dtype=torch.int32)"
            ]
          },
          "metadata": {},
          "execution_count": 37
        }
      ]
    },
    {
      "cell_type": "markdown",
      "metadata": {
        "id": "XJwjJcxQfHSz"
      },
      "source": [
        "- Numpy - Tensor 간의 변환"
      ]
    },
    {
      "cell_type": "code",
      "metadata": {
        "id": "r1Ury8otfMNw"
      },
      "source": [
        "import numpy as np"
      ],
      "execution_count": null,
      "outputs": []
    },
    {
      "cell_type": "code",
      "metadata": {
        "id": "SzR3WGHvfOeQ",
        "colab": {
          "base_uri": "https://localhost:8080/"
        },
        "outputId": "8d10177d-6f5a-4524-fc60-a35075618cf2"
      },
      "source": [
        "x1 = np.ndarray(shape=(2, 3), dtype=int, buffer=np.array([1, 2, 3, 4, 5, 6]))\n",
        "x1"
      ],
      "execution_count": null,
      "outputs": [
        {
          "output_type": "execute_result",
          "data": {
            "text/plain": [
              "array([[1, 2, 3],\n",
              "       [4, 5, 6]])"
            ]
          },
          "metadata": {},
          "execution_count": 39
        }
      ]
    },
    {
      "cell_type": "code",
      "metadata": {
        "id": "CQucI8NMfOai",
        "colab": {
          "base_uri": "https://localhost:8080/"
        },
        "outputId": "3cb3aad8-fa03-47c6-8376-648791b4c2af"
      },
      "source": [
        "torch.from_numpy(x1) # numpy -> tensor"
      ],
      "execution_count": null,
      "outputs": [
        {
          "output_type": "execute_result",
          "data": {
            "text/plain": [
              "tensor([[1, 2, 3],\n",
              "        [4, 5, 6]])"
            ]
          },
          "metadata": {},
          "execution_count": 41
        }
      ]
    },
    {
      "cell_type": "code",
      "metadata": {
        "id": "tocyI9qifOYQ",
        "colab": {
          "base_uri": "https://localhost:8080/"
        },
        "outputId": "26f0ae65-10fa-43be-85b2-4f1da3ce23a3"
      },
      "source": [
        "x2 = torch.from_numpy(x1)\n",
        "x2.numpy() # tensor -> numpy"
      ],
      "execution_count": null,
      "outputs": [
        {
          "output_type": "execute_result",
          "data": {
            "text/plain": [
              "array([[1, 2, 3],\n",
              "       [4, 5, 6]])"
            ]
          },
          "metadata": {},
          "execution_count": 42
        }
      ]
    },
    {
      "cell_type": "code",
      "metadata": {
        "id": "xuzh_orGfORQ",
        "colab": {
          "base_uri": "https://localhost:8080/"
        },
        "outputId": "43b481b3-a622-46f0-ff10-150b67a07ca6"
      },
      "source": [
        "x2.float() # eleme type을 float으로 converting"
      ],
      "execution_count": null,
      "outputs": [
        {
          "output_type": "execute_result",
          "data": {
            "text/plain": [
              "tensor([[1., 2., 3.],\n",
              "        [4., 5., 6.]])"
            ]
          },
          "metadata": {},
          "execution_count": 45
        }
      ]
    },
    {
      "cell_type": "markdown",
      "metadata": {
        "id": "ZbH7DJXlf_tg"
      },
      "source": [
        "- CPU Type - GPU Type"
      ]
    },
    {
      "cell_type": "code",
      "metadata": {
        "id": "ZpYjyv1ofON1",
        "colab": {
          "base_uri": "https://localhost:8080/"
        },
        "outputId": "aeb74e91-de77-4a78-ba4e-98d619ba09fe"
      },
      "source": [
        "x = torch.FloatTensor([[1, 2, 3], [4, 5, 6]])\n",
        "x_gpu = x.cuda()\n",
        "x_gpu"
      ],
      "execution_count": null,
      "outputs": [
        {
          "output_type": "execute_result",
          "data": {
            "text/plain": [
              "tensor([[1., 2., 3.],\n",
              "        [4., 5., 6.]], device='cuda:0')"
            ]
          },
          "metadata": {},
          "execution_count": 48
        }
      ]
    },
    {
      "cell_type": "code",
      "metadata": {
        "id": "VJ1PlkicfOLl",
        "colab": {
          "base_uri": "https://localhost:8080/"
        },
        "outputId": "307cc7d2-a06f-4ffd-9b38-e89518dd6302"
      },
      "source": [
        "x_cpu = x_gpu.cpu()\n",
        "x_cpu"
      ],
      "execution_count": null,
      "outputs": [
        {
          "output_type": "execute_result",
          "data": {
            "text/plain": [
              "tensor([[1., 2., 3.],\n",
              "        [4., 5., 6.]])"
            ]
          },
          "metadata": {},
          "execution_count": 49
        }
      ]
    },
    {
      "cell_type": "markdown",
      "metadata": {
        "id": "3uZHZSo3Vr0I"
      },
      "source": [
        "# Tensor Index 조작"
      ]
    },
    {
      "cell_type": "code",
      "metadata": {
        "id": "jchu7DfiVn7J"
      },
      "source": [
        "t = torch.tensor([ [1,2,3], [4,5,6] ])"
      ],
      "execution_count": null,
      "outputs": []
    },
    {
      "cell_type": "code",
      "metadata": {
        "id": "xT8TrKUCVz-b",
        "colab": {
          "base_uri": "https://localhost:8080/"
        },
        "outputId": "ab45c220-a7a7-4570-afd6-3292e722d9c5"
      },
      "source": [
        "t[0, 2] # index 접근"
      ],
      "execution_count": null,
      "outputs": [
        {
          "output_type": "execute_result",
          "data": {
            "text/plain": [
              "tensor(3)"
            ]
          },
          "metadata": {},
          "execution_count": 51
        }
      ]
    },
    {
      "cell_type": "code",
      "metadata": {
        "id": "AOO5MJE1V4Us",
        "colab": {
          "base_uri": "https://localhost:8080/"
        },
        "outputId": "d1ee3526-79e2-4049-e5c0-8712f31735d9"
      },
      "source": [
        "t[:, :2] # slicing 접근"
      ],
      "execution_count": null,
      "outputs": [
        {
          "output_type": "execute_result",
          "data": {
            "text/plain": [
              "tensor([[1, 2],\n",
              "        [4, 5]])"
            ]
          },
          "metadata": {},
          "execution_count": 52
        }
      ]
    },
    {
      "cell_type": "code",
      "metadata": {
        "id": "sfXiz5kNV64n",
        "colab": {
          "base_uri": "https://localhost:8080/"
        },
        "outputId": "f708a88b-e182-443c-f20d-d4b1fc1c3031"
      },
      "source": [
        "t[t > 3] # 마스크 배열을 이용한  True 추출"
      ],
      "execution_count": null,
      "outputs": [
        {
          "output_type": "execute_result",
          "data": {
            "text/plain": [
              "tensor([4, 5, 6])"
            ]
          },
          "metadata": {},
          "execution_count": 53
        }
      ]
    },
    {
      "cell_type": "code",
      "metadata": {
        "id": "uD-Prn3hWBlj",
        "colab": {
          "base_uri": "https://localhost:8080/"
        },
        "outputId": "07212aba-f0af-4e92-f75f-0490f7ca8481"
      },
      "source": [
        "t[:, 1] = 10 # Slicing을 이용한 일괄 대입\n",
        "t"
      ],
      "execution_count": null,
      "outputs": [
        {
          "output_type": "execute_result",
          "data": {
            "text/plain": [
              "tensor([[ 1, 10,  3],\n",
              "        [ 4, 10,  6]])"
            ]
          },
          "metadata": {},
          "execution_count": 54
        }
      ]
    },
    {
      "cell_type": "code",
      "metadata": {
        "id": "lGtJ74kVWEXC",
        "colab": {
          "base_uri": "https://localhost:8080/"
        },
        "outputId": "a8ed01e3-9336-4654-ff54-2ca5d957aa67"
      },
      "source": [
        "t[t > 5] = 20 # 마스크 배열을 사용한 일괄 대입\n",
        "t"
      ],
      "execution_count": null,
      "outputs": [
        {
          "output_type": "execute_result",
          "data": {
            "text/plain": [
              "tensor([[ 1, 20,  3],\n",
              "        [ 4, 20, 20]])"
            ]
          },
          "metadata": {},
          "execution_count": 55
        }
      ]
    },
    {
      "cell_type": "markdown",
      "metadata": {
        "id": "xQMeEMLCiYva"
      },
      "source": [
        "- troch.index_select method 이용"
      ]
    },
    {
      "cell_type": "code",
      "metadata": {
        "id": "ke8ZVKjHWMum",
        "colab": {
          "base_uri": "https://localhost:8080/"
        },
        "outputId": "4cc3acdd-dbed-49c6-d973-ada29441720d"
      },
      "source": [
        "x = torch.rand(4, 3)\n",
        "x"
      ],
      "execution_count": null,
      "outputs": [
        {
          "output_type": "execute_result",
          "data": {
            "text/plain": [
              "tensor([[0.1607, 0.0615, 0.7648],\n",
              "        [0.5008, 0.8758, 0.9520],\n",
              "        [0.9440, 0.7329, 0.9313],\n",
              "        [0.5147, 0.5888, 0.2473]])"
            ]
          },
          "metadata": {},
          "execution_count": 56
        }
      ]
    },
    {
      "cell_type": "code",
      "metadata": {
        "id": "SEu9ewo_iehZ",
        "colab": {
          "base_uri": "https://localhost:8080/"
        },
        "outputId": "dbd51cba-5778-4a51-e182-379816b102c4"
      },
      "source": [
        "torch.index_select(x, 0, torch.LongTensor([0, 2])) # 3 번째 인자 : torch.LongTensor로 Index를 입력한다. python이나 numpy에 비해 이질감이 있다."
      ],
      "execution_count": null,
      "outputs": [
        {
          "output_type": "execute_result",
          "data": {
            "text/plain": [
              "tensor([[0.1607, 0.0615, 0.7648],\n",
              "        [0.9440, 0.7329, 0.9313]])"
            ]
          },
          "metadata": {},
          "execution_count": 59
        }
      ]
    },
    {
      "cell_type": "markdown",
      "metadata": {
        "id": "QQ0kf_Myi150"
      },
      "source": [
        "- mask 기능을 통해 인덱싱하는 방법\n",
        "- torch.masked_select(input, mask)"
      ]
    },
    {
      "cell_type": "code",
      "metadata": {
        "id": "7MgxockgijFQ",
        "colab": {
          "base_uri": "https://localhost:8080/"
        },
        "outputId": "af36510f-d970-46bc-f77e-4c31b21c4b67"
      },
      "source": [
        "x = torch.rand(2, 3)\n",
        "x"
      ],
      "execution_count": null,
      "outputs": [
        {
          "output_type": "execute_result",
          "data": {
            "text/plain": [
              "tensor([[0.3283, 0.1894, 0.6037],\n",
              "        [0.0460, 0.0681, 0.3496]])"
            ]
          },
          "metadata": {},
          "execution_count": 60
        }
      ]
    },
    {
      "cell_type": "code",
      "metadata": {
        "id": "cwh4w0CVi_5d",
        "colab": {
          "base_uri": "https://localhost:8080/"
        },
        "outputId": "ce058ddd-65cc-4366-a15f-81a987e999f6"
      },
      "source": [
        "mask = torch.ByteTensor([[0, 0, 1], [0, 1, 0]])\n",
        "torch.masked_select(x, mask) # input 영역과 mask 영역의 크기가 같아야 오류가 안나므로 주의"
      ],
      "execution_count": null,
      "outputs": [
        {
          "output_type": "stream",
          "name": "stderr",
          "text": [
            "/usr/local/lib/python3.7/dist-packages/ipykernel_launcher.py:2: UserWarning: masked_select received a mask with dtype torch.uint8, this behavior is now deprecated,please use a mask with dtype torch.bool instead. (Triggered internally at  /pytorch/aten/src/ATen/native/TensorAdvancedIndexing.cpp:1187.)\n",
            "  \n"
          ]
        },
        {
          "output_type": "execute_result",
          "data": {
            "text/plain": [
              "tensor([0.6037, 0.0681])"
            ]
          },
          "metadata": {},
          "execution_count": 62
        }
      ]
    },
    {
      "cell_type": "code",
      "metadata": {
        "id": "GaimSPqojEcU"
      },
      "source": [
        ""
      ],
      "execution_count": null,
      "outputs": []
    }
  ]
}