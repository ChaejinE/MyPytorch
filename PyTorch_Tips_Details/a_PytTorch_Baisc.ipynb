{
  "nbformat": 4,
  "nbformat_minor": 0,
  "metadata": {
    "colab": {
      "name": "a_PytTorch_Baisc",
      "provenance": [],
      "authorship_tag": "ABX9TyMpC8Skhs4sgjmG2p3KaS7r",
      "include_colab_link": true
    },
    "kernelspec": {
      "name": "python3",
      "display_name": "Python 3"
    },
    "language_info": {
      "name": "python"
    },
    "accelerator": "GPU"
  },
  "cells": [
    {
      "cell_type": "markdown",
      "metadata": {
        "id": "view-in-github",
        "colab_type": "text"
      },
      "source": [
        "<a href=\"https://colab.research.google.com/github/ChaejinE/MyPytorch/blob/main/PyTorch_Tips_Details/a_PytTorch_Baisc.ipynb\" target=\"_parent\"><img src=\"https://colab.research.google.com/assets/colab-badge.svg\" alt=\"Open In Colab\"/></a>"
      ]
    },
    {
      "cell_type": "code",
      "metadata": {
        "id": "HK-YuJrsRkZh"
      },
      "source": [
        "import torch"
      ],
      "execution_count": 1,
      "outputs": []
    },
    {
      "cell_type": "markdown",
      "metadata": {
        "id": "Qb8EvSSTUA-F"
      },
      "source": [
        "# 굉장히 넘파이스럽게"
      ]
    },
    {
      "cell_type": "code",
      "metadata": {
        "id": "HyQ-FeBmRyj4",
        "colab": {
          "base_uri": "https://localhost:8080/"
        },
        "outputId": "288e5733-d778-41c1-848e-1f63abfb10fa"
      },
      "source": [
        "nums = torch.arange(9)\n",
        "nums"
      ],
      "execution_count": 2,
      "outputs": [
        {
          "output_type": "execute_result",
          "data": {
            "text/plain": [
              "tensor([0, 1, 2, 3, 4, 5, 6, 7, 8])"
            ]
          },
          "metadata": {},
          "execution_count": 2
        }
      ]
    },
    {
      "cell_type": "code",
      "metadata": {
        "colab": {
          "base_uri": "https://localhost:8080/"
        },
        "id": "J7s3Cv5aTmVR",
        "outputId": "224955fa-11b2-43d6-c2db-0118ad3a2def"
      },
      "source": [
        "nums.shape"
      ],
      "execution_count": 3,
      "outputs": [
        {
          "output_type": "execute_result",
          "data": {
            "text/plain": [
              "torch.Size([9])"
            ]
          },
          "metadata": {},
          "execution_count": 3
        }
      ]
    },
    {
      "cell_type": "code",
      "metadata": {
        "id": "RZJFoQVxTpEK",
        "outputId": "1eead85a-d696-4ff1-991c-ecd554e485d7",
        "colab": {
          "base_uri": "https://localhost:8080/"
        }
      },
      "source": [
        "type(nums)"
      ],
      "execution_count": 4,
      "outputs": [
        {
          "output_type": "execute_result",
          "data": {
            "text/plain": [
              "torch.Tensor"
            ]
          },
          "metadata": {},
          "execution_count": 4
        }
      ]
    },
    {
      "cell_type": "code",
      "metadata": {
        "id": "MKn6DVy_TrFu",
        "outputId": "3bdbfd87-f989-4401-d404-14b3acb5ead6",
        "colab": {
          "base_uri": "https://localhost:8080/"
        }
      },
      "source": [
        "nums.numpy()\n",
        "nums.reshape(3, 3)\n",
        "nums"
      ],
      "execution_count": 5,
      "outputs": [
        {
          "output_type": "execute_result",
          "data": {
            "text/plain": [
              "tensor([0, 1, 2, 3, 4, 5, 6, 7, 8])"
            ]
          },
          "metadata": {},
          "execution_count": 5
        }
      ]
    },
    {
      "cell_type": "code",
      "metadata": {
        "id": "gqFQOcDoT5WR",
        "outputId": "c4d5b9bf-5aca-4894-b06f-205b513b42b4",
        "colab": {
          "base_uri": "https://localhost:8080/"
        }
      },
      "source": [
        "nums = torch.arange(9).reshape(3, 3)\n",
        "nums"
      ],
      "execution_count": 6,
      "outputs": [
        {
          "output_type": "execute_result",
          "data": {
            "text/plain": [
              "tensor([[0, 1, 2],\n",
              "        [3, 4, 5],\n",
              "        [6, 7, 8]])"
            ]
          },
          "metadata": {},
          "execution_count": 6
        }
      ]
    },
    {
      "cell_type": "code",
      "metadata": {
        "id": "cFRXZeypT6sk",
        "outputId": "5e9887af-aed5-4b1b-99ab-375a15bb5b2e",
        "colab": {
          "base_uri": "https://localhost:8080/"
        }
      },
      "source": [
        "nums + nums"
      ],
      "execution_count": 7,
      "outputs": [
        {
          "output_type": "execute_result",
          "data": {
            "text/plain": [
              "tensor([[ 0,  2,  4],\n",
              "        [ 6,  8, 10],\n",
              "        [12, 14, 16]])"
            ]
          },
          "metadata": {},
          "execution_count": 7
        }
      ]
    },
    {
      "cell_type": "markdown",
      "metadata": {
        "id": "cgCGDGPNUFH0"
      },
      "source": [
        "# 텐서 생성 및 변환"
      ]
    },
    {
      "cell_type": "code",
      "metadata": {
        "id": "t-urU2uBT8Nl"
      },
      "source": [
        "import torch\n",
        "import numpy as np"
      ],
      "execution_count": 8,
      "outputs": []
    },
    {
      "cell_type": "code",
      "metadata": {
        "id": "fWmY-RD2UPIv",
        "outputId": "5f3d89b5-e61b-4f83-9c9e-ca8ebbd6496c",
        "colab": {
          "base_uri": "https://localhost:8080/"
        }
      },
      "source": [
        "torch.tensor([[1,2],[3,4.]])"
      ],
      "execution_count": 9,
      "outputs": [
        {
          "output_type": "execute_result",
          "data": {
            "text/plain": [
              "tensor([[1., 2.],\n",
              "        [3., 4.]])"
            ]
          },
          "metadata": {},
          "execution_count": 9
        }
      ]
    },
    {
      "cell_type": "code",
      "metadata": {
        "id": "c4HVUwY5URjp",
        "outputId": "99307f2a-385d-4e3b-d360-9f271f04ad77",
        "colab": {
          "base_uri": "https://localhost:8080/"
        }
      },
      "source": [
        "torch.tensor([[1,2],[3,4.]], device=\"cuda:0\") # gpu에 텐서 만들기"
      ],
      "execution_count": 11,
      "outputs": [
        {
          "output_type": "execute_result",
          "data": {
            "text/plain": [
              "tensor([[1., 2.],\n",
              "        [3., 4.]], device='cuda:0')"
            ]
          },
          "metadata": {},
          "execution_count": 11
        }
      ]
    },
    {
      "cell_type": "code",
      "metadata": {
        "id": "0L0j33WeUYcx",
        "outputId": "90f83a6e-f8c6-4c16-dcae-0804d24800ee",
        "colab": {
          "base_uri": "https://localhost:8080/"
        }
      },
      "source": [
        "torch.tensor([[1,2],[3,4.]], dtype=torch.float64) # 텐서의 데이터 형태 지정"
      ],
      "execution_count": 12,
      "outputs": [
        {
          "output_type": "execute_result",
          "data": {
            "text/plain": [
              "tensor([[1., 2.],\n",
              "        [3., 4.]], dtype=torch.float64)"
            ]
          },
          "metadata": {},
          "execution_count": 12
        }
      ]
    },
    {
      "cell_type": "code",
      "metadata": {
        "id": "jnvVShBHUieU",
        "outputId": "569289b6-588b-4a5f-b541-dc30989190a0",
        "colab": {
          "base_uri": "https://localhost:8080/"
        }
      },
      "source": [
        "torch.arange(0, 10) # arange를 활용한 1-d tensor"
      ],
      "execution_count": 15,
      "outputs": [
        {
          "output_type": "execute_result",
          "data": {
            "text/plain": [
              "tensor([0, 1, 2, 3, 4, 5, 6, 7, 8, 9])"
            ]
          },
          "metadata": {},
          "execution_count": 15
        }
      ]
    },
    {
      "cell_type": "code",
      "metadata": {
        "id": "xs-nNOozUm5g",
        "outputId": "ce67e71b-f05b-48ae-9ee3-fcf2976083d4",
        "colab": {
          "base_uri": "https://localhost:8080/"
        }
      },
      "source": [
        "torch.zeros(3, 5).to(\"cuda:0\") # to 메소드로  GPU에 전송"
      ],
      "execution_count": 16,
      "outputs": [
        {
          "output_type": "execute_result",
          "data": {
            "text/plain": [
              "tensor([[0., 0., 0., 0., 0.],\n",
              "        [0., 0., 0., 0., 0.],\n",
              "        [0., 0., 0., 0., 0.]], device='cuda:0')"
            ]
          },
          "metadata": {},
          "execution_count": 16
        }
      ]
    },
    {
      "cell_type": "code",
      "metadata": {
        "id": "yxDW33cmUx4y",
        "outputId": "f800c4f6-c6a7-4c34-cc6d-748b825cb305",
        "colab": {
          "base_uri": "https://localhost:8080/"
        }
      },
      "source": [
        "torch.randn(3, 5) # normal distribution으로 3 x 5 텐서 생성"
      ],
      "execution_count": 17,
      "outputs": [
        {
          "output_type": "execute_result",
          "data": {
            "text/plain": [
              "tensor([[-0.9679, -0.0855,  1.6448,  0.5114,  0.5530],\n",
              "        [-1.6094,  0.0833, -0.4187, -0.1707, -0.2760],\n",
              "        [-0.6080,  1.4001,  0.1656,  0.5696,  1.6564]])"
            ]
          },
          "metadata": {},
          "execution_count": 17
        }
      ]
    },
    {
      "cell_type": "code",
      "metadata": {
        "id": "XXa7EbfvU4zA",
        "outputId": "ba055892-96c0-4365-b958-52bf782713d1",
        "colab": {
          "base_uri": "https://localhost:8080/"
        }
      },
      "source": [
        "t = torch.randn(3, 5)\n",
        "t.size()"
      ],
      "execution_count": 18,
      "outputs": [
        {
          "output_type": "execute_result",
          "data": {
            "text/plain": [
              "torch.Size([3, 5])"
            ]
          },
          "metadata": {},
          "execution_count": 18
        }
      ]
    },
    {
      "cell_type": "code",
      "metadata": {
        "id": "LeLFk6CcU7BC"
      },
      "source": [
        "t = torch.tensor([[1,2],[3,4.]])\n",
        "x = t.numpy()\n",
        "\n",
        "t = torch.tensor([[1,2],[3,4.]], device=\"cuda:0\")\n",
        "x = t.to(\"cpu\").numpy() # gpu tensor는 numpy로 바로 변환 x, cpu로 Type으로 바꿔줘야한다."
      ],
      "execution_count": 19,
      "outputs": []
    },
    {
      "cell_type": "code",
      "metadata": {
        "id": "zViz5PE6VQZX",
        "outputId": "4d535d00-530e-4b0e-826e-5cca7cea0427",
        "colab": {
          "base_uri": "https://localhost:8080/"
        }
      },
      "source": [
        "x = torch.linspace(0, 10, 5) # 0 ~ 10 중에 5개를 일정한 간격으로 생성해준다.\n",
        "x"
      ],
      "execution_count": 21,
      "outputs": [
        {
          "output_type": "execute_result",
          "data": {
            "text/plain": [
              "tensor([ 0.0000,  2.5000,  5.0000,  7.5000, 10.0000])"
            ]
          },
          "metadata": {},
          "execution_count": 21
        }
      ]
    },
    {
      "cell_type": "code",
      "metadata": {
        "id": "efqj0rmTVaCN",
        "outputId": "9b2c0415-4e87-4af9-d73d-4fdcc7dd8422",
        "colab": {
          "base_uri": "https://localhost:8080/"
        }
      },
      "source": [
        "y = torch.exp(x)\n",
        "y"
      ],
      "execution_count": 22,
      "outputs": [
        {
          "output_type": "execute_result",
          "data": {
            "text/plain": [
              "tensor([1.0000e+00, 1.2182e+01, 1.4841e+02, 1.8080e+03, 2.2026e+04])"
            ]
          },
          "metadata": {},
          "execution_count": 22
        }
      ]
    },
    {
      "cell_type": "code",
      "metadata": {
        "id": "lLu3Hp3FVcZm",
        "outputId": "7d0c2414-ca02-4da7-9094-ea97b2aac4f8",
        "colab": {
          "base_uri": "https://localhost:8080/",
          "height": 283
        }
      },
      "source": [
        "import matplotlib.pyplot as plt\n",
        "plt.plot(x.numpy(), y.numpy())"
      ],
      "execution_count": 23,
      "outputs": [
        {
          "output_type": "execute_result",
          "data": {
            "text/plain": [
              "[<matplotlib.lines.Line2D at 0x7f32476c5290>]"
            ]
          },
          "metadata": {},
          "execution_count": 23
        },
        {
          "output_type": "display_data",
          "data": {
            "image/png": "[encoded data removed]",
            "text/plain": [
              "<Figure size 432x288 with 1 Axes>"
            ]
          },
          "metadata": {
            "needs_background": "light"
          }
        }
      ]
    },
    {
      "cell_type": "markdown",
      "metadata": {
        "id": "3uZHZSo3Vr0I"
      },
      "source": [
        "# Tensor Index 조작"
      ]
    },
    {
      "cell_type": "code",
      "metadata": {
        "id": "jchu7DfiVn7J"
      },
      "source": [
        "t = torch.tensor([ [1,2,3], [4,5,6] ])"
      ],
      "execution_count": 24,
      "outputs": []
    },
    {
      "cell_type": "code",
      "metadata": {
        "id": "xT8TrKUCVz-b",
        "outputId": "593ad9ed-28eb-478c-9838-abfb19a12b97",
        "colab": {
          "base_uri": "https://localhost:8080/"
        }
      },
      "source": [
        "t[0, 2] # index 접근"
      ],
      "execution_count": 25,
      "outputs": [
        {
          "output_type": "execute_result",
          "data": {
            "text/plain": [
              "tensor(3)"
            ]
          },
          "metadata": {},
          "execution_count": 25
        }
      ]
    },
    {
      "cell_type": "code",
      "metadata": {
        "id": "AOO5MJE1V4Us",
        "outputId": "ba6669a2-4a87-45e8-c3be-94de64791ea4",
        "colab": {
          "base_uri": "https://localhost:8080/"
        }
      },
      "source": [
        "t[:, :2] # slicing 접근"
      ],
      "execution_count": 26,
      "outputs": [
        {
          "output_type": "execute_result",
          "data": {
            "text/plain": [
              "tensor([[1, 2],\n",
              "        [4, 5]])"
            ]
          },
          "metadata": {},
          "execution_count": 26
        }
      ]
    },
    {
      "cell_type": "code",
      "metadata": {
        "id": "sfXiz5kNV64n",
        "outputId": "7062b45a-c83a-42bb-a410-3b0b6489db6e",
        "colab": {
          "base_uri": "https://localhost:8080/"
        }
      },
      "source": [
        "t[t > 3] # 마스크 배열을 이용한  True 추출"
      ],
      "execution_count": 27,
      "outputs": [
        {
          "output_type": "execute_result",
          "data": {
            "text/plain": [
              "tensor([4, 5, 6])"
            ]
          },
          "metadata": {},
          "execution_count": 27
        }
      ]
    },
    {
      "cell_type": "code",
      "metadata": {
        "id": "uD-Prn3hWBlj",
        "outputId": "e76c0a0f-9c04-4b3a-a8de-3634eb77a13a",
        "colab": {
          "base_uri": "https://localhost:8080/"
        }
      },
      "source": [
        "t[:, 1] = 10 # Slicing을 이용한 일괄 대입\n",
        "t"
      ],
      "execution_count": 29,
      "outputs": [
        {
          "output_type": "execute_result",
          "data": {
            "text/plain": [
              "tensor([[ 1, 10,  3],\n",
              "        [ 4, 10,  6]])"
            ]
          },
          "metadata": {},
          "execution_count": 29
        }
      ]
    },
    {
      "cell_type": "code",
      "metadata": {
        "id": "lGtJ74kVWEXC",
        "outputId": "ca2cb304-a9f1-4a39-d874-55d083dca178",
        "colab": {
          "base_uri": "https://localhost:8080/"
        }
      },
      "source": [
        "t[t > 5] = 20 # 마스크 배열을 사용한 일괄 대입\n",
        "t"
      ],
      "execution_count": 30,
      "outputs": [
        {
          "output_type": "execute_result",
          "data": {
            "text/plain": [
              "tensor([[ 1, 20,  3],\n",
              "        [ 4, 20, 20]])"
            ]
          },
          "metadata": {},
          "execution_count": 30
        }
      ]
    },
    {
      "cell_type": "code",
      "metadata": {
        "id": "ke8ZVKjHWMum"
      },
      "source": [
        ""
      ],
      "execution_count": null,
      "outputs": []
    }
  ]
}