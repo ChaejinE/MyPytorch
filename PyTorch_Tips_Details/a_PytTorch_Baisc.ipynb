{
  "nbformat": 4,
  "nbformat_minor": 0,
  "metadata": {
    "colab": {
      "name": "a_PytTorch_Baisc",
      "provenance": [],
      "authorship_tag": "ABX9TyNfziujYQfv32Zn9y5ApKs1",
      "include_colab_link": true
    },
    "kernelspec": {
      "name": "python3",
      "display_name": "Python 3"
    },
    "language_info": {
      "name": "python"
    },
    "accelerator": "GPU"
  },
  "cells": [
    {
      "cell_type": "markdown",
      "metadata": {
        "id": "view-in-github",
        "colab_type": "text"
      },
      "source": [
        "<a href=\"https://colab.research.google.com/github/ChaejinE/MyPytorch/blob/main/PyTorch_Tips_Details/a_PytTorch_Baisc.ipynb\" target=\"_parent\"><img src=\"https://colab.research.google.com/assets/colab-badge.svg\" alt=\"Open In Colab\"/></a>"
      ]
    },
    {
      "cell_type": "code",
      "metadata": {
        "id": "HK-YuJrsRkZh"
      },
      "source": [
        "import torch"
      ],
      "execution_count": 1,
      "outputs": []
    },
    {
      "cell_type": "markdown",
      "metadata": {
        "id": "Qb8EvSSTUA-F"
      },
      "source": [
        "# 굉장히 넘파이스럽게"
      ]
    },
    {
      "cell_type": "code",
      "metadata": {
        "id": "HyQ-FeBmRyj4",
        "colab": {
          "base_uri": "https://localhost:8080/"
        },
        "outputId": "6f8e024e-04c8-4c80-b694-fa82d2f1ac7e"
      },
      "source": [
        "nums = torch.arange(9)\n",
        "nums"
      ],
      "execution_count": 2,
      "outputs": [
        {
          "output_type": "execute_result",
          "data": {
            "text/plain": [
              "tensor([0, 1, 2, 3, 4, 5, 6, 7, 8])"
            ]
          },
          "metadata": {},
          "execution_count": 2
        }
      ]
    },
    {
      "cell_type": "code",
      "metadata": {
        "colab": {
          "base_uri": "https://localhost:8080/"
        },
        "id": "J7s3Cv5aTmVR",
        "outputId": "e4fb1681-d196-4405-99e9-433c5178b35b"
      },
      "source": [
        "nums.shape"
      ],
      "execution_count": 3,
      "outputs": [
        {
          "output_type": "execute_result",
          "data": {
            "text/plain": [
              "torch.Size([9])"
            ]
          },
          "metadata": {},
          "execution_count": 3
        }
      ]
    },
    {
      "cell_type": "code",
      "metadata": {
        "id": "RZJFoQVxTpEK",
        "colab": {
          "base_uri": "https://localhost:8080/"
        },
        "outputId": "713fb555-1912-4db5-f23c-d9198d3dd18e"
      },
      "source": [
        "type(nums)"
      ],
      "execution_count": 4,
      "outputs": [
        {
          "output_type": "execute_result",
          "data": {
            "text/plain": [
              "torch.Tensor"
            ]
          },
          "metadata": {},
          "execution_count": 4
        }
      ]
    },
    {
      "cell_type": "code",
      "metadata": {
        "id": "MKn6DVy_TrFu",
        "colab": {
          "base_uri": "https://localhost:8080/"
        },
        "outputId": "fdcf3f51-af66-4f31-dd23-03f3eb3d50f8"
      },
      "source": [
        "nums.numpy()\n",
        "nums.reshape(3, 3)\n",
        "nums"
      ],
      "execution_count": 5,
      "outputs": [
        {
          "output_type": "execute_result",
          "data": {
            "text/plain": [
              "tensor([0, 1, 2, 3, 4, 5, 6, 7, 8])"
            ]
          },
          "metadata": {},
          "execution_count": 5
        }
      ]
    },
    {
      "cell_type": "code",
      "metadata": {
        "id": "gqFQOcDoT5WR",
        "colab": {
          "base_uri": "https://localhost:8080/"
        },
        "outputId": "fa4f8956-1f90-4882-c84a-5114a5a54940"
      },
      "source": [
        "nums = torch.arange(9).reshape(3, 3)\n",
        "nums"
      ],
      "execution_count": 6,
      "outputs": [
        {
          "output_type": "execute_result",
          "data": {
            "text/plain": [
              "tensor([[0, 1, 2],\n",
              "        [3, 4, 5],\n",
              "        [6, 7, 8]])"
            ]
          },
          "metadata": {},
          "execution_count": 6
        }
      ]
    },
    {
      "cell_type": "code",
      "metadata": {
        "id": "cFRXZeypT6sk",
        "colab": {
          "base_uri": "https://localhost:8080/"
        },
        "outputId": "e1864a56-f120-445a-98d8-9f04e135bc1a"
      },
      "source": [
        "nums + nums"
      ],
      "execution_count": 7,
      "outputs": [
        {
          "output_type": "execute_result",
          "data": {
            "text/plain": [
              "tensor([[ 0,  2,  4],\n",
              "        [ 6,  8, 10],\n",
              "        [12, 14, 16]])"
            ]
          },
          "metadata": {},
          "execution_count": 7
        }
      ]
    },
    {
      "cell_type": "markdown",
      "metadata": {
        "id": "cgCGDGPNUFH0"
      },
      "source": [
        "# 텐서 생성 및 변환"
      ]
    },
    {
      "cell_type": "code",
      "metadata": {
        "id": "t-urU2uBT8Nl"
      },
      "source": [
        "import torch\n",
        "import numpy as np"
      ],
      "execution_count": 8,
      "outputs": []
    },
    {
      "cell_type": "code",
      "metadata": {
        "id": "fWmY-RD2UPIv",
        "colab": {
          "base_uri": "https://localhost:8080/"
        },
        "outputId": "9f500c9d-680c-4447-fd15-bfdda58f1d96"
      },
      "source": [
        "torch.tensor([[1,2],[3,4.]])"
      ],
      "execution_count": 9,
      "outputs": [
        {
          "output_type": "execute_result",
          "data": {
            "text/plain": [
              "tensor([[1., 2.],\n",
              "        [3., 4.]])"
            ]
          },
          "metadata": {},
          "execution_count": 9
        }
      ]
    },
    {
      "cell_type": "code",
      "metadata": {
        "id": "c4HVUwY5URjp",
        "colab": {
          "base_uri": "https://localhost:8080/"
        },
        "outputId": "f5f32a8d-616f-4cd3-fceb-c7415d198994"
      },
      "source": [
        "torch.tensor([[1,2],[3,4.]], device=\"cuda:0\") # gpu에 텐서 만들기"
      ],
      "execution_count": 10,
      "outputs": [
        {
          "output_type": "execute_result",
          "data": {
            "text/plain": [
              "tensor([[1., 2.],\n",
              "        [3., 4.]], device='cuda:0')"
            ]
          },
          "metadata": {},
          "execution_count": 10
        }
      ]
    },
    {
      "cell_type": "code",
      "metadata": {
        "id": "0L0j33WeUYcx",
        "colab": {
          "base_uri": "https://localhost:8080/"
        },
        "outputId": "7859e452-f9c4-4684-f1f0-fc145b2d5614"
      },
      "source": [
        "torch.tensor([[1,2],[3,4.]], dtype=torch.float64) # 텐서의 데이터 형태 지정"
      ],
      "execution_count": 11,
      "outputs": [
        {
          "output_type": "execute_result",
          "data": {
            "text/plain": [
              "tensor([[1., 2.],\n",
              "        [3., 4.]], dtype=torch.float64)"
            ]
          },
          "metadata": {},
          "execution_count": 11
        }
      ]
    },
    {
      "cell_type": "code",
      "metadata": {
        "id": "jnvVShBHUieU",
        "colab": {
          "base_uri": "https://localhost:8080/"
        },
        "outputId": "aa0d6aac-d2e8-4f72-85f2-81af69668ed0"
      },
      "source": [
        "torch.arange(0, 10) # arange를 활용한 1-d tensor"
      ],
      "execution_count": 12,
      "outputs": [
        {
          "output_type": "execute_result",
          "data": {
            "text/plain": [
              "tensor([0, 1, 2, 3, 4, 5, 6, 7, 8, 9])"
            ]
          },
          "metadata": {},
          "execution_count": 12
        }
      ]
    },
    {
      "cell_type": "code",
      "metadata": {
        "id": "xs-nNOozUm5g",
        "colab": {
          "base_uri": "https://localhost:8080/"
        },
        "outputId": "8329f123-7fba-416e-a959-f1f91b00ceb4"
      },
      "source": [
        "torch.zeros(3, 5).to(\"cuda:0\") # to 메소드로  GPU에 전송"
      ],
      "execution_count": 13,
      "outputs": [
        {
          "output_type": "execute_result",
          "data": {
            "text/plain": [
              "tensor([[0., 0., 0., 0., 0.],\n",
              "        [0., 0., 0., 0., 0.],\n",
              "        [0., 0., 0., 0., 0.]], device='cuda:0')"
            ]
          },
          "metadata": {},
          "execution_count": 13
        }
      ]
    },
    {
      "cell_type": "code",
      "metadata": {
        "id": "yxDW33cmUx4y",
        "colab": {
          "base_uri": "https://localhost:8080/"
        },
        "outputId": "bd1dc215-9808-425b-88b2-051cdc3abe31"
      },
      "source": [
        "torch.randn(3, 5) # normal distribution으로 3 x 5 텐서 생성"
      ],
      "execution_count": 14,
      "outputs": [
        {
          "output_type": "execute_result",
          "data": {
            "text/plain": [
              "tensor([[ 1.0771,  1.3833, -0.3712, -0.1737,  0.6714],\n",
              "        [-0.3398,  0.2223, -1.0563, -0.4915,  0.7070],\n",
              "        [-0.6392,  0.2767, -0.8645, -1.6797,  1.5793]])"
            ]
          },
          "metadata": {},
          "execution_count": 14
        }
      ]
    },
    {
      "cell_type": "code",
      "metadata": {
        "id": "XXa7EbfvU4zA",
        "colab": {
          "base_uri": "https://localhost:8080/"
        },
        "outputId": "3eaff704-4df2-436e-b29e-b6e70a258c5e"
      },
      "source": [
        "t = torch.randn(3, 5)\n",
        "t.size()"
      ],
      "execution_count": 15,
      "outputs": [
        {
          "output_type": "execute_result",
          "data": {
            "text/plain": [
              "torch.Size([3, 5])"
            ]
          },
          "metadata": {},
          "execution_count": 15
        }
      ]
    },
    {
      "cell_type": "code",
      "metadata": {
        "id": "LeLFk6CcU7BC"
      },
      "source": [
        "t = torch.tensor([[1,2],[3,4.]])\n",
        "x = t.numpy()\n",
        "\n",
        "t = torch.tensor([[1,2],[3,4.]], device=\"cuda:0\")\n",
        "x = t.to(\"cpu\").numpy() # gpu tensor는 numpy로 바로 변환 x, cpu로 Type으로 바꿔줘야한다."
      ],
      "execution_count": 16,
      "outputs": []
    },
    {
      "cell_type": "code",
      "metadata": {
        "id": "zViz5PE6VQZX",
        "colab": {
          "base_uri": "https://localhost:8080/"
        },
        "outputId": "c0970f9f-1725-4425-fdd1-4e7c2000eb91"
      },
      "source": [
        "x = torch.linspace(0, 10, 5) # 0 ~ 10 중에 5개를 일정한 간격으로 생성해준다.\n",
        "x"
      ],
      "execution_count": 17,
      "outputs": [
        {
          "output_type": "execute_result",
          "data": {
            "text/plain": [
              "tensor([ 0.0000,  2.5000,  5.0000,  7.5000, 10.0000])"
            ]
          },
          "metadata": {},
          "execution_count": 17
        }
      ]
    },
    {
      "cell_type": "code",
      "metadata": {
        "id": "efqj0rmTVaCN",
        "colab": {
          "base_uri": "https://localhost:8080/"
        },
        "outputId": "91e604f7-8f84-4b2f-db60-283583fd9ede"
      },
      "source": [
        "y = torch.exp(x)\n",
        "y"
      ],
      "execution_count": 18,
      "outputs": [
        {
          "output_type": "execute_result",
          "data": {
            "text/plain": [
              "tensor([1.0000e+00, 1.2182e+01, 1.4841e+02, 1.8080e+03, 2.2026e+04])"
            ]
          },
          "metadata": {},
          "execution_count": 18
        }
      ]
    },
    {
      "cell_type": "code",
      "metadata": {
        "id": "lLu3Hp3FVcZm",
        "colab": {
          "base_uri": "https://localhost:8080/",
          "height": 283
        },
        "outputId": "838c4dbd-6ac4-4ce2-c002-104109f470f9"
      },
      "source": [
        "import matplotlib.pyplot as plt\n",
        "plt.plot(x.numpy(), y.numpy())"
      ],
      "execution_count": 19,
      "outputs": [
        {
          "output_type": "execute_result",
          "data": {
            "text/plain": [
              "[<matplotlib.lines.Line2D at 0x7f668c833a10>]"
            ]
          },
          "metadata": {},
          "execution_count": 19
        },
        {
          "output_type": "display_data",
          "data": {
            "image/png": "[encoded data removed]",
            "text/plain": [
              "<Figure size 432x288 with 1 Axes>"
            ]
          },
          "metadata": {
            "needs_background": "light"
          }
        }
      ]
    },
    {
      "cell_type": "markdown",
      "metadata": {
        "id": "aQvVft8pbG2x"
      },
      "source": [
        "# rand, zeros, ones\n",
        "- 첫 인자 : dimension(shape)"
      ]
    },
    {
      "cell_type": "code",
      "metadata": {
        "id": "DgYG1iBdbQyU",
        "colab": {
          "base_uri": "https://localhost:8080/"
        },
        "outputId": "3226abb5-17c1-492a-9615-7687da617426"
      },
      "source": [
        "x = torch.rand(2, 3) # 2x3 float tensor\n",
        "print(x)\n",
        "print(type(x))"
      ],
      "execution_count": 20,
      "outputs": [
        {
          "output_type": "stream",
          "name": "stdout",
          "text": [
            "tensor([[0.5567, 0.6156, 0.4044],\n",
            "        [0.8584, 0.0567, 0.3966]])\n",
            "<class 'torch.Tensor'>\n"
          ]
        }
      ]
    },
    {
      "cell_type": "markdown",
      "metadata": {
        "id": "rovZ5qAYc9Qb"
      },
      "source": [
        "- Random 순열 생성법"
      ]
    },
    {
      "cell_type": "code",
      "metadata": {
        "id": "afNluTVjcqbt",
        "colab": {
          "base_uri": "https://localhost:8080/"
        },
        "outputId": "6b240905-da67-4be6-dbf9-0df277188795"
      },
      "source": [
        "torch.torch.randperm(5) # "
      ],
      "execution_count": 21,
      "outputs": [
        {
          "output_type": "execute_result",
          "data": {
            "text/plain": [
              "tensor([4, 1, 2, 0, 3])"
            ]
          },
          "metadata": {},
          "execution_count": 21
        }
      ]
    },
    {
      "cell_type": "markdown",
      "metadata": {
        "id": "7WpNYDsfdgb7"
      },
      "source": [
        "- zeros"
      ]
    },
    {
      "cell_type": "code",
      "metadata": {
        "id": "QjncHj8ydFK6",
        "colab": {
          "base_uri": "https://localhost:8080/"
        },
        "outputId": "4a7c594c-43c9-414a-b658-ed4f40557b41"
      },
      "source": [
        "zeros = torch.zeros(2, 3) # 2 x 3 shape zeros matrix\n",
        "zeros"
      ],
      "execution_count": 22,
      "outputs": [
        {
          "output_type": "execute_result",
          "data": {
            "text/plain": [
              "tensor([[0., 0., 0.],\n",
              "        [0., 0., 0.]])"
            ]
          },
          "metadata": {},
          "execution_count": 22
        }
      ]
    },
    {
      "cell_type": "code",
      "metadata": {
        "id": "NI5n1IbpdXoP",
        "colab": {
          "base_uri": "https://localhost:8080/"
        },
        "outputId": "34e542ed-ffdd-4e84-be23-8ca81afa443d"
      },
      "source": [
        "torch.zeros_like(zeros) # zeros like"
      ],
      "execution_count": 23,
      "outputs": [
        {
          "output_type": "execute_result",
          "data": {
            "text/plain": [
              "tensor([[0., 0., 0.],\n",
              "        [0., 0., 0.]])"
            ]
          },
          "metadata": {},
          "execution_count": 23
        }
      ]
    },
    {
      "cell_type": "markdown",
      "metadata": {
        "id": "2_KuPBfEditr"
      },
      "source": [
        "- ones"
      ]
    },
    {
      "cell_type": "code",
      "metadata": {
        "id": "QC4hyON3dkD3",
        "colab": {
          "base_uri": "https://localhost:8080/"
        },
        "outputId": "3eb6b861-4d73-476e-d1d0-76d28ceeb3f9"
      },
      "source": [
        "torch.ones(2, 3) # 2 x 3 shape ones matrix"
      ],
      "execution_count": 24,
      "outputs": [
        {
          "output_type": "execute_result",
          "data": {
            "text/plain": [
              "tensor([[1., 1., 1.],\n",
              "        [1., 1., 1.]])"
            ]
          },
          "metadata": {},
          "execution_count": 24
        }
      ]
    },
    {
      "cell_type": "markdown",
      "metadata": {
        "id": "ElQnMgjBeC_U"
      },
      "source": [
        "- arange를 통한 Tensor 생성\n",
        "- arange(a, b, c) a부터 c **전**까지 생성하는데 c step만큼의 간격으로 생성"
      ]
    },
    {
      "cell_type": "code",
      "metadata": {
        "id": "8zNXQClLePb3",
        "colab": {
          "base_uri": "https://localhost:8080/"
        },
        "outputId": "b8d7bb0d-c66e-4a0a-ddd7-18edfaf8984c"
      },
      "source": [
        "torch.arange(0, 3, step=0.5)"
      ],
      "execution_count": 25,
      "outputs": [
        {
          "output_type": "execute_result",
          "data": {
            "text/plain": [
              "tensor([0.0000, 0.5000, 1.0000, 1.5000, 2.0000, 2.5000])"
            ]
          },
          "metadata": {},
          "execution_count": 25
        }
      ]
    },
    {
      "cell_type": "markdown",
      "metadata": {
        "id": "xilF7t82emxQ"
      },
      "source": [
        "# Tensor Type"
      ]
    },
    {
      "cell_type": "code",
      "metadata": {
        "id": "uHAB_O4DepH7",
        "colab": {
          "base_uri": "https://localhost:8080/"
        },
        "outputId": "bdb0c3ce-853d-497b-8b20-96a9d61dbfb3"
      },
      "source": [
        "torch.cuda.FloatTensor(2, 3) # Float Type 2 x 3 Tensor"
      ],
      "execution_count": 26,
      "outputs": [
        {
          "output_type": "execute_result",
          "data": {
            "text/plain": [
              "tensor([[0.0000, 0.0000, 0.0000],\n",
              "        [2.0000, 0.0000, 2.1250]], device='cuda:0')"
            ]
          },
          "metadata": {},
          "execution_count": 26
        }
      ]
    },
    {
      "cell_type": "markdown",
      "metadata": {
        "id": "ZnLGxWB5fFqe"
      },
      "source": [
        "- Type 변환"
      ]
    },
    {
      "cell_type": "code",
      "metadata": {
        "id": "oDW8yKUaewCB",
        "colab": {
          "base_uri": "https://localhost:8080/"
        },
        "outputId": "eeff0b11-3288-4e64-8ade-df48d94d8950"
      },
      "source": [
        "x = torch.cuda.FloatTensor([2, 3])\n",
        "x.type_as(torch.cuda.IntTensor()) # Convert FloatTensor to IntTensor"
      ],
      "execution_count": 27,
      "outputs": [
        {
          "output_type": "execute_result",
          "data": {
            "text/plain": [
              "tensor([2, 3], device='cuda:0', dtype=torch.int32)"
            ]
          },
          "metadata": {},
          "execution_count": 27
        }
      ]
    },
    {
      "cell_type": "markdown",
      "metadata": {
        "id": "XJwjJcxQfHSz"
      },
      "source": [
        "- Numpy - Tensor 간의 변환"
      ]
    },
    {
      "cell_type": "code",
      "metadata": {
        "id": "r1Ury8otfMNw"
      },
      "source": [
        "import numpy as np"
      ],
      "execution_count": 28,
      "outputs": []
    },
    {
      "cell_type": "code",
      "metadata": {
        "id": "SzR3WGHvfOeQ",
        "colab": {
          "base_uri": "https://localhost:8080/"
        },
        "outputId": "4a36fa69-b8e5-481b-9f96-9f6be16a9c39"
      },
      "source": [
        "x1 = np.ndarray(shape=(2, 3), dtype=int, buffer=np.array([1, 2, 3, 4, 5, 6]))\n",
        "x1"
      ],
      "execution_count": 29,
      "outputs": [
        {
          "output_type": "execute_result",
          "data": {
            "text/plain": [
              "array([[1, 2, 3],\n",
              "       [4, 5, 6]])"
            ]
          },
          "metadata": {},
          "execution_count": 29
        }
      ]
    },
    {
      "cell_type": "code",
      "metadata": {
        "id": "CQucI8NMfOai",
        "colab": {
          "base_uri": "https://localhost:8080/"
        },
        "outputId": "ca3f7c0f-666a-4e42-a9ae-6c0904eb60c2"
      },
      "source": [
        "torch.from_numpy(x1) # numpy -> tensor"
      ],
      "execution_count": 30,
      "outputs": [
        {
          "output_type": "execute_result",
          "data": {
            "text/plain": [
              "tensor([[1, 2, 3],\n",
              "        [4, 5, 6]])"
            ]
          },
          "metadata": {},
          "execution_count": 30
        }
      ]
    },
    {
      "cell_type": "code",
      "metadata": {
        "id": "tocyI9qifOYQ",
        "colab": {
          "base_uri": "https://localhost:8080/"
        },
        "outputId": "cd0d0e65-5c0d-428d-ca8a-8c1051dfc06d"
      },
      "source": [
        "x2 = torch.from_numpy(x1)\n",
        "x2.numpy() # tensor -> numpy"
      ],
      "execution_count": 31,
      "outputs": [
        {
          "output_type": "execute_result",
          "data": {
            "text/plain": [
              "array([[1, 2, 3],\n",
              "       [4, 5, 6]])"
            ]
          },
          "metadata": {},
          "execution_count": 31
        }
      ]
    },
    {
      "cell_type": "code",
      "metadata": {
        "id": "xuzh_orGfORQ",
        "colab": {
          "base_uri": "https://localhost:8080/"
        },
        "outputId": "f5c7eee2-f7eb-4b0f-da61-2b2ccc4ca4ca"
      },
      "source": [
        "x2.float() # eleme type을 float으로 converting"
      ],
      "execution_count": 32,
      "outputs": [
        {
          "output_type": "execute_result",
          "data": {
            "text/plain": [
              "tensor([[1., 2., 3.],\n",
              "        [4., 5., 6.]])"
            ]
          },
          "metadata": {},
          "execution_count": 32
        }
      ]
    },
    {
      "cell_type": "markdown",
      "metadata": {
        "id": "ZbH7DJXlf_tg"
      },
      "source": [
        "- CPU Type - GPU Type"
      ]
    },
    {
      "cell_type": "code",
      "metadata": {
        "id": "ZpYjyv1ofON1",
        "colab": {
          "base_uri": "https://localhost:8080/"
        },
        "outputId": "995f15cc-dc61-406b-c04e-cd1b89bb91cf"
      },
      "source": [
        "x = torch.FloatTensor([[1, 2, 3], [4, 5, 6]])\n",
        "x_gpu = x.cuda()\n",
        "x_gpu"
      ],
      "execution_count": 33,
      "outputs": [
        {
          "output_type": "execute_result",
          "data": {
            "text/plain": [
              "tensor([[1., 2., 3.],\n",
              "        [4., 5., 6.]], device='cuda:0')"
            ]
          },
          "metadata": {},
          "execution_count": 33
        }
      ]
    },
    {
      "cell_type": "code",
      "metadata": {
        "id": "VJ1PlkicfOLl",
        "colab": {
          "base_uri": "https://localhost:8080/"
        },
        "outputId": "74515ae8-0120-4624-d183-c33d38cab940"
      },
      "source": [
        "x_cpu = x_gpu.cpu()\n",
        "x_cpu"
      ],
      "execution_count": 34,
      "outputs": [
        {
          "output_type": "execute_result",
          "data": {
            "text/plain": [
              "tensor([[1., 2., 3.],\n",
              "        [4., 5., 6.]])"
            ]
          },
          "metadata": {},
          "execution_count": 34
        }
      ]
    },
    {
      "cell_type": "markdown",
      "metadata": {
        "id": "3uZHZSo3Vr0I"
      },
      "source": [
        "# Tensor Index 조작"
      ]
    },
    {
      "cell_type": "code",
      "metadata": {
        "id": "jchu7DfiVn7J"
      },
      "source": [
        "t = torch.tensor([ [1,2,3], [4,5,6] ])"
      ],
      "execution_count": 35,
      "outputs": []
    },
    {
      "cell_type": "code",
      "metadata": {
        "id": "xT8TrKUCVz-b",
        "colab": {
          "base_uri": "https://localhost:8080/"
        },
        "outputId": "96258bb0-e664-44ca-838e-00b4720fb098"
      },
      "source": [
        "t[0, 2] # index 접근"
      ],
      "execution_count": 36,
      "outputs": [
        {
          "output_type": "execute_result",
          "data": {
            "text/plain": [
              "tensor(3)"
            ]
          },
          "metadata": {},
          "execution_count": 36
        }
      ]
    },
    {
      "cell_type": "code",
      "metadata": {
        "id": "AOO5MJE1V4Us",
        "colab": {
          "base_uri": "https://localhost:8080/"
        },
        "outputId": "f9a57992-f99e-47b2-9049-f71a453bf0fc"
      },
      "source": [
        "t[:, :2] # slicing 접근"
      ],
      "execution_count": 37,
      "outputs": [
        {
          "output_type": "execute_result",
          "data": {
            "text/plain": [
              "tensor([[1, 2],\n",
              "        [4, 5]])"
            ]
          },
          "metadata": {},
          "execution_count": 37
        }
      ]
    },
    {
      "cell_type": "code",
      "metadata": {
        "id": "sfXiz5kNV64n",
        "colab": {
          "base_uri": "https://localhost:8080/"
        },
        "outputId": "2a861b14-9a0d-45c9-838d-a1e32a651afe"
      },
      "source": [
        "t[t > 3] # 마스크 배열을 이용한  True 추출"
      ],
      "execution_count": 38,
      "outputs": [
        {
          "output_type": "execute_result",
          "data": {
            "text/plain": [
              "tensor([4, 5, 6])"
            ]
          },
          "metadata": {},
          "execution_count": 38
        }
      ]
    },
    {
      "cell_type": "code",
      "metadata": {
        "id": "uD-Prn3hWBlj",
        "colab": {
          "base_uri": "https://localhost:8080/"
        },
        "outputId": "fcadb634-84f4-49d2-d0fd-b62a140ccf21"
      },
      "source": [
        "t[:, 1] = 10 # Slicing을 이용한 일괄 대입\n",
        "t"
      ],
      "execution_count": 39,
      "outputs": [
        {
          "output_type": "execute_result",
          "data": {
            "text/plain": [
              "tensor([[ 1, 10,  3],\n",
              "        [ 4, 10,  6]])"
            ]
          },
          "metadata": {},
          "execution_count": 39
        }
      ]
    },
    {
      "cell_type": "code",
      "metadata": {
        "id": "lGtJ74kVWEXC",
        "colab": {
          "base_uri": "https://localhost:8080/"
        },
        "outputId": "88b377de-10e7-41a1-81f0-63e05e1290f1"
      },
      "source": [
        "t[t > 5] = 20 # 마스크 배열을 사용한 일괄 대입\n",
        "t"
      ],
      "execution_count": 40,
      "outputs": [
        {
          "output_type": "execute_result",
          "data": {
            "text/plain": [
              "tensor([[ 1, 20,  3],\n",
              "        [ 4, 20, 20]])"
            ]
          },
          "metadata": {},
          "execution_count": 40
        }
      ]
    },
    {
      "cell_type": "markdown",
      "metadata": {
        "id": "xQMeEMLCiYva"
      },
      "source": [
        "- troch.index_select method 이용"
      ]
    },
    {
      "cell_type": "code",
      "metadata": {
        "id": "ke8ZVKjHWMum",
        "colab": {
          "base_uri": "https://localhost:8080/"
        },
        "outputId": "f6be4fa0-ab82-4ee6-c4fc-8502fe8c3414"
      },
      "source": [
        "x = torch.rand(4, 3)\n",
        "x"
      ],
      "execution_count": 41,
      "outputs": [
        {
          "output_type": "execute_result",
          "data": {
            "text/plain": [
              "tensor([[0.2880, 0.8241, 0.5233],\n",
              "        [0.7070, 0.0881, 0.6630],\n",
              "        [0.1385, 0.9376, 0.0609],\n",
              "        [0.4405, 0.2164, 0.8770]])"
            ]
          },
          "metadata": {},
          "execution_count": 41
        }
      ]
    },
    {
      "cell_type": "code",
      "metadata": {
        "id": "SEu9ewo_iehZ",
        "colab": {
          "base_uri": "https://localhost:8080/"
        },
        "outputId": "4d623c5a-b0f0-420d-cfa3-ef99c91db47a"
      },
      "source": [
        "torch.index_select(x, 0, torch.LongTensor([0, 2])) # 3 번째 인자 : torch.LongTensor로 Index를 입력한다. python이나 numpy에 비해 이질감이 있다."
      ],
      "execution_count": 42,
      "outputs": [
        {
          "output_type": "execute_result",
          "data": {
            "text/plain": [
              "tensor([[0.2880, 0.8241, 0.5233],\n",
              "        [0.1385, 0.9376, 0.0609]])"
            ]
          },
          "metadata": {},
          "execution_count": 42
        }
      ]
    },
    {
      "cell_type": "markdown",
      "metadata": {
        "id": "QQ0kf_Myi150"
      },
      "source": [
        "- mask 기능을 통해 인덱싱하는 방법\n",
        "- torch.masked_select(input, mask)"
      ]
    },
    {
      "cell_type": "code",
      "metadata": {
        "id": "7MgxockgijFQ",
        "colab": {
          "base_uri": "https://localhost:8080/"
        },
        "outputId": "263ed53e-da98-4c4d-bbc2-3fb6b33d6cb7"
      },
      "source": [
        "x = torch.rand(2, 3)\n",
        "x"
      ],
      "execution_count": 43,
      "outputs": [
        {
          "output_type": "execute_result",
          "data": {
            "text/plain": [
              "tensor([[0.0278, 0.9932, 0.6377],\n",
              "        [0.1815, 0.5844, 0.6832]])"
            ]
          },
          "metadata": {},
          "execution_count": 43
        }
      ]
    },
    {
      "cell_type": "code",
      "metadata": {
        "id": "cwh4w0CVi_5d",
        "colab": {
          "base_uri": "https://localhost:8080/"
        },
        "outputId": "6b27ac2d-5989-4e42-f825-e10e9748b0c5"
      },
      "source": [
        "mask = torch.ByteTensor([[0, 0, 1], [0, 1, 0]])\n",
        "torch.masked_select(x, mask) # input 영역과 mask 영역의 크기가 같아야 오류가 안나므로 주의"
      ],
      "execution_count": 44,
      "outputs": [
        {
          "output_type": "stream",
          "name": "stderr",
          "text": [
            "/usr/local/lib/python3.7/dist-packages/ipykernel_launcher.py:2: UserWarning: masked_select received a mask with dtype torch.uint8, this behavior is now deprecated,please use a mask with dtype torch.bool instead. (Triggered internally at  /pytorch/aten/src/ATen/native/TensorAdvancedIndexing.cpp:1187.)\n",
            "  \n"
          ]
        },
        {
          "output_type": "execute_result",
          "data": {
            "text/plain": [
              "tensor([0.6377, 0.5844])"
            ]
          },
          "metadata": {},
          "execution_count": 44
        }
      ]
    },
    {
      "cell_type": "markdown",
      "metadata": {
        "id": "td_rrQixmkPF"
      },
      "source": [
        "- slicing : Tensor를 몇개 부분으로 나뉘는 기능\n",
        "- torch.chunk(tensor, chunks, dim=0)\n",
        "- torch.split(tensor, split_size, dim=0)"
      ]
    },
    {
      "cell_type": "code",
      "metadata": {
        "id": "GaimSPqojEcU",
        "colab": {
          "base_uri": "https://localhost:8080/"
        },
        "outputId": "ba18a74f-3ffb-424d-8366-68a3e9c99666"
      },
      "source": [
        "x = torch.cuda.FloatTensor([[1, 2, 3], [4, 5, 6]])\n",
        "y = torch.cuda.FloatTensor([[-1, -2, -3], [-4, -5, -6]])\n",
        "z1 = torch.cat([x, y], dim=0)\n",
        "z1"
      ],
      "execution_count": 53,
      "outputs": [
        {
          "output_type": "execute_result",
          "data": {
            "text/plain": [
              "tensor([[ 1.,  2.,  3.],\n",
              "        [ 4.,  5.,  6.],\n",
              "        [-1., -2., -3.],\n",
              "        [-4., -5., -6.]], device='cuda:0')"
            ]
          },
          "metadata": {},
          "execution_count": 53
        }
      ]
    },
    {
      "cell_type": "code",
      "metadata": {
        "id": "9kG5IyeBm8Tk"
      },
      "source": [
        "x1, x2 = torch.chunk(input=z1, chunks=2, dim=0) # tensor를 차원을 따라 chunk 수대로 slicing 해준다."
      ],
      "execution_count": 46,
      "outputs": []
    },
    {
      "cell_type": "code",
      "metadata": {
        "colab": {
          "base_uri": "https://localhost:8080/"
        },
        "id": "Mvl5CMSunHEV",
        "outputId": "6b1f2b77-4205-4e19-b4b9-0bbb46784adf"
      },
      "source": [
        "x1"
      ],
      "execution_count": 47,
      "outputs": [
        {
          "output_type": "execute_result",
          "data": {
            "text/plain": [
              "tensor([[1., 2., 3.],\n",
              "        [4., 5., 6.]], device='cuda:0')"
            ]
          },
          "metadata": {},
          "execution_count": 47
        }
      ]
    },
    {
      "cell_type": "code",
      "metadata": {
        "colab": {
          "base_uri": "https://localhost:8080/"
        },
        "id": "tCgzpFIPnH-G",
        "outputId": "03da23d7-75c3-467c-ec05-5435a17f9ab4"
      },
      "source": [
        "x2"
      ],
      "execution_count": 48,
      "outputs": [
        {
          "output_type": "execute_result",
          "data": {
            "text/plain": [
              "tensor([[-1., -2., -3.],\n",
              "        [-4., -5., -6.]], device='cuda:0')"
            ]
          },
          "metadata": {},
          "execution_count": 48
        }
      ]
    },
    {
      "cell_type": "code",
      "metadata": {
        "id": "n_LXpGHenII2"
      },
      "source": [
        "y1, y2, y3 = torch.chunk(input=z1, chunks=3, dim=1)"
      ],
      "execution_count": 49,
      "outputs": []
    },
    {
      "cell_type": "code",
      "metadata": {
        "colab": {
          "base_uri": "https://localhost:8080/"
        },
        "id": "ygry0TBWnn3G",
        "outputId": "58532634-60d4-4a6b-bbd2-d5e66515b221"
      },
      "source": [
        "y1"
      ],
      "execution_count": 50,
      "outputs": [
        {
          "output_type": "execute_result",
          "data": {
            "text/plain": [
              "tensor([[ 1.],\n",
              "        [ 4.],\n",
              "        [-1.],\n",
              "        [-4.]], device='cuda:0')"
            ]
          },
          "metadata": {},
          "execution_count": 50
        }
      ]
    },
    {
      "cell_type": "code",
      "metadata": {
        "colab": {
          "base_uri": "https://localhost:8080/"
        },
        "id": "Jw_fGlZXnoYY",
        "outputId": "ea881e8a-9d2c-45b9-a74c-18c203a062b4"
      },
      "source": [
        "y2"
      ],
      "execution_count": 51,
      "outputs": [
        {
          "output_type": "execute_result",
          "data": {
            "text/plain": [
              "tensor([[ 2.],\n",
              "        [ 5.],\n",
              "        [-2.],\n",
              "        [-5.]], device='cuda:0')"
            ]
          },
          "metadata": {},
          "execution_count": 51
        }
      ]
    },
    {
      "cell_type": "code",
      "metadata": {
        "colab": {
          "base_uri": "https://localhost:8080/"
        },
        "id": "R34f14-Dnov1",
        "outputId": "791a1f23-762d-49db-f76f-7472aa057037"
      },
      "source": [
        "y3"
      ],
      "execution_count": 52,
      "outputs": [
        {
          "output_type": "execute_result",
          "data": {
            "text/plain": [
              "tensor([[ 3.],\n",
              "        [ 6.],\n",
              "        [-3.],\n",
              "        [-6.]], device='cuda:0')"
            ]
          },
          "metadata": {},
          "execution_count": 52
        }
      ]
    },
    {
      "cell_type": "code",
      "metadata": {
        "id": "oqcaAOE_no_C"
      },
      "source": [
        ""
      ],
      "execution_count": null,
      "outputs": []
    }
  ]
}