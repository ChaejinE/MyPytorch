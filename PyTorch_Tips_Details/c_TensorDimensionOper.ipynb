{
  "nbformat": 4,
  "nbformat_minor": 0,
  "metadata": {
    "colab": {
      "name": "c_TensorDimensionOper",
      "provenance": [],
      "collapsed_sections": [],
      "authorship_tag": "ABX9TyNOooITfeqi8ilZN5+L3IJs",
      "include_colab_link": true
    },
    "kernelspec": {
      "name": "python3",
      "display_name": "Python 3"
    },
    "language_info": {
      "name": "python"
    },
    "accelerator": "GPU"
  },
  "cells": [
    {
      "cell_type": "markdown",
      "metadata": {
        "id": "view-in-github",
        "colab_type": "text"
      },
      "source": [
        "<a href=\"https://colab.research.google.com/github/ChaejinE/MyPytorch/blob/main/PyTorch_Tips_Details/c_TensorDimensionOper.ipynb\" target=\"_parent\"><img src=\"https://colab.research.google.com/assets/colab-badge.svg\" alt=\"Open In Colab\"/></a>"
      ]
    },
    {
      "cell_type": "code",
      "metadata": {
        "id": "HB42vbQlZNPi"
      },
      "source": [
        "import torch"
      ],
      "execution_count": 1,
      "outputs": []
    },
    {
      "cell_type": "code",
      "metadata": {
        "id": "_zcvGsiaY68y"
      },
      "source": [
        "x1 = torch.tensor([ [1, 2], [3, 4.] ]) # 2 x 2 Matrix\n",
        "x2 = torch.tensor([ [10, 20, 30], [40, 50, 60.] ]) # 2 x 2 Matrix"
      ],
      "execution_count": 2,
      "outputs": []
    },
    {
      "cell_type": "code",
      "metadata": {
        "id": "9AvcInFIZT5g",
        "colab": {
          "base_uri": "https://localhost:8080/"
        },
        "outputId": "3fe494d4-acfa-4e08-98bf-b977011d084a"
      },
      "source": [
        "x1.view(4, 1) # 2 x 2 -> 4 x 1"
      ],
      "execution_count": 3,
      "outputs": [
        {
          "output_type": "execute_result",
          "data": {
            "text/plain": [
              "tensor([[1.],\n",
              "        [2.],\n",
              "        [3.],\n",
              "        [4.]])"
            ]
          },
          "metadata": {},
          "execution_count": 3
        }
      ]
    },
    {
      "cell_type": "code",
      "metadata": {
        "colab": {
          "base_uri": "https://localhost:8080/"
        },
        "id": "lS39QtMDXkGt",
        "outputId": "47fda1be-bbd5-45d3-e5c7-ba7d3524faaa"
      },
      "source": [
        "x1.reshape(4, 1) # 2 x 2 -> 4 x 1"
      ],
      "execution_count": 4,
      "outputs": [
        {
          "output_type": "execute_result",
          "data": {
            "text/plain": [
              "tensor([[1.],\n",
              "        [2.],\n",
              "        [3.],\n",
              "        [4.]])"
            ]
          },
          "metadata": {},
          "execution_count": 4
        }
      ]
    },
    {
      "cell_type": "code",
      "metadata": {
        "colab": {
          "base_uri": "https://localhost:8080/"
        },
        "id": "IOojB4GeXpWr",
        "outputId": "64decded-a89d-4714-8e7d-a37d1c8a833a"
      },
      "source": [
        "x1.view(-1) # flatten, 1 dim vector"
      ],
      "execution_count": 5,
      "outputs": [
        {
          "output_type": "execute_result",
          "data": {
            "text/plain": [
              "tensor([1., 2., 3., 4.])"
            ]
          },
          "metadata": {},
          "execution_count": 5
        }
      ]
    },
    {
      "cell_type": "code",
      "metadata": {
        "colab": {
          "base_uri": "https://localhost:8080/"
        },
        "id": "-5StJ3WxXqTJ",
        "outputId": "938e58d0-a276-48f1-de77-950b329f566e"
      },
      "source": [
        "x1.reshape(-1)"
      ],
      "execution_count": 6,
      "outputs": [
        {
          "output_type": "execute_result",
          "data": {
            "text/plain": [
              "tensor([1., 2., 3., 4.])"
            ]
          },
          "metadata": {},
          "execution_count": 6
        }
      ]
    },
    {
      "cell_type": "code",
      "metadata": {
        "colab": {
          "base_uri": "https://localhost:8080/"
        },
        "id": "vUjgtupZYhri",
        "outputId": "21907fc2-8f0a-4366-f4de-004a637a28e9"
      },
      "source": [
        "x1.shape"
      ],
      "execution_count": 7,
      "outputs": [
        {
          "output_type": "execute_result",
          "data": {
            "text/plain": [
              "torch.Size([2, 2])"
            ]
          },
          "metadata": {},
          "execution_count": 7
        }
      ]
    },
    {
      "cell_type": "code",
      "metadata": {
        "colab": {
          "base_uri": "https://localhost:8080/"
        },
        "id": "0FeyFGzIXwoJ",
        "outputId": "de752908-b8bd-4aa1-f92c-de23443c3b1c"
      },
      "source": [
        "x1.view(1, -1) # -1 사용시 shape에서 자동 계산이 가능한 부분에 한해서 자동 입력된다. (1, -1)을 넣었지만 (1, )이므로 그냥 (1, )로 처리됨"
      ],
      "execution_count": 8,
      "outputs": [
        {
          "output_type": "execute_result",
          "data": {
            "text/plain": [
              "tensor([[1., 2., 3., 4.]])"
            ]
          },
          "metadata": {},
          "execution_count": 8
        }
      ]
    },
    {
      "cell_type": "code",
      "metadata": {
        "colab": {
          "base_uri": "https://localhost:8080/"
        },
        "id": "037WE1ETXzid",
        "outputId": "b8a243fc-b126-48d4-d464-47d58f0565bc"
      },
      "source": [
        "x1.reshape(1, -1)"
      ],
      "execution_count": 9,
      "outputs": [
        {
          "output_type": "execute_result",
          "data": {
            "text/plain": [
              "tensor([[1., 2., 3., 4.]])"
            ]
          },
          "metadata": {},
          "execution_count": 9
        }
      ]
    },
    {
      "cell_type": "code",
      "metadata": {
        "colab": {
          "base_uri": "https://localhost:8080/"
        },
        "id": "ygYy9OB8YAGh",
        "outputId": "f1d3891b-2dfa-4da4-f1d9-fc2bc12f99e9"
      },
      "source": [
        "print(f\"x2 : \\n\\n {x2}\\n\")\n",
        "print(f\"x2 transposed : \\n\\n {x2.t()}\") # transpose"
      ],
      "execution_count": 10,
      "outputs": [
        {
          "output_type": "stream",
          "name": "stdout",
          "text": [
            "x2 : \n",
            "\n",
            " tensor([[10., 20., 30.],\n",
            "        [40., 50., 60.]])\n",
            "\n",
            "x2 transposed : \n",
            "\n",
            " tensor([[10., 40.],\n",
            "        [20., 50.],\n",
            "        [30., 60.]])\n"
          ]
        }
      ]
    },
    {
      "cell_type": "code",
      "metadata": {
        "colab": {
          "base_uri": "https://localhost:8080/"
        },
        "id": "zuX6j6wQYDby",
        "outputId": "3288dbe3-2eab-4e38-9171-f1204f655e3c"
      },
      "source": [
        "torch.cat([x1, x2], dim=1) # 행렬을 묶는 method"
      ],
      "execution_count": 11,
      "outputs": [
        {
          "output_type": "execute_result",
          "data": {
            "text/plain": [
              "tensor([[ 1.,  2., 10., 20., 30.],\n",
              "        [ 3.,  4., 40., 50., 60.]])"
            ]
          },
          "metadata": {},
          "execution_count": 11
        }
      ]
    },
    {
      "cell_type": "code",
      "metadata": {
        "colab": {
          "base_uri": "https://localhost:8080/"
        },
        "id": "SXmZ9CglYV0z",
        "outputId": "8faa7e9d-c9d6-4d28-e6da-efcffa09cac0"
      },
      "source": [
        "hwc_img_data = torch.rand(100, 64, 32 ,3)\n",
        "hwc_img_data.shape"
      ],
      "execution_count": 12,
      "outputs": [
        {
          "output_type": "execute_result",
          "data": {
            "text/plain": [
              "torch.Size([100, 64, 32, 3])"
            ]
          },
          "metadata": {},
          "execution_count": 12
        }
      ]
    },
    {
      "cell_type": "code",
      "metadata": {
        "id": "FPCzKfGrZS3A"
      },
      "source": [
        "chw_img_data = hwc_img_data.transpose(1, 2) # 1 차원과 2차원을 교환  BHWC -> BWHC"
      ],
      "execution_count": 13,
      "outputs": []
    },
    {
      "cell_type": "code",
      "metadata": {
        "colab": {
          "base_uri": "https://localhost:8080/"
        },
        "id": "_HAB31AYZeEJ",
        "outputId": "cc6ee232-fd9c-4d5c-f46c-aad07930b9ba"
      },
      "source": [
        "chw_img_data = chw_img_data.transpose(1, 3) # 1 차원과 3차원의 값들을 교환 BWHC -> BCHW\n",
        "chw_img_data.size()"
      ],
      "execution_count": 14,
      "outputs": [
        {
          "output_type": "execute_result",
          "data": {
            "text/plain": [
              "torch.Size([100, 3, 64, 32])"
            ]
          },
          "metadata": {},
          "execution_count": 14
        }
      ]
    },
    {
      "cell_type": "markdown",
      "metadata": {
        "id": "bpS8zV3eoPTo"
      },
      "source": [
        "# Squeezing\n",
        "- dim 중 1로 되어있는 것을 압축한다.\n",
        "  - 사실 불필요한 차원일 수 있기때문에 압축시키는 것이 필요할 수 있다. (그때 사용)\n",
        "- torch.squeeze(input, dim)\n",
        "  - dim 지정하지 않았을 시 : 차원이 1인 모든 차원을 압축"
      ]
    },
    {
      "cell_type": "code",
      "metadata": {
        "id": "cVS5HkUnaAwF",
        "colab": {
          "base_uri": "https://localhost:8080/"
        },
        "outputId": "4ccaf881-87e2-4e19-c05c-df3e4d3f5f45"
      },
      "source": [
        "x = torch.zeros(2, 1, 2, 1, 2)\n",
        "x.size() # dim : 2, 1, 2, 1, 2 인 zeros matrix"
      ],
      "execution_count": 16,
      "outputs": [
        {
          "output_type": "execute_result",
          "data": {
            "text/plain": [
              "torch.Size([2, 1, 2, 1, 2])"
            ]
          },
          "metadata": {},
          "execution_count": 16
        }
      ]
    },
    {
      "cell_type": "code",
      "metadata": {
        "colab": {
          "base_uri": "https://localhost:8080/"
        },
        "id": "U-45OEMLomYg",
        "outputId": "a97e758d-ca0b-4dcb-82b4-13ee7d9b57c3"
      },
      "source": [
        "y = torch.squeeze(x)\n",
        "y.size()"
      ],
      "execution_count": 17,
      "outputs": [
        {
          "output_type": "execute_result",
          "data": {
            "text/plain": [
              "torch.Size([2, 2, 2])"
            ]
          },
          "metadata": {},
          "execution_count": 17
        }
      ]
    },
    {
      "cell_type": "code",
      "metadata": {
        "colab": {
          "base_uri": "https://localhost:8080/"
        },
        "id": "tcdVbG-notk2",
        "outputId": "45cd476a-9ff2-4a5f-8035-0ce527a7db5d"
      },
      "source": [
        "y = torch.squeeze(x, dim=0)\n",
        "y.size() # 0번째 차원은 1이 아니므로 squeeze가 안된다."
      ],
      "execution_count": 20,
      "outputs": [
        {
          "output_type": "execute_result",
          "data": {
            "text/plain": [
              "torch.Size([2, 1, 2, 1, 2])"
            ]
          },
          "metadata": {},
          "execution_count": 20
        }
      ]
    },
    {
      "cell_type": "code",
      "metadata": {
        "colab": {
          "base_uri": "https://localhost:8080/"
        },
        "id": "c3OhrxBWox4V",
        "outputId": "41bf207c-9a01-4fe6-b0e1-29a12f41813f"
      },
      "source": [
        "y = torch.squeeze(x, dim=1)\n",
        "y.size()"
      ],
      "execution_count": 21,
      "outputs": [
        {
          "output_type": "execute_result",
          "data": {
            "text/plain": [
              "torch.Size([2, 2, 1, 2])"
            ]
          },
          "metadata": {},
          "execution_count": 21
        }
      ]
    },
    {
      "cell_type": "markdown",
      "metadata": {
        "id": "oJeKAqZ8o5Hp"
      },
      "source": [
        "- unsqueeze : dim을 추가할 수 있다. 정확히 반대의 기능을 수행한다."
      ]
    },
    {
      "cell_type": "code",
      "metadata": {
        "colab": {
          "base_uri": "https://localhost:8080/"
        },
        "id": "4P8ddb9Xo0tF",
        "outputId": "0e3e39a7-d265-4775-de4e-4128baccbe26"
      },
      "source": [
        "x = torch.zeros(2, 3, 4)\n",
        "x = torch.unsqueeze(x, 0) # 0번째 앞에 차원이 추가된다.\n",
        "x.size()"
      ],
      "execution_count": 24,
      "outputs": [
        {
          "output_type": "execute_result",
          "data": {
            "text/plain": [
              "torch.Size([1, 2, 3, 4])"
            ]
          },
          "metadata": {},
          "execution_count": 24
        }
      ]
    },
    {
      "cell_type": "code",
      "metadata": {
        "colab": {
          "base_uri": "https://localhost:8080/"
        },
        "id": "u5vvEvnppFdC",
        "outputId": "ed9af1ff-e4ac-4cbb-eec5-d4d1a2b3371b"
      },
      "source": [
        "x = torch.tensor([1, 2, 3, 4])\n",
        "torch.unsqueeze(x, 0)"
      ],
      "execution_count": 25,
      "outputs": [
        {
          "output_type": "execute_result",
          "data": {
            "text/plain": [
              "tensor([[1, 2, 3, 4]])"
            ]
          },
          "metadata": {},
          "execution_count": 25
        }
      ]
    },
    {
      "cell_type": "code",
      "metadata": {
        "colab": {
          "base_uri": "https://localhost:8080/"
        },
        "id": "X3YzbniwpSbT",
        "outputId": "7be55056-7f5f-468f-9c10-83b6202b8d1e"
      },
      "source": [
        "torch.unsqueeze(x, 1)"
      ],
      "execution_count": 26,
      "outputs": [
        {
          "output_type": "execute_result",
          "data": {
            "text/plain": [
              "tensor([[1],\n",
              "        [2],\n",
              "        [3],\n",
              "        [4]])"
            ]
          },
          "metadata": {},
          "execution_count": 26
        }
      ]
    },
    {
      "cell_type": "code",
      "metadata": {
        "id": "yq_fjhR9pU21"
      },
      "source": [
        ""
      ],
      "execution_count": null,
      "outputs": []
    }
  ]
}