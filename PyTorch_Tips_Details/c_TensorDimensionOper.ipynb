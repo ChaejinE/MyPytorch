{
  "nbformat": 4,
  "nbformat_minor": 0,
  "metadata": {
    "colab": {
      "name": "c_TensorDimensionOper",
      "provenance": [],
      "collapsed_sections": [],
      "authorship_tag": "ABX9TyNA4ddtefOfYCFaEcFnf6p7",
      "include_colab_link": true
    },
    "kernelspec": {
      "name": "python3",
      "display_name": "Python 3"
    },
    "language_info": {
      "name": "python"
    },
    "accelerator": "GPU"
  },
  "cells": [
    {
      "cell_type": "markdown",
      "metadata": {
        "id": "view-in-github",
        "colab_type": "text"
      },
      "source": [
        "<a href=\"https://colab.research.google.com/github/ChaejinE/MyPytorch/blob/main/PyTorch_Tips_Details/c_TensorDimensionOper.ipynb\" target=\"_parent\"><img src=\"https://colab.research.google.com/assets/colab-badge.svg\" alt=\"Open In Colab\"/></a>"
      ]
    },
    {
      "cell_type": "code",
      "metadata": {
        "id": "HB42vbQlZNPi"
      },
      "source": [
        "import torch"
      ],
      "execution_count": 1,
      "outputs": []
    },
    {
      "cell_type": "code",
      "metadata": {
        "id": "_zcvGsiaY68y"
      },
      "source": [
        "x1 = torch.tensor([ [1, 2], [3, 4.] ]) # 2 x 2 Matrix\n",
        "x2 = torch.tensor([ [10, 20, 30], [40, 50, 60.] ]) # 2 x 2 Matrix"
      ],
      "execution_count": 2,
      "outputs": []
    },
    {
      "cell_type": "code",
      "metadata": {
        "id": "9AvcInFIZT5g",
        "colab": {
          "base_uri": "https://localhost:8080/"
        },
        "outputId": "cef93411-766b-4b7e-a9e0-bd6d3c91992e"
      },
      "source": [
        "x1.view(4, 1) # 2 x 2 -> 4 x 1"
      ],
      "execution_count": 3,
      "outputs": [
        {
          "output_type": "execute_result",
          "data": {
            "text/plain": [
              "tensor([[1.],\n",
              "        [2.],\n",
              "        [3.],\n",
              "        [4.]])"
            ]
          },
          "metadata": {},
          "execution_count": 3
        }
      ]
    },
    {
      "cell_type": "code",
      "metadata": {
        "colab": {
          "base_uri": "https://localhost:8080/"
        },
        "id": "lS39QtMDXkGt",
        "outputId": "43bb13e1-3a70-4e56-951d-2ecbfe8bf91b"
      },
      "source": [
        "x1.reshape(4, 1) # 2 x 2 -> 4 x 1"
      ],
      "execution_count": 4,
      "outputs": [
        {
          "output_type": "execute_result",
          "data": {
            "text/plain": [
              "tensor([[1.],\n",
              "        [2.],\n",
              "        [3.],\n",
              "        [4.]])"
            ]
          },
          "metadata": {},
          "execution_count": 4
        }
      ]
    },
    {
      "cell_type": "code",
      "metadata": {
        "colab": {
          "base_uri": "https://localhost:8080/"
        },
        "id": "IOojB4GeXpWr",
        "outputId": "a151fbc4-f0a8-4b69-dde1-344b89a126ed"
      },
      "source": [
        "x1.view(-1) # flatten, 1 dim vector"
      ],
      "execution_count": 5,
      "outputs": [
        {
          "output_type": "execute_result",
          "data": {
            "text/plain": [
              "tensor([1., 2., 3., 4.])"
            ]
          },
          "metadata": {},
          "execution_count": 5
        }
      ]
    },
    {
      "cell_type": "code",
      "metadata": {
        "colab": {
          "base_uri": "https://localhost:8080/"
        },
        "id": "-5StJ3WxXqTJ",
        "outputId": "6853c587-cf03-4166-ba52-416500343ad9"
      },
      "source": [
        "x1.reshape(-1)"
      ],
      "execution_count": 6,
      "outputs": [
        {
          "output_type": "execute_result",
          "data": {
            "text/plain": [
              "tensor([1., 2., 3., 4.])"
            ]
          },
          "metadata": {},
          "execution_count": 6
        }
      ]
    },
    {
      "cell_type": "code",
      "metadata": {
        "colab": {
          "base_uri": "https://localhost:8080/"
        },
        "id": "vUjgtupZYhri",
        "outputId": "0a1b6553-90bc-432b-8336-4e46135024f9"
      },
      "source": [
        "x1.shape"
      ],
      "execution_count": 7,
      "outputs": [
        {
          "output_type": "execute_result",
          "data": {
            "text/plain": [
              "torch.Size([2, 2])"
            ]
          },
          "metadata": {},
          "execution_count": 7
        }
      ]
    },
    {
      "cell_type": "code",
      "metadata": {
        "colab": {
          "base_uri": "https://localhost:8080/"
        },
        "id": "0FeyFGzIXwoJ",
        "outputId": "fff69aa5-f031-43ea-931b-5426fa4f354b"
      },
      "source": [
        "x1.view(1, -1) # -1 사용시 shape에서 자동 계산이 가능한 부분에 한해서 자동 입력된다. (1, -1)을 넣었지만 (1, )이므로 그냥 (1, )로 처리됨"
      ],
      "execution_count": 8,
      "outputs": [
        {
          "output_type": "execute_result",
          "data": {
            "text/plain": [
              "tensor([[1., 2., 3., 4.]])"
            ]
          },
          "metadata": {},
          "execution_count": 8
        }
      ]
    },
    {
      "cell_type": "code",
      "metadata": {
        "colab": {
          "base_uri": "https://localhost:8080/"
        },
        "id": "037WE1ETXzid",
        "outputId": "2f4b4680-5d35-43af-fd73-6a3e5349c2fd"
      },
      "source": [
        "x1.reshape(1, -1)"
      ],
      "execution_count": 9,
      "outputs": [
        {
          "output_type": "execute_result",
          "data": {
            "text/plain": [
              "tensor([[1., 2., 3., 4.]])"
            ]
          },
          "metadata": {},
          "execution_count": 9
        }
      ]
    },
    {
      "cell_type": "code",
      "metadata": {
        "colab": {
          "base_uri": "https://localhost:8080/"
        },
        "id": "ygYy9OB8YAGh",
        "outputId": "d019a2c1-de88-4cac-a9eb-5ffe584788eb"
      },
      "source": [
        "print(f\"x2 : \\n\\n {x2}\\n\")\n",
        "print(f\"x2 transposed : \\n\\n {x2.t()}\") # transpose"
      ],
      "execution_count": 10,
      "outputs": [
        {
          "output_type": "stream",
          "name": "stdout",
          "text": [
            "x2 : \n",
            "\n",
            " tensor([[10., 20., 30.],\n",
            "        [40., 50., 60.]])\n",
            "\n",
            "x2 transposed : \n",
            "\n",
            " tensor([[10., 40.],\n",
            "        [20., 50.],\n",
            "        [30., 60.]])\n"
          ]
        }
      ]
    },
    {
      "cell_type": "code",
      "metadata": {
        "colab": {
          "base_uri": "https://localhost:8080/"
        },
        "id": "zuX6j6wQYDby",
        "outputId": "8d6af76e-7e7b-4509-ec7a-c28948577554"
      },
      "source": [
        "torch.cat([x1, x2], dim=1) # 행렬을 묶는 method"
      ],
      "execution_count": 11,
      "outputs": [
        {
          "output_type": "execute_result",
          "data": {
            "text/plain": [
              "tensor([[ 1.,  2., 10., 20., 30.],\n",
              "        [ 3.,  4., 40., 50., 60.]])"
            ]
          },
          "metadata": {},
          "execution_count": 11
        }
      ]
    },
    {
      "cell_type": "code",
      "metadata": {
        "colab": {
          "base_uri": "https://localhost:8080/"
        },
        "id": "SXmZ9CglYV0z",
        "outputId": "f96c8b8c-950b-4255-c41d-af3bbff021b6"
      },
      "source": [
        "hwc_img_data = torch.rand(100, 64, 32 ,3)\n",
        "hwc_img_data.shape"
      ],
      "execution_count": 12,
      "outputs": [
        {
          "output_type": "execute_result",
          "data": {
            "text/plain": [
              "torch.Size([100, 64, 32, 3])"
            ]
          },
          "metadata": {},
          "execution_count": 12
        }
      ]
    },
    {
      "cell_type": "code",
      "metadata": {
        "id": "FPCzKfGrZS3A"
      },
      "source": [
        "chw_img_data = hwc_img_data.transpose(1, 2) # 1 차원과 2차원을 교환  BHWC -> BWHC"
      ],
      "execution_count": 13,
      "outputs": []
    },
    {
      "cell_type": "code",
      "metadata": {
        "colab": {
          "base_uri": "https://localhost:8080/"
        },
        "id": "_HAB31AYZeEJ",
        "outputId": "6d6d085d-cc69-44fc-ffbb-8f9a662bfaf2"
      },
      "source": [
        "chw_img_data = chw_img_data.transpose(1, 3) # 1 차원과 3차원의 값들을 교환 BWHC -> BCHW\n",
        "chw_img_data.size()"
      ],
      "execution_count": 14,
      "outputs": [
        {
          "output_type": "execute_result",
          "data": {
            "text/plain": [
              "torch.Size([100, 3, 64, 32])"
            ]
          },
          "metadata": {},
          "execution_count": 14
        }
      ]
    },
    {
      "cell_type": "markdown",
      "metadata": {
        "id": "bpS8zV3eoPTo"
      },
      "source": [
        "# Squeezing\n",
        "- dim 중 1로 되어있는 것을 압축한다.\n",
        "  - 사실 불필요한 차원일 수 있기때문에 압축시키는 것이 필요할 수 있다. (그때 사용)\n",
        "- torch.squeeze(input, dim)\n",
        "  - dim 지정하지 않았을 시 : 차원이 1인 모든 차원을 압축"
      ]
    },
    {
      "cell_type": "code",
      "metadata": {
        "id": "cVS5HkUnaAwF",
        "colab": {
          "base_uri": "https://localhost:8080/"
        },
        "outputId": "682c1c5b-b04c-4479-ac5a-c7f4454d710b"
      },
      "source": [
        "x = torch.zeros(2, 1, 2, 1, 2)\n",
        "x.size() # dim : 2, 1, 2, 1, 2 인 zeros matrix"
      ],
      "execution_count": 15,
      "outputs": [
        {
          "output_type": "execute_result",
          "data": {
            "text/plain": [
              "torch.Size([2, 1, 2, 1, 2])"
            ]
          },
          "metadata": {},
          "execution_count": 15
        }
      ]
    },
    {
      "cell_type": "code",
      "metadata": {
        "colab": {
          "base_uri": "https://localhost:8080/"
        },
        "id": "U-45OEMLomYg",
        "outputId": "6faef74c-4b11-4e5e-dfa4-251dc0fab64f"
      },
      "source": [
        "y = torch.squeeze(x)\n",
        "y.size()"
      ],
      "execution_count": 16,
      "outputs": [
        {
          "output_type": "execute_result",
          "data": {
            "text/plain": [
              "torch.Size([2, 2, 2])"
            ]
          },
          "metadata": {},
          "execution_count": 16
        }
      ]
    },
    {
      "cell_type": "code",
      "metadata": {
        "colab": {
          "base_uri": "https://localhost:8080/"
        },
        "id": "tcdVbG-notk2",
        "outputId": "7ad57743-d798-42ab-fe07-06969cbde559"
      },
      "source": [
        "y = torch.squeeze(x, dim=0)\n",
        "y.size() # 0번째 차원은 1이 아니므로 squeeze가 안된다."
      ],
      "execution_count": 17,
      "outputs": [
        {
          "output_type": "execute_result",
          "data": {
            "text/plain": [
              "torch.Size([2, 1, 2, 1, 2])"
            ]
          },
          "metadata": {},
          "execution_count": 17
        }
      ]
    },
    {
      "cell_type": "code",
      "metadata": {
        "colab": {
          "base_uri": "https://localhost:8080/"
        },
        "id": "c3OhrxBWox4V",
        "outputId": "613415ce-ddfe-4041-c482-73a18aa49b41"
      },
      "source": [
        "y = torch.squeeze(x, dim=1)\n",
        "y.size()"
      ],
      "execution_count": 18,
      "outputs": [
        {
          "output_type": "execute_result",
          "data": {
            "text/plain": [
              "torch.Size([2, 2, 1, 2])"
            ]
          },
          "metadata": {},
          "execution_count": 18
        }
      ]
    },
    {
      "cell_type": "markdown",
      "metadata": {
        "id": "oJeKAqZ8o5Hp"
      },
      "source": [
        "- unsqueeze : dim을 추가할 수 있다. 정확히 반대의 기능을 수행한다."
      ]
    },
    {
      "cell_type": "code",
      "metadata": {
        "colab": {
          "base_uri": "https://localhost:8080/"
        },
        "id": "4P8ddb9Xo0tF",
        "outputId": "26f3c3c8-2878-456f-c46a-12d7d93f213b"
      },
      "source": [
        "x = torch.zeros(2, 3, 4)\n",
        "x = torch.unsqueeze(x, 0) # 0번째 앞에 차원이 추가된다.\n",
        "x.size()"
      ],
      "execution_count": 19,
      "outputs": [
        {
          "output_type": "execute_result",
          "data": {
            "text/plain": [
              "torch.Size([1, 2, 3, 4])"
            ]
          },
          "metadata": {},
          "execution_count": 19
        }
      ]
    },
    {
      "cell_type": "code",
      "metadata": {
        "colab": {
          "base_uri": "https://localhost:8080/"
        },
        "id": "u5vvEvnppFdC",
        "outputId": "fc074804-6000-41a3-8dab-2cc76539f96c"
      },
      "source": [
        "x = torch.tensor([1, 2, 3, 4])\n",
        "torch.unsqueeze(x, 0)"
      ],
      "execution_count": 20,
      "outputs": [
        {
          "output_type": "execute_result",
          "data": {
            "text/plain": [
              "tensor([[1, 2, 3, 4]])"
            ]
          },
          "metadata": {},
          "execution_count": 20
        }
      ]
    },
    {
      "cell_type": "code",
      "metadata": {
        "id": "X3YzbniwpSbT",
        "colab": {
          "base_uri": "https://localhost:8080/"
        },
        "outputId": "795a63eb-b6c5-4db2-b6cb-ac784c728f10"
      },
      "source": [
        "torch.unsqueeze(x, 1)"
      ],
      "execution_count": 21,
      "outputs": [
        {
          "output_type": "execute_result",
          "data": {
            "text/plain": [
              "tensor([[1],\n",
              "        [2],\n",
              "        [3],\n",
              "        [4]])"
            ]
          },
          "metadata": {},
          "execution_count": 21
        }
      ]
    },
    {
      "cell_type": "markdown",
      "metadata": {
        "id": "r2x5KLXmllc-"
      },
      "source": [
        "# Transpose\n",
        "- PyTorch에서 다루는 이미지 데이터 (c, h, w)\n",
        "- OpenCV의 경우 (h, w, c)\n",
        "- 순서 바꾸는게 필요하다."
      ]
    },
    {
      "cell_type": "code",
      "metadata": {
        "id": "yq_fjhR9pU21"
      },
      "source": [
        "import cv2\n",
        "import numpy as np"
      ],
      "execution_count": 22,
      "outputs": []
    },
    {
      "cell_type": "code",
      "metadata": {
        "colab": {
          "base_uri": "https://localhost:8080/"
        },
        "id": "W6NIVVfflyU4",
        "outputId": "8a47ea7d-8279-4e6c-8179-0c88e0a4ae45"
      },
      "source": [
        "A = np.ones((100, 120, 3))\n",
        "A_transposed = np.transpose(A, (2, 0, 1))\n",
        "A_transposed.shape # numpy 는 한번에 바꿔준다. (numpy 단에서는 이렇게 빨리 처리하는 것을 추천)"
      ],
      "execution_count": 23,
      "outputs": [
        {
          "output_type": "execute_result",
          "data": {
            "text/plain": [
              "(3, 100, 120)"
            ]
          },
          "metadata": {},
          "execution_count": 23
        }
      ]
    },
    {
      "cell_type": "code",
      "metadata": {
        "colab": {
          "base_uri": "https://localhost:8080/"
        },
        "id": "m5d4qdYSl9kO",
        "outputId": "9a05bff5-2835-4cb6-883a-20a78825fdbf"
      },
      "source": [
        "B = torch.Tensor(A)\n",
        "B_transposed = torch.transpose(B, 1, 2)\n",
        "B_transposed.shape"
      ],
      "execution_count": 24,
      "outputs": [
        {
          "output_type": "execute_result",
          "data": {
            "text/plain": [
              "torch.Size([100, 3, 120])"
            ]
          },
          "metadata": {},
          "execution_count": 24
        }
      ]
    },
    {
      "cell_type": "code",
      "metadata": {
        "colab": {
          "base_uri": "https://localhost:8080/"
        },
        "id": "DRwRGG93mFIJ",
        "outputId": "179f0614-ca37-4132-80d0-496e0cb81d08"
      },
      "source": [
        "B_transposed2 = torch.transpose(B_transposed, 0, 1)\n",
        "B_transposed2.shape # 두번해야되니까 비효율적"
      ],
      "execution_count": 27,
      "outputs": [
        {
          "output_type": "execute_result",
          "data": {
            "text/plain": [
              "torch.Size([3, 100, 120])"
            ]
          },
          "metadata": {},
          "execution_count": 27
        }
      ]
    },
    {
      "cell_type": "markdown",
      "metadata": {
        "id": "sTmjJsyBmNVd"
      },
      "source": [
        "# Permute를 통한 shape 변경\n",
        "- transpose는 1:1 dim 교환 방식이지만, permute를 사ㅛㅇ하면 채널 방향의 순서를 한번에 쉽게 바꿀 수 있다."
      ]
    },
    {
      "cell_type": "code",
      "metadata": {
        "colab": {
          "base_uri": "https://localhost:8080/"
        },
        "id": "hZdq8o2ymJWd",
        "outputId": "3b829ad4-eca0-44f3-d207-3d92503876f8"
      },
      "source": [
        "A = torch.ones(1, 3, 10, 20)\n",
        "A.shape"
      ],
      "execution_count": 28,
      "outputs": [
        {
          "output_type": "execute_result",
          "data": {
            "text/plain": [
              "torch.Size([1, 3, 10, 20])"
            ]
          },
          "metadata": {},
          "execution_count": 28
        }
      ]
    },
    {
      "cell_type": "code",
      "metadata": {
        "colab": {
          "base_uri": "https://localhost:8080/"
        },
        "id": "-YAa-BcDmaXT",
        "outputId": "2c12151b-75bb-4912-aeaf-603e5e33f60a"
      },
      "source": [
        "A = A.permute(1, 3, 0, 2)\n",
        "A.shape # 1차원 -> 0차원으로, 3 -> 1 , 0 -> 2, 2 -> 3"
      ],
      "execution_count": 29,
      "outputs": [
        {
          "output_type": "execute_result",
          "data": {
            "text/plain": [
              "torch.Size([3, 20, 1, 10])"
            ]
          },
          "metadata": {},
          "execution_count": 29
        }
      ]
    },
    {
      "cell_type": "code",
      "metadata": {
        "id": "7SQxiPUPmdvO"
      },
      "source": [
        ""
      ],
      "execution_count": null,
      "outputs": []
    }
  ]
}