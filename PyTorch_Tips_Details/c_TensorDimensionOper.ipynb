{
  "nbformat": 4,
  "nbformat_minor": 0,
  "metadata": {
    "colab": {
      "name": "c_TensorDimensionOper",
      "provenance": [],
      "collapsed_sections": [],
      "authorship_tag": "ABX9TyO8gFhntRLIGRgk53iVcYev",
      "include_colab_link": true
    },
    "kernelspec": {
      "name": "python3",
      "display_name": "Python 3"
    },
    "language_info": {
      "name": "python"
    },
    "accelerator": "GPU"
  },
  "cells": [
    {
      "cell_type": "markdown",
      "metadata": {
        "id": "view-in-github",
        "colab_type": "text"
      },
      "source": [
        "<a href=\"https://colab.research.google.com/github/ChaejinE/MyPytorch/blob/main/PyTorch_Tips_Details/c_TensorDimensionOper.ipynb\" target=\"_parent\"><img src=\"https://colab.research.google.com/assets/colab-badge.svg\" alt=\"Open In Colab\"/></a>"
      ]
    },
    {
      "cell_type": "code",
      "metadata": {
        "id": "HB42vbQlZNPi"
      },
      "source": [
        "import torch"
      ],
      "execution_count": 1,
      "outputs": []
    },
    {
      "cell_type": "code",
      "metadata": {
        "id": "_zcvGsiaY68y"
      },
      "source": [
        "x1 = torch.tensor([ [1, 2], [3, 4.] ]) # 2 x 2 Matrix\n",
        "x2 = torch.tensor([ [10, 20, 30], [40, 50, 60.] ]) # 2 x 2 Matrix"
      ],
      "execution_count": 2,
      "outputs": []
    },
    {
      "cell_type": "code",
      "metadata": {
        "id": "9AvcInFIZT5g",
        "colab": {
          "base_uri": "https://localhost:8080/"
        },
        "outputId": "32689511-f657-4dd1-cc5f-83d1d3de8c55"
      },
      "source": [
        "x1.view(4, 1) # 2 x 2 -> 4 x 1"
      ],
      "execution_count": 4,
      "outputs": [
        {
          "output_type": "execute_result",
          "data": {
            "text/plain": [
              "tensor([[1.],\n",
              "        [2.],\n",
              "        [3.],\n",
              "        [4.]])"
            ]
          },
          "metadata": {},
          "execution_count": 4
        }
      ]
    },
    {
      "cell_type": "code",
      "metadata": {
        "colab": {
          "base_uri": "https://localhost:8080/"
        },
        "id": "lS39QtMDXkGt",
        "outputId": "3930a063-f19e-429b-e5c9-b3b150762011"
      },
      "source": [
        "x1.reshape(4, 1) # 2 x 2 -> 4 x 1"
      ],
      "execution_count": 5,
      "outputs": [
        {
          "output_type": "execute_result",
          "data": {
            "text/plain": [
              "tensor([[1.],\n",
              "        [2.],\n",
              "        [3.],\n",
              "        [4.]])"
            ]
          },
          "metadata": {},
          "execution_count": 5
        }
      ]
    },
    {
      "cell_type": "code",
      "metadata": {
        "colab": {
          "base_uri": "https://localhost:8080/"
        },
        "id": "IOojB4GeXpWr",
        "outputId": "cc0d241f-0825-48a3-9df4-0978abcfd1c2"
      },
      "source": [
        "x1.view(-1) # flatten, 1 dim vector"
      ],
      "execution_count": 7,
      "outputs": [
        {
          "output_type": "execute_result",
          "data": {
            "text/plain": [
              "tensor([1., 2., 3., 4.])"
            ]
          },
          "metadata": {},
          "execution_count": 7
        }
      ]
    },
    {
      "cell_type": "code",
      "metadata": {
        "colab": {
          "base_uri": "https://localhost:8080/"
        },
        "id": "-5StJ3WxXqTJ",
        "outputId": "f1b34d73-52e3-4e63-9b26-13f057155c86"
      },
      "source": [
        "x1.reshape(-1)"
      ],
      "execution_count": 9,
      "outputs": [
        {
          "output_type": "execute_result",
          "data": {
            "text/plain": [
              "tensor([1., 2., 3., 4.])"
            ]
          },
          "metadata": {},
          "execution_count": 9
        }
      ]
    },
    {
      "cell_type": "code",
      "metadata": {
        "colab": {
          "base_uri": "https://localhost:8080/"
        },
        "id": "vUjgtupZYhri",
        "outputId": "2f2dc7b8-dfc3-4003-ee02-65b55b3c9fec"
      },
      "source": [
        "x1.shape"
      ],
      "execution_count": 18,
      "outputs": [
        {
          "output_type": "execute_result",
          "data": {
            "text/plain": [
              "torch.Size([2, 2])"
            ]
          },
          "metadata": {},
          "execution_count": 18
        }
      ]
    },
    {
      "cell_type": "code",
      "metadata": {
        "colab": {
          "base_uri": "https://localhost:8080/"
        },
        "id": "0FeyFGzIXwoJ",
        "outputId": "36fa7e8f-80dc-4e51-8685-4990ecbeb3b5"
      },
      "source": [
        "x1.view(1, -1) # -1 사용시 shape에서 자동 계산이 가능한 부분에 한해서 자동 입력된다. (1, -1)을 넣었지만 (1, )이므로 그냥 (1, )로 처리됨"
      ],
      "execution_count": 12,
      "outputs": [
        {
          "output_type": "execute_result",
          "data": {
            "text/plain": [
              "tensor([[1., 2., 3., 4.]])"
            ]
          },
          "metadata": {},
          "execution_count": 12
        }
      ]
    },
    {
      "cell_type": "code",
      "metadata": {
        "colab": {
          "base_uri": "https://localhost:8080/"
        },
        "id": "037WE1ETXzid",
        "outputId": "7ce9c699-2d18-4008-bce7-da18acc65e94"
      },
      "source": [
        "x1.reshape(1, -1)"
      ],
      "execution_count": 13,
      "outputs": [
        {
          "output_type": "execute_result",
          "data": {
            "text/plain": [
              "tensor([[1., 2., 3., 4.]])"
            ]
          },
          "metadata": {},
          "execution_count": 13
        }
      ]
    },
    {
      "cell_type": "code",
      "metadata": {
        "colab": {
          "base_uri": "https://localhost:8080/"
        },
        "id": "ygYy9OB8YAGh",
        "outputId": "8aa12d28-616b-4cdc-8a44-39b1d1c9d5e1"
      },
      "source": [
        "print(f\"x2 : \\n\\n {x2}\\n\")\n",
        "print(f\"x2 transposed : \\n\\n {x2.t()}\") # transpose"
      ],
      "execution_count": 16,
      "outputs": [
        {
          "output_type": "stream",
          "name": "stdout",
          "text": [
            "x2 : \n",
            "\n",
            " tensor([[10., 20., 30.],\n",
            "        [40., 50., 60.]])\n",
            "\n",
            "x2 transposed : \n",
            "\n",
            " tensor([[10., 40.],\n",
            "        [20., 50.],\n",
            "        [30., 60.]])\n"
          ]
        }
      ]
    },
    {
      "cell_type": "code",
      "metadata": {
        "colab": {
          "base_uri": "https://localhost:8080/"
        },
        "id": "zuX6j6wQYDby",
        "outputId": "69a7323e-6bb9-45ce-8692-1a3044a9d1a1"
      },
      "source": [
        "torch.cat([x1, x2], dim=1) # 행렬을 묶는 method"
      ],
      "execution_count": 24,
      "outputs": [
        {
          "output_type": "execute_result",
          "data": {
            "text/plain": [
              "tensor([[ 1.,  2., 10., 20., 30.],\n",
              "        [ 3.,  4., 40., 50., 60.]])"
            ]
          },
          "metadata": {},
          "execution_count": 24
        }
      ]
    },
    {
      "cell_type": "code",
      "metadata": {
        "colab": {
          "base_uri": "https://localhost:8080/"
        },
        "id": "SXmZ9CglYV0z",
        "outputId": "aa14cb08-88c7-4886-8c84-16c017f7daa9"
      },
      "source": [
        "hwc_img_data = torch.rand(100, 64, 32 ,3)\n",
        "hwc_img_data.shape"
      ],
      "execution_count": 32,
      "outputs": [
        {
          "output_type": "execute_result",
          "data": {
            "text/plain": [
              "torch.Size([100, 64, 32, 3])"
            ]
          },
          "metadata": {},
          "execution_count": 32
        }
      ]
    },
    {
      "cell_type": "code",
      "metadata": {
        "id": "FPCzKfGrZS3A"
      },
      "source": [
        "chw_img_data = hwc_img_data.transpose(1, 2) # 1 차원과 2차원을 교환  BHWC -> BWHC"
      ],
      "execution_count": 33,
      "outputs": []
    },
    {
      "cell_type": "code",
      "metadata": {
        "colab": {
          "base_uri": "https://localhost:8080/"
        },
        "id": "_HAB31AYZeEJ",
        "outputId": "42e85c72-4e4e-48b6-84ef-64a787440369"
      },
      "source": [
        "chw_img_data = chw_img_data.transpose(1, 3) # 1 차원과 3차원의 값들을 교환 BWHC -> BCHW\n",
        "chw_img_data.size()"
      ],
      "execution_count": 34,
      "outputs": [
        {
          "output_type": "execute_result",
          "data": {
            "text/plain": [
              "torch.Size([100, 3, 64, 32])"
            ]
          },
          "metadata": {},
          "execution_count": 34
        }
      ]
    },
    {
      "cell_type": "code",
      "metadata": {
        "id": "cVS5HkUnaAwF"
      },
      "source": [
        ""
      ],
      "execution_count": null,
      "outputs": []
    }
  ]
}