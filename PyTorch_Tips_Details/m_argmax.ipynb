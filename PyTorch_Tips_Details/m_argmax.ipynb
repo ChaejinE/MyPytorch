{
  "nbformat": 4,
  "nbformat_minor": 0,
  "metadata": {
    "colab": {
      "name": "m_argmax",
      "provenance": [],
      "authorship_tag": "ABX9TyPo0Dn42gO8+O4q0C8fM4/7",
      "include_colab_link": true
    },
    "kernelspec": {
      "name": "python3",
      "display_name": "Python 3"
    },
    "language_info": {
      "name": "python"
    },
    "accelerator": "GPU"
  },
  "cells": [
    {
      "cell_type": "markdown",
      "metadata": {
        "id": "view-in-github",
        "colab_type": "text"
      },
      "source": [
        "<a href=\"https://colab.research.google.com/github/ChaejinE/MyPytorch/blob/main/PyTorch_Tips_Details/m_argmax.ipynb\" target=\"_parent\"><img src=\"https://colab.research.google.com/assets/colab-badge.svg\" alt=\"Open In Colab\"/></a>"
      ]
    },
    {
      "cell_type": "code",
      "metadata": {
        "id": "aGFNk-A7Nt2f"
      },
      "source": [
        "import torch"
      ],
      "execution_count": 1,
      "outputs": []
    },
    {
      "cell_type": "markdown",
      "metadata": {
        "id": "YhbD3ZPFOiJX"
      },
      "source": [
        "- argmax의 return 값은 차원 방향의 인덱스다."
      ]
    },
    {
      "cell_type": "code",
      "metadata": {
        "colab": {
          "base_uri": "https://localhost:8080/"
        },
        "id": "iQG3fgh0NxyB",
        "outputId": "458c3bff-3f36-46c6-f23b-019d78b60175"
      },
      "source": [
        "A = torch.randint(10, (3, 4, 2))\n",
        "A"
      ],
      "execution_count": 2,
      "outputs": [
        {
          "output_type": "execute_result",
          "data": {
            "text/plain": [
              "tensor([[[0, 4],\n",
              "         [1, 7],\n",
              "         [5, 0],\n",
              "         [9, 6]],\n",
              "\n",
              "        [[8, 6],\n",
              "         [3, 3],\n",
              "         [9, 6],\n",
              "         [3, 7]],\n",
              "\n",
              "        [[2, 1],\n",
              "         [6, 5],\n",
              "         [7, 4],\n",
              "         [1, 0]]])"
            ]
          },
          "metadata": {},
          "execution_count": 2
        }
      ]
    },
    {
      "cell_type": "code",
      "metadata": {
        "colab": {
          "base_uri": "https://localhost:8080/"
        },
        "id": "kTRE_CszN1qh",
        "outputId": "14214e10-b207-4de4-dbee-8b236c5b844f"
      },
      "source": [
        "torch.argmax(A, dim=0)"
      ],
      "execution_count": 3,
      "outputs": [
        {
          "output_type": "execute_result",
          "data": {
            "text/plain": [
              "tensor([[1, 1],\n",
              "        [2, 0],\n",
              "        [1, 1],\n",
              "        [0, 1]])"
            ]
          },
          "metadata": {},
          "execution_count": 3
        }
      ]
    },
    {
      "cell_type": "code",
      "metadata": {
        "colab": {
          "base_uri": "https://localhost:8080/"
        },
        "id": "TZV3aomPN4qs",
        "outputId": "3242f958-598c-4755-f8a9-6ca57155035a"
      },
      "source": [
        "torch.argmax(A, dim=1)"
      ],
      "execution_count": 4,
      "outputs": [
        {
          "output_type": "execute_result",
          "data": {
            "text/plain": [
              "tensor([[3, 1],\n",
              "        [2, 3],\n",
              "        [2, 1]])"
            ]
          },
          "metadata": {},
          "execution_count": 4
        }
      ]
    },
    {
      "cell_type": "code",
      "metadata": {
        "colab": {
          "base_uri": "https://localhost:8080/"
        },
        "id": "iePeEJiDONJL",
        "outputId": "f3f1c6a8-16f0-4415-cbe4-bd5e6993fc95"
      },
      "source": [
        "torch.argmax(A, dim=2)"
      ],
      "execution_count": 5,
      "outputs": [
        {
          "output_type": "execute_result",
          "data": {
            "text/plain": [
              "tensor([[1, 1, 0, 0],\n",
              "        [0, 0, 0, 1],\n",
              "        [0, 0, 0, 0]])"
            ]
          },
          "metadata": {},
          "execution_count": 5
        }
      ]
    },
    {
      "cell_type": "code",
      "metadata": {
        "id": "9dsTSGoKOPc9"
      },
      "source": [
        ""
      ],
      "execution_count": null,
      "outputs": []
    }
  ]
}