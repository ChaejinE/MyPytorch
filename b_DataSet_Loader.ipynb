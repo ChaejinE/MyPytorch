{
  "nbformat": 4,
  "nbformat_minor": 0,
  "metadata": {
    "colab": {
      "name": "b_DataSet_Loader",
      "provenance": [],
      "authorship_tag": "ABX9TyOWbyR2oswy9VqFEEVgMqo6",
      "include_colab_link": true
    },
    "kernelspec": {
      "name": "python3",
      "display_name": "Python 3"
    },
    "language_info": {
      "name": "python"
    }
  },
  "cells": [
    {
      "cell_type": "markdown",
      "metadata": {
        "id": "view-in-github",
        "colab_type": "text"
      },
      "source": [
        "<a href=\"https://colab.research.google.com/github/ChaejinE/MyPytorch/blob/main/b_DataSet_Loader.ipynb\" target=\"_parent\"><img src=\"https://colab.research.google.com/assets/colab-badge.svg\" alt=\"Open In Colab\"/></a>"
      ]
    },
    {
      "cell_type": "markdown",
      "metadata": {
        "id": "sYNlPOjrbqGC"
      },
      "source": [
        "# Overview\n",
        "- Readability, modularity를 위해 데이터셋 코드를 모델 학습 코드로 부터 분리하는 것이 이상적이다.\n",
        "- PyTorch는 torch.utils.data.DataLoader, torch.utils.data.Dataset 두 가지 데이터 기본 요소를 제공해 미리 준비해둔 데이터셋 뿐아니라 가지고 있는 데이터를 사용할 수 있다.\n",
        "  - Dataset : sample, label을 저장한다.\n",
        "  - DataLoader : Datset 샘플에 쉽게 접근하도록 Iterable 객체로 감싼다.\n",
        "## PyTorch 도메인 특화 라이브러리\n",
        "- Like the \"FashionMNIST\"\n",
        "  - pre-loaded Dataset 제공\n",
        "- torch.utils.data.Data의 하위 클래스로 개별 데이터를 특정하는 함수가 구현되어 있다.\n",
        "  - [ImageDataSet](https://pytorch.org/vision/stable/datasets.html)\n",
        "  - [TextDataSet](https://pytorch.org/text/stable/datasets.html)\n",
        "  - [AudioDataSet](https://pytorch.org/audio/stable/datasets.html)\n",
        "\n"
      ]
    },
    {
      "cell_type": "markdown",
      "metadata": {
        "id": "_YjWXZLGcvkE"
      },
      "source": [
        "# DataSet Load\n",
        "- TorchVsion에서 Fashion-MNIST 데이터를 불러온다.\n",
        "- 60,000개의 학습 데이터, 10,000개의 테스트 데이터\n",
        "- GrayScale 28x28 Image\n",
        "- Class 10개"
      ]
    },
    {
      "cell_type": "code",
      "metadata": {
        "id": "UR1jC6KrbgFD"
      },
      "source": [
        "import torch"
      ],
      "execution_count": 1,
      "outputs": []
    },
    {
      "cell_type": "code",
      "metadata": {
        "id": "4WiFMydNdCvF"
      },
      "source": [
        "from torch.utils.data import Dataset\n",
        "from torchvision import datasets\n",
        "from torchvision.transforms import ToTensor\n",
        "import matplotlib.pyplot as plt\n",
        "\n",
        "# root : 학습/테스트 데이터가 저장되는 경로\n",
        "# train : 학습용 또는 테스트용 데이터셋 여부 지정\n",
        "# download : True인 경우 root에 데이터가 없을 때 인터네에서 다운로드\n",
        "# transform, target_tranform : Feature과 label 변형을 지정한다.\n",
        "\n",
        "train_data = datasets.FashionMNIST(\n",
        "    root = \"data\",\n",
        "    train = True,\n",
        "    download = True,\n",
        "    transform= ToTensor()\n",
        ")\n",
        "\n",
        "test_data = datasets.FashionMNIST(\n",
        "    root = \"data\",\n",
        "    train = False,\n",
        "    download = True,\n",
        "    transform= ToTensor()\n",
        ")"
      ],
      "execution_count": 3,
      "outputs": []
    },
    {
      "cell_type": "markdown",
      "metadata": {
        "id": "9uSCuepzeI4D"
      },
      "source": [
        "# Dataset 순회 및 시각화\n",
        "- Dataset에 list처럼 index해서 접근할 수 있다."
      ]
    },
    {
      "cell_type": "code",
      "metadata": {
        "id": "J-i8oxZZdmyw"
      },
      "source": [
        "labels_map = {\n",
        "    0: \"T-Shirt\",\n",
        "    1: \"Trouser\",\n",
        "    2: \"Pullover\",\n",
        "    3: \"Dress\",\n",
        "    4: \"Coat\",\n",
        "    5: \"Sandal\",\n",
        "    6: \"Shirt\",\n",
        "    7: \"Sneaker\",\n",
        "    8: \"Bag\",\n",
        "    9: \"Ankle Boot\",\n",
        "}"
      ],
      "execution_count": 4,
      "outputs": []
    },
    {
      "cell_type": "code",
      "metadata": {
        "colab": {
          "base_uri": "https://localhost:8080/",
          "height": 34
        },
        "id": "vZ_yudzXeRlV",
        "outputId": "2f0c8017-96b4-4671-da56-d26c6829d2a0"
      },
      "source": [
        "figure = plt.figure(figsize=(8, 8))\n",
        "cols, rows = 3, 3"
      ],
      "execution_count": 10,
      "outputs": [
        {
          "output_type": "display_data",
          "data": {
            "text/plain": [
              "<Figure size 576x576 with 0 Axes>"
            ]
          },
          "metadata": {}
        }
      ]
    },
    {
      "cell_type": "code",
      "metadata": {
        "colab": {
          "base_uri": "https://localhost:8080/",
          "height": 1000
        },
        "id": "5kIyQXNBeVgJ",
        "outputId": "dfdc4a00-c834-4d7d-dd15-4185af6b009d"
      },
      "source": [
        "for i in range(1, cols * rows + 1):\n",
        "    sample_idx = torch.randint(len(train_data), size=(1,)).item()\n",
        "    img, label = train_data[sample_idx]\n",
        "    figure.add_subplot(rows, cols, i)\n",
        "    plt.title(labels_map[label])\n",
        "    plt.axis(\"off\")\n",
        "    plt.imshow(img.squeeze(), cmap=\"gray\")  \n",
        "    plt.show()"
      ],
      "execution_count": 16,
      "outputs": [
        {
          "output_type": "stream",
          "name": "stderr",
          "text": [
            "/usr/local/lib/python3.7/dist-packages/ipykernel_launcher.py:4: MatplotlibDeprecationWarning: Adding an axes using the same arguments as a previous axes currently reuses the earlier instance.  In a future version, a new instance will always be created and returned.  Meanwhile, this warning can be suppressed, and the future behavior ensured, by passing a unique label to each axes instance.\n",
            "  after removing the cwd from sys.path.\n"
          ]
        },
        {
          "output_type": "display_data",
          "data": {
            "image/png": "[encoded data removed]",
            "text/plain": [
              "<Figure size 432x288 with 1 Axes>"
            ]
          },
          "metadata": {
            "needs_background": "light"
          }
        },
        {
          "output_type": "display_data",
          "data": {
            "image/png": "[encoded data removed]",
            "text/plain": [
              "<Figure size 432x288 with 1 Axes>"
            ]
          },
          "metadata": {
            "needs_background": "light"
          }
        },
        {
          "output_type": "display_data",
          "data": {
            "image/png": "[encoded data removed]",
            "text/plain": [
              "<Figure size 432x288 with 1 Axes>"
            ]
          },
          "metadata": {
            "needs_background": "light"
          }
        },
        {
          "output_type": "display_data",
          "data": {
            "image/png": "[encoded data removed]",
            "text/plain": [
              "<Figure size 432x288 with 1 Axes>"
            ]
          },
          "metadata": {
            "needs_background": "light"
          }
        },
        {
          "output_type": "display_data",
          "data": {
            "image/png": "[encoded data removed]",
            "text/plain": [
              "<Figure size 432x288 with 1 Axes>"
            ]
          },
          "metadata": {
            "needs_background": "light"
          }
        },
        {
          "output_type": "display_data",
          "data": {
            "image/png": "[encoded data removed]",
            "text/plain": [
              "<Figure size 432x288 with 1 Axes>"
            ]
          },
          "metadata": {
            "needs_background": "light"
          }
        },
        {
          "output_type": "display_data",
          "data": {
            "image/png": "[encoded data removed]",
            "text/plain": [
              "<Figure size 432x288 with 1 Axes>"
            ]
          },
          "metadata": {
            "needs_background": "light"
          }
        },
        {
          "output_type": "display_data",
          "data": {
            "image/png": "[encoded data removed]",
            "text/plain": [
              "<Figure size 432x288 with 1 Axes>"
            ]
          },
          "metadata": {
            "needs_background": "light"
          }
        },
        {
          "output_type": "display_data",
          "data": {
            "image/png": "[encoded data removed]",
            "text/plain": [
              "<Figure size 432x288 with 1 Axes>"
            ]
          },
          "metadata": {
            "needs_background": "light"
          }
        }
      ]
    },
    {
      "cell_type": "markdown",
      "metadata": {
        "id": "UZaVbFSKfgc8"
      },
      "source": [
        "# 사용자 정의 데이터셋 만들기\n",
        "- 반드시 3개 함수를 구현해야 한다.\n",
        "  - __init__()\n",
        "  - __len__()\n",
        "  - __getitem__()\n",
        "- FashionMNIST 이미지들 기준으로 이미지는 img_dir에, 정답은 annotations_file (csv file)에 별도로 저장된다.\n",
        "## Detail\n",
        "- labels.csv 파일은 아래와 같다.\n",
        "  - tshirt1.jpg, 0\n",
        "  - tshirt2.jpg, 0\n",
        "  - ...\n",
        "  - ankleboot999.jpg, 9\n",
        "- __init__에서 이미지와 레이블 파일이 포함된 디렉토리 및 변형을 초기화한다.\n",
        "- __len__ 에서는 샘플 개수를 반환한다.\n",
        "- __getitem__ 에서는 주어진 idx에 해당하는 샘플을 데이터셋에서 불러오고 반환한다.\n",
        "  - idx 기반으로 디스크에서 이미지의 위치를 식별하고 **read_image**를 사용해 이미지를 텐서로 변환\n",
        "  - slef.img_labels의 csv 데이터로부터 해당하는 label을 가져온다.\n",
        "  - 변형 함수들을 호출 하고, 텐서 이미지와 라벨을 **Python dict형으로 반환**"
      ]
    },
    {
      "cell_type": "code",
      "metadata": {
        "id": "GbRkFWNkeuxp"
      },
      "source": [
        "import os\n",
        "import pandas as pd\n",
        "from torchvision.io import read_image"
      ],
      "execution_count": 18,
      "outputs": []
    },
    {
      "cell_type": "code",
      "metadata": {
        "id": "htROCeBLfwAB"
      },
      "source": [
        "class CustomImageDataset(Dataset):\n",
        "    def __init__(self, annotation_file, img_dir, transform=None, target_transform=None):\n",
        "        self.img_labels = pd.read_csv(annotations_file)\n",
        "        self.img_dir = img_dir\n",
        "        self.transform = transform\n",
        "        self.target_transform = target_transform\n",
        "    \n",
        "    def __len__(self):\n",
        "        return len(self.img_labels)\n",
        "    \n",
        "    def __getitem__(self, idx):\n",
        "        img_path = os.path.join(self.img_dir, self.img_labels.iloc[idx, 0])\n",
        "        image = read_image(img_path)\n",
        "        label = self.img_labels.iloc[idx, 1]\n",
        "        if self.transform:\n",
        "            image = self.transform(image)\n",
        "        if self.taget_transform:\n",
        "            label = self.target_transform(label)\n",
        "        sample = {\"image\": image, \"label\": label}\n",
        "\n",
        "        return sample"
      ],
      "execution_count": 21,
      "outputs": []
    },
    {
      "cell_type": "markdown",
      "metadata": {
        "id": "r-H3iKuMhoa2"
      },
      "source": [
        "# DataLoader로 학습용 데이터 준비\n",
        "- Dataset은 데이터셋의 Feature, label을 지정하는 일을 한번에 한다.\n",
        "- 모델 학습 시 일반적으로 샘플을 minibatch로 전달한다.\n",
        "- 모델 학습 시 매 에폭마다 데이터를 다시 섞어 과적합을 막고, Python의 Multiprocessing을 사용해 데이터 검색 속도를 높이려한다.\n",
        "- **DataLoader는 간단한 API로 위와 같은 복잡한 과정들을 추상화한 Iterable Object이다.**\n",
        "  - batch_size를 통해 data, label의 batch를 반환한다.\n",
        "  - shuffle는 모든 배치를 순회한 뒤 데이터가 섞인다.\n",
        "  - [순서 정밀 제어](https://pytorch.org/docs/stable/data.html#data-loading-order-and-sampler)"
      ]
    },
    {
      "cell_type": "code",
      "metadata": {
        "id": "sOInkjPHkVai"
      },
      "source": [
        "from torch.utils.data import DataLoader\n",
        "\n",
        "train_dataloader = DataLoader(train_data, batch_size=64, shuffle=True)\n",
        "test_datalodaer = DataLoader(test_data, batch_size=64, shuffle=True)"
      ],
      "execution_count": 24,
      "outputs": []
    },
    {
      "cell_type": "code",
      "metadata": {
        "colab": {
          "base_uri": "https://localhost:8080/"
        },
        "id": "RA6fVtoRf6UM",
        "outputId": "17467658-a394-47bd-83ac-56f3083e671f"
      },
      "source": [
        "train_features, train_labels = next(iter(train_dataloader))\n",
        "print(f\"Feature batch shape : {train_features.size()}\")\n",
        "print(f\"Labels batch shape : {train_labels.size()}\")"
      ],
      "execution_count": 27,
      "outputs": [
        {
          "output_type": "stream",
          "name": "stdout",
          "text": [
            "Feature batch shape : torch.Size([64, 1, 28, 28])\n",
            "Labels batch shape : torch.Size([64])\n"
          ]
        }
      ]
    },
    {
      "cell_type": "code",
      "metadata": {
        "colab": {
          "base_uri": "https://localhost:8080/"
        },
        "id": "1FZVERRjkkSR",
        "outputId": "0d0749f9-e1af-4560-9380-a7ba12f2b1c8"
      },
      "source": [
        "img = train_features[0]\n",
        "img"
      ],
      "execution_count": 28,
      "outputs": [
        {
          "output_type": "execute_result",
          "data": {
            "text/plain": [
              "tensor([[[0.0000, 0.0000, 0.0000, 0.0000, 0.0000, 0.0000, 0.0000, 0.0000,\n",
              "          0.0000, 0.0000, 0.0000, 0.4706, 0.6039, 0.5922, 0.5490, 0.5176,\n",
              "          0.6118, 0.5255, 0.6078, 0.4784, 0.0000, 0.0000, 0.0000, 0.0000,\n",
              "          0.0000, 0.0000, 0.0000, 0.0000],\n",
              "         [0.0000, 0.0000, 0.0000, 0.0000, 0.0000, 0.0000, 0.0000, 0.0000,\n",
              "          0.0039, 0.0000, 0.0000, 0.9725, 0.9608, 1.0000, 0.9882, 0.9373,\n",
              "          0.9961, 0.9255, 0.9333, 0.9529, 0.0431, 0.0000, 0.0000, 0.0000,\n",
              "          0.0000, 0.0000, 0.0000, 0.0000],\n",
              "         [0.0000, 0.0000, 0.0000, 0.0000, 0.0000, 0.0000, 0.0000, 0.0000,\n",
              "          0.0118, 0.0000, 0.0000, 0.9922, 0.8745, 0.8510, 0.8745, 0.8196,\n",
              "          0.8471, 0.8353, 0.8118, 0.9176, 0.0157, 0.0000, 0.0000, 0.0000,\n",
              "          0.0000, 0.0000, 0.0000, 0.0000],\n",
              "         [0.0000, 0.0000, 0.0000, 0.0000, 0.0000, 0.0000, 0.0000, 0.0000,\n",
              "          0.0078, 0.0000, 0.1137, 1.0000, 0.8706, 0.8824, 0.8667, 0.8353,\n",
              "          0.8706, 0.8667, 0.8510, 0.9608, 0.2078, 0.0000, 0.0000, 0.0000,\n",
              "          0.0000, 0.0000, 0.0000, 0.0000],\n",
              "         [0.0000, 0.0000, 0.0000, 0.0000, 0.0000, 0.0000, 0.0000, 0.0000,\n",
              "          0.0039, 0.0000, 0.5412, 0.9333, 0.8392, 0.8902, 0.8863, 0.8549,\n",
              "          0.8667, 0.8667, 0.8078, 0.9490, 0.3882, 0.0000, 0.0000, 0.0000,\n",
              "          0.0000, 0.0000, 0.0000, 0.0000],\n",
              "         [0.0000, 0.0000, 0.0000, 0.0000, 0.0000, 0.0000, 0.0000, 0.0000,\n",
              "          0.0000, 0.0000, 0.9294, 0.9059, 0.8588, 0.8824, 0.8941, 0.8784,\n",
              "          0.8784, 0.8784, 0.8235, 0.9333, 0.4431, 0.0000, 0.0000, 0.0000,\n",
              "          0.0000, 0.0000, 0.0000, 0.0000],\n",
              "         [0.0000, 0.0000, 0.0000, 0.0000, 0.0000, 0.0000, 0.0000, 0.0000,\n",
              "          0.0000, 0.1098, 1.0000, 0.8627, 0.8784, 0.8824, 0.9137, 0.8902,\n",
              "          0.8745, 0.8667, 0.8314, 0.9294, 0.5608, 0.0000, 0.0000, 0.0000,\n",
              "          0.0000, 0.0000, 0.0000, 0.0000],\n",
              "         [0.0000, 0.0000, 0.0000, 0.0000, 0.0000, 0.0000, 0.0000, 0.0000,\n",
              "          0.0000, 0.4588, 0.9529, 0.8510, 0.8745, 0.8510, 0.9490, 0.9922,\n",
              "          0.9333, 0.8980, 0.8392, 0.9647, 0.4980, 0.0000, 0.0000, 0.0000,\n",
              "          0.0000, 0.0000, 0.0000, 0.0000],\n",
              "         [0.0000, 0.0000, 0.0000, 0.0000, 0.0000, 0.0000, 0.0000, 0.0000,\n",
              "          0.0000, 0.7686, 0.9255, 0.8157, 0.8510, 0.8588, 0.9255, 0.6588,\n",
              "          1.0000, 0.8980, 0.8627, 0.9922, 0.3765, 0.0000, 0.0000, 0.0000,\n",
              "          0.0000, 0.0000, 0.0000, 0.0000],\n",
              "         [0.0000, 0.0000, 0.0000, 0.0000, 0.0000, 0.0000, 0.0000, 0.0000,\n",
              "          0.0000, 0.9804, 0.8941, 0.8471, 0.8275, 0.9882, 0.6118, 0.0000,\n",
              "          1.0000, 0.8784, 0.8667, 0.9961, 0.3529, 0.0000, 0.0000, 0.0000,\n",
              "          0.0000, 0.0000, 0.0000, 0.0000],\n",
              "         [0.0000, 0.0000, 0.0000, 0.0000, 0.0000, 0.0000, 0.0000, 0.0000,\n",
              "          0.1373, 1.0000, 0.8667, 0.8471, 0.8314, 1.0000, 0.0392, 0.0000,\n",
              "          1.0000, 0.8980, 0.8706, 0.9961, 0.2196, 0.0000, 0.0000, 0.0000,\n",
              "          0.0000, 0.0000, 0.0000, 0.0000],\n",
              "         [0.0000, 0.0000, 0.0000, 0.0000, 0.0000, 0.0000, 0.0000, 0.0000,\n",
              "          0.3882, 1.0000, 0.8706, 0.8471, 0.9608, 0.7412, 0.0000, 0.0000,\n",
              "          1.0000, 0.9098, 0.8627, 1.0000, 0.1529, 0.0000, 0.0000, 0.0000,\n",
              "          0.0000, 0.0000, 0.0000, 0.0000],\n",
              "         [0.0000, 0.0000, 0.0000, 0.0000, 0.0000, 0.0000, 0.0000, 0.0000,\n",
              "          0.4353, 1.0000, 0.8627, 0.8471, 1.0000, 0.1686, 0.0000, 0.0000,\n",
              "          0.9765, 0.9098, 0.8627, 1.0000, 0.0235, 0.0000, 0.0000, 0.0000,\n",
              "          0.0000, 0.0000, 0.0000, 0.0000],\n",
              "         [0.0000, 0.0000, 0.0000, 0.0000, 0.0000, 0.0000, 0.0000, 0.0000,\n",
              "          0.5333, 1.0000, 0.8745, 0.8863, 0.8314, 0.0000, 0.0000, 0.0000,\n",
              "          0.9176, 0.9216, 0.8706, 0.9804, 0.0000, 0.0000, 0.0000, 0.0000,\n",
              "          0.0000, 0.0000, 0.0000, 0.0000],\n",
              "         [0.0000, 0.0000, 0.0000, 0.0000, 0.0000, 0.0000, 0.0000, 0.0000,\n",
              "          0.6275, 1.0000, 0.8588, 0.9176, 0.5608, 0.0000, 0.0000, 0.0000,\n",
              "          0.8275, 0.9373, 0.8588, 0.9765, 0.0000, 0.0000, 0.0000, 0.0000,\n",
              "          0.0000, 0.0000, 0.0000, 0.0000],\n",
              "         [0.0000, 0.0000, 0.0000, 0.0000, 0.0000, 0.0000, 0.0000, 0.0000,\n",
              "          0.3882, 1.0000, 0.8627, 0.9216, 0.5804, 0.0000, 0.0000, 0.0000,\n",
              "          0.7059, 0.9490, 0.8706, 0.9176, 0.0000, 0.0000, 0.0000, 0.0000,\n",
              "          0.0000, 0.0000, 0.0000, 0.0000],\n",
              "         [0.0000, 0.0000, 0.0000, 0.0000, 0.0000, 0.0000, 0.0000, 0.0000,\n",
              "          0.0824, 1.0000, 0.8745, 0.9255, 0.6706, 0.0000, 0.0000, 0.0000,\n",
              "          0.5569, 0.9569, 0.8784, 0.9137, 0.0000, 0.0000, 0.0000, 0.0000,\n",
              "          0.0000, 0.0000, 0.0000, 0.0000],\n",
              "         [0.0000, 0.0000, 0.0000, 0.0000, 0.0000, 0.0000, 0.0000, 0.0000,\n",
              "          0.0000, 0.9882, 0.9059, 0.9020, 0.7804, 0.0000, 0.0000, 0.0000,\n",
              "          0.5294, 0.9608, 0.8902, 0.8902, 0.0000, 0.0000, 0.0000, 0.0000,\n",
              "          0.0000, 0.0000, 0.0000, 0.0000],\n",
              "         [0.0000, 0.0000, 0.0000, 0.0000, 0.0000, 0.0000, 0.0000, 0.0000,\n",
              "          0.0000, 0.7608, 0.9333, 0.8824, 0.9608, 0.0000, 0.0000, 0.0000,\n",
              "          0.4980, 0.9647, 0.9020, 0.8314, 0.0000, 0.0000, 0.0000, 0.0000,\n",
              "          0.0000, 0.0000, 0.0000, 0.0000],\n",
              "         [0.0000, 0.0000, 0.0000, 0.0000, 0.0000, 0.0000, 0.0000, 0.0000,\n",
              "          0.0000, 0.5255, 0.9608, 0.8667, 0.8745, 0.0078, 0.0000, 0.0000,\n",
              "          0.4000, 0.9647, 0.9137, 0.7686, 0.0000, 0.0000, 0.0000, 0.0000,\n",
              "          0.0000, 0.0000, 0.0000, 0.0000],\n",
              "         [0.0000, 0.0000, 0.0000, 0.0000, 0.0000, 0.0000, 0.0000, 0.0000,\n",
              "          0.0000, 0.2157, 0.9529, 0.8667, 0.9255, 0.2196, 0.0000, 0.0000,\n",
              "          0.3412, 0.9647, 0.9176, 0.7294, 0.0000, 0.0000, 0.0000, 0.0000,\n",
              "          0.0000, 0.0000, 0.0000, 0.0000],\n",
              "         [0.0000, 0.0000, 0.0000, 0.0000, 0.0000, 0.0000, 0.0000, 0.0000,\n",
              "          0.0000, 0.0000, 0.8863, 0.8863, 0.9373, 0.3725, 0.0000, 0.0000,\n",
              "          0.3725, 0.9686, 0.9294, 0.6588, 0.0000, 0.0000, 0.0000, 0.0000,\n",
              "          0.0000, 0.0000, 0.0000, 0.0000],\n",
              "         [0.0000, 0.0000, 0.0000, 0.0000, 0.0000, 0.0000, 0.0000, 0.0000,\n",
              "          0.0000, 0.0000, 0.9255, 0.9098, 0.9412, 0.4549, 0.0000, 0.0000,\n",
              "          0.3804, 0.9686, 0.9412, 0.6118, 0.0000, 0.0000, 0.0000, 0.0000,\n",
              "          0.0000, 0.0000, 0.0000, 0.0000],\n",
              "         [0.0000, 0.0000, 0.0000, 0.0000, 0.0000, 0.0000, 0.0000, 0.0000,\n",
              "          0.0000, 0.0000, 0.7294, 0.9451, 0.9333, 0.6078, 0.0000, 0.0000,\n",
              "          0.3765, 0.9725, 0.9451, 0.5569, 0.0000, 0.0000, 0.0000, 0.0000,\n",
              "          0.0000, 0.0000, 0.0000, 0.0000],\n",
              "         [0.0000, 0.0000, 0.0000, 0.0000, 0.0000, 0.0000, 0.0000, 0.0000,\n",
              "          0.0078, 0.0000, 0.5333, 0.9529, 0.9176, 0.7686, 0.0000, 0.0000,\n",
              "          0.4039, 0.9686, 0.9608, 0.4784, 0.0000, 0.0000, 0.0000, 0.0000,\n",
              "          0.0000, 0.0000, 0.0000, 0.0000],\n",
              "         [0.0000, 0.0000, 0.0000, 0.0000, 0.0000, 0.0000, 0.0000, 0.0000,\n",
              "          0.0118, 0.0000, 0.2667, 0.9647, 0.8902, 0.8353, 0.0000, 0.0000,\n",
              "          0.4314, 0.9647, 0.9333, 0.4039, 0.0000, 0.0000, 0.0000, 0.0000,\n",
              "          0.0000, 0.0000, 0.0000, 0.0000],\n",
              "         [0.0000, 0.0000, 0.0000, 0.0000, 0.0000, 0.0000, 0.0000, 0.0000,\n",
              "          0.0235, 0.0000, 0.0706, 0.9765, 0.9647, 1.0000, 0.0000, 0.0000,\n",
              "          0.5059, 1.0000, 1.0000, 0.3922, 0.0000, 0.0000, 0.0000, 0.0000,\n",
              "          0.0000, 0.0000, 0.0000, 0.0000],\n",
              "         [0.0000, 0.0000, 0.0000, 0.0000, 0.0000, 0.0000, 0.0000, 0.0000,\n",
              "          0.0078, 0.0000, 0.0000, 0.5098, 0.5373, 0.4863, 0.0000, 0.0000,\n",
              "          0.2549, 0.6588, 0.7020, 0.2157, 0.0000, 0.0000, 0.0000, 0.0000,\n",
              "          0.0000, 0.0000, 0.0000, 0.0000]]])"
            ]
          },
          "metadata": {},
          "execution_count": 28
        }
      ]
    },
    {
      "cell_type": "code",
      "metadata": {
        "colab": {
          "base_uri": "https://localhost:8080/",
          "height": 282
        },
        "id": "MV57jB_WkwMP",
        "outputId": "4bf90e16-355f-4b76-8f87-3e95b6538b61"
      },
      "source": [
        "img = train_features[0].squeeze()\n",
        "label = train_labels[0]\n",
        "plt.imshow(img, cmap=\"gray\")\n",
        "plt.show()\n",
        "print(f\"Label : {label}\")"
      ],
      "execution_count": 31,
      "outputs": [
        {
          "output_type": "display_data",
          "data": {
            "image/png": "[encoded data removed]",
            "text/plain": [
              "<Figure size 432x288 with 1 Axes>"
            ]
          },
          "metadata": {
            "needs_background": "light"
          }
        },
        {
          "output_type": "stream",
          "name": "stdout",
          "text": [
            "Label : 1\n"
          ]
        }
      ]
    },
    {
      "cell_type": "code",
      "metadata": {
        "id": "LkAyENA6k1GL"
      },
      "source": [
        ""
      ],
      "execution_count": null,
      "outputs": []
    }
  ]
}