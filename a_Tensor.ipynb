{
  "nbformat": 4,
  "nbformat_minor": 0,
  "metadata": {
    "colab": {
      "name": "a_Tensor",
      "provenance": [],
      "collapsed_sections": [],
      "authorship_tag": "ABX9TyMM0VbTWBCyEFx8YlqriV/B",
      "include_colab_link": true
    },
    "kernelspec": {
      "name": "python3",
      "display_name": "Python 3"
    },
    "language_info": {
      "name": "python"
    },
    "accelerator": "GPU"
  },
  "cells": [
    {
      "cell_type": "markdown",
      "metadata": {
        "id": "view-in-github",
        "colab_type": "text"
      },
      "source": [
        "<a href=\"https://colab.research.google.com/github/ChaejinE/MyPytorch/blob/main/a_Tensor.ipynb\" target=\"_parent\"><img src=\"https://colab.research.google.com/assets/colab-badge.svg\" alt=\"Open In Colab\"/></a>"
      ]
    },
    {
      "cell_type": "markdown",
      "metadata": {
        "id": "T8krAUMwRRuB"
      },
      "source": [
        "# Tensor\n",
        "- array, matrix와 매우 유사한 특수한 자료구조\n",
        "- PyTorch에서는 모델의 입력과 출력 매개변수들을 텐서를 이용해 encode 한다.\n",
        "- GPU나 다른 하드웨어 가속기에서 실행할 수 있다는 점만 제외하면 Numpy ndarray와 유사하다."
      ]
    },
    {
      "cell_type": "code",
      "metadata": {
        "id": "6K8q89zhRE-u"
      },
      "source": [
        "import torch\n",
        "import numpy as np"
      ],
      "execution_count": 1,
      "outputs": []
    },
    {
      "cell_type": "markdown",
      "metadata": {
        "id": "6Sk01kpdUDpC"
      },
      "source": [
        "# Tensor Initialize\n",
        "- 데이터로부터 텐서 직접 생성\n",
        "- 데이터의 자료형은 자동으로 유추한다."
      ]
    },
    {
      "cell_type": "code",
      "metadata": {
        "colab": {
          "base_uri": "https://localhost:8080/"
        },
        "id": "sn8ocWPXTwnI",
        "outputId": "b5e37c71-8c59-4edc-f243-231648f8fde5"
      },
      "source": [
        "data = [[1, 2], [3, 4]]\n",
        "x_data = torch.tensor(data)\n",
        "\n",
        "x_data"
      ],
      "execution_count": 2,
      "outputs": [
        {
          "output_type": "execute_result",
          "data": {
            "text/plain": [
              "tensor([[1, 2],\n",
              "        [3, 4]])"
            ]
          },
          "metadata": {},
          "execution_count": 2
        }
      ]
    },
    {
      "cell_type": "markdown",
      "metadata": {
        "id": "uuqZ2ltnUKgq"
      },
      "source": [
        "- Numpy 배열로 부터 텐서를 생성할 수도 있다."
      ]
    },
    {
      "cell_type": "code",
      "metadata": {
        "colab": {
          "base_uri": "https://localhost:8080/"
        },
        "id": "WGCAbRDoUJEO",
        "outputId": "87983169-2dac-4cca-b5b7-cd66adcd2ded"
      },
      "source": [
        "np_array = np.array(data)\n",
        "x_np = torch.from_numpy(np_array)\n",
        "x_np"
      ],
      "execution_count": 4,
      "outputs": [
        {
          "output_type": "execute_result",
          "data": {
            "text/plain": [
              "tensor([[1, 2],\n",
              "        [3, 4]])"
            ]
          },
          "metadata": {},
          "execution_count": 4
        }
      ]
    },
    {
      "cell_type": "markdown",
      "metadata": {
        "id": "z6A7izK8Uq6X"
      },
      "source": [
        "- 다른 텐서에서 재정의해보기 (Override)\n",
        "- shape, datatype을 유지한다. (주어진 텐서 속성 유지)"
      ]
    },
    {
      "cell_type": "code",
      "metadata": {
        "colab": {
          "base_uri": "https://localhost:8080/"
        },
        "id": "8ydVD3eGUg-S",
        "outputId": "861064f3-368a-4a1f-da72-9b446eefe981"
      },
      "source": [
        "x_ones = torch.ones_like(x_data)\n",
        "print(f\"Ones Tensor : \\n{x_ones} \\n\")\n",
        "\n",
        "x_rand = torch.rand_like(x_data, dtype=torch.float)\n",
        "print(f\"Random Tensor : \\n{x_rand} \\n\")"
      ],
      "execution_count": 5,
      "outputs": [
        {
          "output_type": "stream",
          "name": "stdout",
          "text": [
            "Ones Tensor : \n",
            "tensor([[1, 1],\n",
            "        [1, 1]]) \n",
            "\n",
            "Random Tensor : \n",
            "tensor([[0.3565, 0.7254],\n",
            "        [0.7350, 0.7244]]) \n",
            "\n"
          ]
        }
      ]
    },
    {
      "cell_type": "markdown",
      "metadata": {
        "id": "usRS1GJRVNvF"
      },
      "source": [
        "- **random** or **constant** 값 사용하기"
      ]
    },
    {
      "cell_type": "code",
      "metadata": {
        "colab": {
          "base_uri": "https://localhost:8080/"
        },
        "id": "JT9T98HKVCdO",
        "outputId": "ea2a5177-d2df-4b63-eb07-44bf23b1a339"
      },
      "source": [
        "shape = (2, 3, )\n",
        "rand_tensor = torch.rand(shape)\n",
        "ones_tensor = torch.ones(shape)\n",
        "zeros_tensor = torch.zeros(shape)\n",
        "\n",
        "print(f\"Random Tensor : \\n {rand_tensor} \\n\")\n",
        "print(f\"Ones Tensor : \\n {ones_tensor} \\n\")\n",
        "print(f\"Zeros Tensor : \\n {zeros_tensor} \\n\")"
      ],
      "execution_count": 7,
      "outputs": [
        {
          "output_type": "stream",
          "name": "stdout",
          "text": [
            "Random Tensor : \n",
            " tensor([[0.2383, 0.8180, 0.4003],\n",
            "        [0.5487, 0.8058, 0.1006]]) \n",
            "\n",
            "Ones Tensor : \n",
            " tensor([[1., 1., 1.],\n",
            "        [1., 1., 1.]]) \n",
            "\n",
            "Zeros Tensor : \n",
            " tensor([[0., 0., 0.],\n",
            "        [0., 0., 0.]]) \n",
            "\n"
          ]
        }
      ]
    },
    {
      "cell_type": "markdown",
      "metadata": {
        "id": "7fP5xoo6V97e"
      },
      "source": [
        "# Tensor Attribute\n",
        "- shape, datatype 및 어느 장치에 저장되는지를 나타낼 수 있다."
      ]
    },
    {
      "cell_type": "code",
      "metadata": {
        "colab": {
          "base_uri": "https://localhost:8080/"
        },
        "id": "SpUjZVJHVkCW",
        "outputId": "12d7feb3-4348-4583-aa9d-ef944ee3d438"
      },
      "source": [
        "shape = (3, 4)\n",
        "tensor = torch.rand(shape)\n",
        "\n",
        "print(f\"Shape of tensor : {tensor.shape}\")\n",
        "print(f\"Datatype of tensor : {tensor.dtype}\")\n",
        "print(f\"Device tensor is stored on : {tensor.device}\")"
      ],
      "execution_count": 8,
      "outputs": [
        {
          "output_type": "stream",
          "name": "stdout",
          "text": [
            "Shape of tensor : torch.Size([3, 4])\n",
            "Datatype of tensor : torch.float32\n",
            "Device tensor is stored on : cpu\n"
          ]
        }
      ]
    },
    {
      "cell_type": "markdown",
      "metadata": {
        "id": "7k8WZ_t0Wdiw"
      },
      "source": [
        "# Tensor Operation\n",
        "- transposing(전치), Indexing, Slicing, Calculate, 선형 대수, random sampling ..\n",
        "  - 100가지 이상의 텐서 연산\n",
        "  - https://pytorch.org/docs/stable/torch.html\n",
        "- 기본적으로 텐서는 CPU에서 생성\n",
        "- .to 메소드 사용 시 GPU로 텐서를 명시적으로 이동 할 수 있다.\n",
        "  - 장치 간 큰 텐서를 복사하는 것은 시간과 메모리 측면 비용이 많이든다는 것에 주의 "
      ]
    },
    {
      "cell_type": "code",
      "metadata": {
        "id": "ZdSEZGW1WYCF"
      },
      "source": [
        "if torch.cuda.is_available():\n",
        "    tensor = tensor.to('cuda')"
      ],
      "execution_count": 9,
      "outputs": []
    },
    {
      "cell_type": "code",
      "metadata": {
        "colab": {
          "base_uri": "https://localhost:8080/"
        },
        "id": "ak7qV5xLW-rn",
        "outputId": "a8146fa5-e79d-4e8a-bf03-27d427ac5f6a"
      },
      "source": [
        "tensor.device"
      ],
      "execution_count": 11,
      "outputs": [
        {
          "output_type": "execute_result",
          "data": {
            "text/plain": [
              "device(type='cuda', index=0)"
            ]
          },
          "metadata": {},
          "execution_count": 11
        }
      ]
    },
    {
      "cell_type": "markdown",
      "metadata": {
        "id": "6vmNi3GoXMrY"
      },
      "source": [
        "- Numpy식 표준 인덱싱과 슬라이싱 가능하다."
      ]
    },
    {
      "cell_type": "code",
      "metadata": {
        "colab": {
          "base_uri": "https://localhost:8080/"
        },
        "id": "fcV5r66bXDv7",
        "outputId": "8ac10c45-5bd0-4ec1-c1e5-3cfce593bced"
      },
      "source": [
        "tensor = torch.ones(4, 4)\n",
        "print(f\"tensor : \\n : {tensor} \\n\")\n",
        "print(\"First row : \", tensor[0])\n",
        "print(\"First column : \", tensor[:, 0])\n",
        "print(\"Last column : \", tensor[..., -1])\n",
        "print()\n",
        "tensor[:, 1] = 0 # 1 index의 Column을 싹 0으로 바꾼다.\n",
        "print(f\"tensor : \\n : {tensor} \\n\")"
      ],
      "execution_count": 18,
      "outputs": [
        {
          "output_type": "stream",
          "name": "stdout",
          "text": [
            "tensor : \n",
            " : tensor([[1., 1., 1., 1.],\n",
            "        [1., 1., 1., 1.],\n",
            "        [1., 1., 1., 1.],\n",
            "        [1., 1., 1., 1.]]) \n",
            "\n",
            "First row :  tensor([1., 1., 1., 1.])\n",
            "First column :  tensor([1., 1., 1., 1.])\n",
            "Last column :  tensor([1., 1., 1., 1.])\n",
            "\n",
            "tensor : \n",
            " : tensor([[1., 0., 1., 1.],\n",
            "        [1., 0., 1., 1.],\n",
            "        [1., 0., 1., 1.],\n",
            "        [1., 0., 1., 1.]]) \n",
            "\n"
          ]
        }
      ]
    },
    {
      "cell_type": "markdown",
      "metadata": {
        "id": "EcS0fPP1X4Hk"
      },
      "source": [
        "- **텐서 합치기**, torch.cat을 사용한다.\n",
        "- **주어진 차원에 따라** 일련의 텐서를 연결할 수 있다."
      ]
    },
    {
      "cell_type": "code",
      "metadata": {
        "colab": {
          "base_uri": "https://localhost:8080/"
        },
        "id": "9lJCNMAnXJ10",
        "outputId": "d6c83d17-2f06-46cf-be8b-1bc23644b7ea"
      },
      "source": [
        "t1 = torch.cat([tensor, tensor, tensor], dim=1)\n",
        "print(t1)"
      ],
      "execution_count": 19,
      "outputs": [
        {
          "output_type": "stream",
          "name": "stdout",
          "text": [
            "tensor([[1., 0., 1., 1., 1., 0., 1., 1., 1., 0., 1., 1.],\n",
            "        [1., 0., 1., 1., 1., 0., 1., 1., 1., 0., 1., 1.],\n",
            "        [1., 0., 1., 1., 1., 0., 1., 1., 1., 0., 1., 1.],\n",
            "        [1., 0., 1., 1., 1., 0., 1., 1., 1., 0., 1., 1.]])\n"
          ]
        }
      ]
    },
    {
      "cell_type": "markdown",
      "metadata": {
        "id": "rFNEnoRVYJvv"
      },
      "source": [
        "- matrix multiplication(행렬곱)"
      ]
    },
    {
      "cell_type": "code",
      "metadata": {
        "colab": {
          "base_uri": "https://localhost:8080/"
        },
        "id": "aN5QKONHYB_J",
        "outputId": "a4c39b1a-3e1b-4176-9051-d4eebb777012"
      },
      "source": [
        "# 행렬곱 수행하는 3가지 방법\n",
        "\n",
        "y1 = tensor @ tensor.T\n",
        "y2 = tensor.matmul(tensor.T)\n",
        "\n",
        "y3 = torch.rand_like(tensor)\n",
        "torch.matmul(tensor, tensor.T, out=y3)\n",
        "\n",
        "print(f\"y1 :{y1}\")\n",
        "print(f\"y2 :{y2}\")\n",
        "print(f\"y3 :{y3}\")"
      ],
      "execution_count": 23,
      "outputs": [
        {
          "output_type": "stream",
          "name": "stdout",
          "text": [
            "y1 :tensor([[3., 3., 3., 3.],\n",
            "        [3., 3., 3., 3.],\n",
            "        [3., 3., 3., 3.],\n",
            "        [3., 3., 3., 3.]])\n",
            "y2 :tensor([[3., 3., 3., 3.],\n",
            "        [3., 3., 3., 3.],\n",
            "        [3., 3., 3., 3.],\n",
            "        [3., 3., 3., 3.]])\n",
            "y3 :tensor([[3., 3., 3., 3.],\n",
            "        [3., 3., 3., 3.],\n",
            "        [3., 3., 3., 3.],\n",
            "        [3., 3., 3., 3.]])\n"
          ]
        }
      ]
    },
    {
      "cell_type": "markdown",
      "metadata": {
        "id": "BJ1MPRCjY4fb"
      },
      "source": [
        "- single-element tensor\n",
        "- 텐서의 모든 값을 하나로 집계(aggregate) 해서 **요소가 하나인 텐서의 경우** item()을 사용해 Python 숫자 값으로 변환할 수 있다."
      ]
    },
    {
      "cell_type": "code",
      "metadata": {
        "colab": {
          "base_uri": "https://localhost:8080/"
        },
        "id": "xg2ovqw7YbXu",
        "outputId": "210516fc-de31-4ff7-e543-ad6b48b7b0e6"
      },
      "source": [
        "agg = tensor.sum()\n",
        "agg_item = agg.item()\n",
        "print(f\"tensor : \\n {tensor} \\n\")\n",
        "print(agg_item, type(agg_item))"
      ],
      "execution_count": 28,
      "outputs": [
        {
          "output_type": "stream",
          "name": "stdout",
          "text": [
            "tensor : \n",
            " tensor([[1., 0., 1., 1.],\n",
            "        [1., 0., 1., 1.],\n",
            "        [1., 0., 1., 1.],\n",
            "        [1., 0., 1., 1.]]) \n",
            "\n",
            "12.0 <class 'float'>\n"
          ]
        }
      ]
    },
    {
      "cell_type": "markdown",
      "metadata": {
        "id": "DadMH3xYZZlf"
      },
      "source": [
        "- In-place 연산 : 바꿔치기 연산\n",
        "- 연산결과를 피연산자(Operand)에 저장하는 연산\n",
        "- '_' 접미사를 갖는다.\n",
        "  - x.copy_(y) or x.t_()\n",
        "- 메모리를 일부 절약한다.\n",
        "- 하지만 도함수 계산에 문제가 발생할 수 있어 권장하지 않는다.\n",
        "  - history가 즉시 삭제됨(원래 값)\n"
      ]
    },
    {
      "cell_type": "code",
      "metadata": {
        "colab": {
          "base_uri": "https://localhost:8080/"
        },
        "id": "-ap98YOYY1r1",
        "outputId": "583e84cd-105c-48a8-aae8-68a073dc4910"
      },
      "source": [
        "print(tensor, \"\\n\")\n",
        "tensor.add_(5)\n",
        "print(tensor)"
      ],
      "execution_count": 29,
      "outputs": [
        {
          "output_type": "stream",
          "name": "stdout",
          "text": [
            "tensor([[1., 0., 1., 1.],\n",
            "        [1., 0., 1., 1.],\n",
            "        [1., 0., 1., 1.],\n",
            "        [1., 0., 1., 1.]]) \n",
            "\n",
            "tensor([[6., 5., 6., 6.],\n",
            "        [6., 5., 6., 6.],\n",
            "        [6., 5., 6., 6.],\n",
            "        [6., 5., 6., 6.]])\n"
          ]
        }
      ]
    },
    {
      "cell_type": "markdown",
      "metadata": {
        "id": "V-oEdNoYaGWm"
      },
      "source": [
        " # Numpy 변환 (Bridge)\n",
        " - CPU 상 텐서와 Numpy 배열은 메모리 공간을 공유\n",
        " - 하나를 변경하면 다른 하나도 변경된다."
      ]
    },
    {
      "cell_type": "code",
      "metadata": {
        "colab": {
          "base_uri": "https://localhost:8080/"
        },
        "id": "L0qhzDYwZxEZ",
        "outputId": "24f98d51-df03-4093-cbf5-e87378907bc3"
      },
      "source": [
        "t = torch.ones(5)\n",
        "t"
      ],
      "execution_count": 31,
      "outputs": [
        {
          "output_type": "execute_result",
          "data": {
            "text/plain": [
              "tensor([1., 1., 1., 1., 1.])"
            ]
          },
          "metadata": {},
          "execution_count": 31
        }
      ]
    },
    {
      "cell_type": "code",
      "metadata": {
        "colab": {
          "base_uri": "https://localhost:8080/"
        },
        "id": "VTHX4aAEaSr7",
        "outputId": "03cf1627-7be0-4f67-d15c-9dd415d27a2a"
      },
      "source": [
        "n = t.numpy()\n",
        "n"
      ],
      "execution_count": 32,
      "outputs": [
        {
          "output_type": "execute_result",
          "data": {
            "text/plain": [
              "array([1., 1., 1., 1., 1.], dtype=float32)"
            ]
          },
          "metadata": {},
          "execution_count": 32
        }
      ]
    },
    {
      "cell_type": "code",
      "metadata": {
        "colab": {
          "base_uri": "https://localhost:8080/"
        },
        "id": "kG44g_1LaV3f",
        "outputId": "a00e9b46-f78b-49e2-b806-852b841eb707"
      },
      "source": [
        "t.add_(1)\n",
        "t"
      ],
      "execution_count": 33,
      "outputs": [
        {
          "output_type": "execute_result",
          "data": {
            "text/plain": [
              "tensor([2., 2., 2., 2., 2.])"
            ]
          },
          "metadata": {},
          "execution_count": 33
        }
      ]
    },
    {
      "cell_type": "code",
      "metadata": {
        "colab": {
          "base_uri": "https://localhost:8080/"
        },
        "id": "UnaY8OaQadfl",
        "outputId": "224b59fd-78a9-486e-bae4-7322ab54a1b0"
      },
      "source": [
        "n # tensor의 변경사항이 Numpy 배열에 반영된다. **메모리 공유 !**"
      ],
      "execution_count": 35,
      "outputs": [
        {
          "output_type": "execute_result",
          "data": {
            "text/plain": [
              "array([2., 2., 2., 2., 2.], dtype=float32)"
            ]
          },
          "metadata": {},
          "execution_count": 35
        }
      ]
    },
    {
      "cell_type": "markdown",
      "metadata": {
        "id": "J449zLlEakzw"
      },
      "source": [
        "- Numpy 배열을 Tensor로 변환 가능하다."
      ]
    },
    {
      "cell_type": "code",
      "metadata": {
        "colab": {
          "base_uri": "https://localhost:8080/"
        },
        "id": "CgLtMqmcaeBK",
        "outputId": "1d14c8f0-0fca-4e51-e30f-1a54b921c593"
      },
      "source": [
        "n = np.ones(5)\n",
        "n"
      ],
      "execution_count": 39,
      "outputs": [
        {
          "output_type": "execute_result",
          "data": {
            "text/plain": [
              "array([1., 1., 1., 1., 1.])"
            ]
          },
          "metadata": {},
          "execution_count": 39
        }
      ]
    },
    {
      "cell_type": "code",
      "metadata": {
        "colab": {
          "base_uri": "https://localhost:8080/"
        },
        "id": "wZdcxVh5aqPn",
        "outputId": "7ddf6061-a01a-4ba3-c783-26a6131eca0b"
      },
      "source": [
        "t = torch.from_numpy(n)\n",
        "t"
      ],
      "execution_count": 40,
      "outputs": [
        {
          "output_type": "execute_result",
          "data": {
            "text/plain": [
              "tensor([1., 1., 1., 1., 1.], dtype=torch.float64)"
            ]
          },
          "metadata": {},
          "execution_count": 40
        }
      ]
    },
    {
      "cell_type": "code",
      "metadata": {
        "colab": {
          "base_uri": "https://localhost:8080/"
        },
        "id": "7VoD2SqlarfC",
        "outputId": "00007264-17f4-4a02-aafa-ccb82ebb50a8"
      },
      "source": [
        "np.add(n, 1, out=n)\n",
        "n"
      ],
      "execution_count": 41,
      "outputs": [
        {
          "output_type": "execute_result",
          "data": {
            "text/plain": [
              "array([2., 2., 2., 2., 2.])"
            ]
          },
          "metadata": {},
          "execution_count": 41
        }
      ]
    },
    {
      "cell_type": "code",
      "metadata": {
        "colab": {
          "base_uri": "https://localhost:8080/"
        },
        "id": "-IFFiq0faxUE",
        "outputId": "a11c2d97-0f95-42e4-fe08-70f31bda730f"
      },
      "source": [
        "t # 역시나 메모리 공유"
      ],
      "execution_count": 43,
      "outputs": [
        {
          "output_type": "execute_result",
          "data": {
            "text/plain": [
              "tensor([2., 2., 2., 2., 2.], dtype=torch.float64)"
            ]
          },
          "metadata": {},
          "execution_count": 43
        }
      ]
    },
    {
      "cell_type": "code",
      "metadata": {
        "id": "iv-LQN4Iaxt3"
      },
      "source": [
        ""
      ],
      "execution_count": null,
      "outputs": []
    }
  ]
}