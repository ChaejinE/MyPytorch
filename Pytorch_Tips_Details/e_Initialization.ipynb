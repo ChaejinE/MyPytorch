{
  "nbformat": 4,
  "nbformat_minor": 0,
  "metadata": {
    "colab": {
      "name": "e_Initialization",
      "provenance": [],
      "authorship_tag": "ABX9TyP/rWsB4JOvdXYHiaRam09o",
      "include_colab_link": true
    },
    "kernelspec": {
      "name": "python3",
      "display_name": "Python 3"
    },
    "language_info": {
      "name": "python"
    },
    "accelerator": "GPU"
  },
  "cells": [
    {
      "cell_type": "markdown",
      "metadata": {
        "id": "view-in-github",
        "colab_type": "text"
      },
      "source": [
        "<a href=\"https://colab.research.google.com/github/ChaejinE/MyPytorch/blob/main/Pytorch_Tips_Details/e_Initialization.ipynb\" target=\"_parent\"><img src=\"https://colab.research.google.com/assets/colab-badge.svg\" alt=\"Open In Colab\"/></a>"
      ]
    },
    {
      "cell_type": "code",
      "metadata": {
        "id": "fAyMJIzopsI1"
      },
      "source": [
        "import torch"
      ],
      "execution_count": 1,
      "outputs": []
    },
    {
      "cell_type": "markdown",
      "metadata": {
        "id": "2Kr_I2pHqGD7"
      },
      "source": [
        "# 초기화 방법"
      ]
    },
    {
      "cell_type": "code",
      "metadata": {
        "id": "HFUtYmO9p6w5"
      },
      "source": [
        "import torch.nn.init as init"
      ],
      "execution_count": 2,
      "outputs": []
    },
    {
      "cell_type": "code",
      "metadata": {
        "colab": {
          "base_uri": "https://localhost:8080/"
        },
        "id": "D7nnQrRaqIZ5",
        "outputId": "8e96fa97-4b0d-4ba9-a0e9-8910f22d535c"
      },
      "source": [
        "x1 = init.uniform(torch.FloatTensor(3, 4), a = 0, b = 9) # uniform 분포의 초기화 Tensor\n",
        "x1"
      ],
      "execution_count": 4,
      "outputs": [
        {
          "output_type": "stream",
          "name": "stderr",
          "text": [
            "/usr/local/lib/python3.7/dist-packages/ipykernel_launcher.py:1: UserWarning: nn.init.uniform is now deprecated in favor of nn.init.uniform_.\n",
            "  \"\"\"Entry point for launching an IPython kernel.\n"
          ]
        },
        {
          "output_type": "execute_result",
          "data": {
            "text/plain": [
              "tensor([[4.3527, 8.8881, 1.3414, 4.8993],\n",
              "        [5.0518, 8.8734, 1.3343, 4.9315],\n",
              "        [1.8337, 1.6046, 3.8145, 3.9976]])"
            ]
          },
          "metadata": {},
          "execution_count": 4
        }
      ]
    },
    {
      "cell_type": "code",
      "metadata": {
        "colab": {
          "base_uri": "https://localhost:8080/"
        },
        "id": "JejHY7zpqPAc",
        "outputId": "d8501bf2-6c15-40cf-af34-78eef4f613b1"
      },
      "source": [
        "x2 = init.normal(torch.FloatTensor(3, 4), std=0.2) # noraml 분포의 초기화 Tensor\n",
        "x2"
      ],
      "execution_count": 6,
      "outputs": [
        {
          "output_type": "stream",
          "name": "stderr",
          "text": [
            "/usr/local/lib/python3.7/dist-packages/ipykernel_launcher.py:1: UserWarning: nn.init.normal is now deprecated in favor of nn.init.normal_.\n",
            "  \"\"\"Entry point for launching an IPython kernel.\n"
          ]
        },
        {
          "output_type": "execute_result",
          "data": {
            "text/plain": [
              "tensor([[ 0.1216,  0.0503, -0.4610,  0.2245],\n",
              "        [ 0.2337,  0.1919,  0.2615, -0.0361],\n",
              "        [ 0.0395,  0.0029,  0.1707,  0.1788]])"
            ]
          },
          "metadata": {},
          "execution_count": 6
        }
      ]
    },
    {
      "cell_type": "code",
      "metadata": {
        "colab": {
          "base_uri": "https://localhost:8080/"
        },
        "id": "bWdhbQCEqWUp",
        "outputId": "53d1661d-9f50-4142-a9e8-f6c75c6384f1"
      },
      "source": [
        "x3 = init.constant(torch.FloatTensor(3, 4), 3.1415) # 상수형태로 초기화\n",
        "x3"
      ],
      "execution_count": 7,
      "outputs": [
        {
          "output_type": "stream",
          "name": "stderr",
          "text": [
            "/usr/local/lib/python3.7/dist-packages/ipykernel_launcher.py:1: UserWarning: nn.init.constant is now deprecated in favor of nn.init.constant_.\n",
            "  \"\"\"Entry point for launching an IPython kernel.\n"
          ]
        },
        {
          "output_type": "execute_result",
          "data": {
            "text/plain": [
              "tensor([[3.1415, 3.1415, 3.1415, 3.1415],\n",
              "        [3.1415, 3.1415, 3.1415, 3.1415],\n",
              "        [3.1415, 3.1415, 3.1415, 3.1415]])"
            ]
          },
          "metadata": {},
          "execution_count": 7
        }
      ]
    },
    {
      "cell_type": "code",
      "metadata": {
        "id": "69Kv4iksqbG_"
      },
      "source": [
        ""
      ],
      "execution_count": null,
      "outputs": []
    }
  ]
}