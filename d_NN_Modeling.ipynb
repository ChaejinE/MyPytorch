{
  "nbformat": 4,
  "nbformat_minor": 0,
  "metadata": {
    "colab": {
      "name": "d_NN_Modeling",
      "provenance": [],
      "authorship_tag": "ABX9TyNSh6lO4/GQH3y4hkDuWVlY",
      "include_colab_link": true
    },
    "kernelspec": {
      "name": "python3",
      "display_name": "Python 3"
    },
    "language_info": {
      "name": "python"
    },
    "accelerator": "GPU"
  },
  "cells": [
    {
      "cell_type": "markdown",
      "metadata": {
        "id": "view-in-github",
        "colab_type": "text"
      },
      "source": [
        "<a href=\"https://colab.research.google.com/github/ChaejinE/MyPytorch/blob/main/d_NN_Modeling.ipynb\" target=\"_parent\"><img src=\"https://colab.research.google.com/assets/colab-badge.svg\" alt=\"Open In Colab\"/></a>"
      ]
    },
    {
      "cell_type": "markdown",
      "metadata": {
        "id": "L3lji4H-osy0"
      },
      "source": [
        "# Overview\n",
        "- NN은 데이터셋에 대한 연산 수행하는 layer/module로 구성\n",
        "- torch.nn namespace : 신경망을 구성하는 데 필요한 모든 구성요소 제공\n",
        "- PyTorch의 모든 모듈은 nn.Module의 subclass이다.\n",
        "- NN은 다른 모듈(layer)로 구성된 모듈이다."
      ]
    },
    {
      "cell_type": "code",
      "metadata": {
        "id": "BwF2fMJcokoY"
      },
      "source": [
        "import os\n",
        "import torch\n",
        "from torch import nn\n",
        "from torch.utils.data import DataLoader\n",
        "from torchvision import datasets, transforms"
      ],
      "execution_count": null,
      "outputs": []
    },
    {
      "cell_type": "code",
      "metadata": {
        "colab": {
          "base_uri": "https://localhost:8080/"
        },
        "id": "TtzJ0ukIpFsm",
        "outputId": "6d7895b5-af40-4214-d667-00a06f3b6b6a"
      },
      "source": [
        "device = \"cuda\" if torch.cuda.is_available() else \"cpu\"\n",
        "print(\"Using {} device\".format(device))"
      ],
      "execution_count": null,
      "outputs": [
        {
          "output_type": "stream",
          "name": "stdout",
          "text": [
            "Using cuda device\n"
          ]
        }
      ]
    },
    {
      "cell_type": "markdown",
      "metadata": {
        "id": "f7xHR_8iphIW"
      },
      "source": [
        "# Class Definition\n",
        "- NN 모델을 nn.Module의 subclass로 정의\n",
        "- __init__ : 신경망 layer 들을 초기화\n",
        "- nn.Module 상속받은 모든 클래스는 forward 메소드에 입력 데이터에 대한 연산을 구현한다."
      ]
    },
    {
      "cell_type": "code",
      "metadata": {
        "id": "tly8XQuDpYqM"
      },
      "source": [
        "class NeuralNetwork(nn.Module):\n",
        "    def __init__(self):\n",
        "        super(NeuralNetwork, self).__init__()\n",
        "        self.flatten = nn.Flatten()\n",
        "        self.linear_relu_stack = nn.Sequential(\n",
        "            nn.Linear(28*28, 512),\n",
        "            nn.ReLU(),\n",
        "            nn.Linear(512, 512),\n",
        "            nn.ReLU(),\n",
        "            nn.Linear(512, 10),\n",
        "            nn.ReLU()\n",
        "        )\n",
        "\n",
        "    def forward(self, x):\n",
        "        x = self.flatten(x)\n",
        "        logits = self.linear_relu_stack(x)\n",
        "        return logits"
      ],
      "execution_count": null,
      "outputs": []
    },
    {
      "cell_type": "code",
      "metadata": {
        "colab": {
          "base_uri": "https://localhost:8080/"
        },
        "id": "NYyeT-OnqHEh",
        "outputId": "dd6f65eb-907b-45b7-8803-21ecdd3aa56f"
      },
      "source": [
        "# NN Instance 생성 및 device로 이동한 뒤 구조를 출력\n",
        "model = NeuralNetwork().to(device)\n",
        "print(model)"
      ],
      "execution_count": null,
      "outputs": [
        {
          "output_type": "stream",
          "name": "stdout",
          "text": [
            "NeuralNetwork(\n",
            "  (flatten): Flatten(start_dim=1, end_dim=-1)\n",
            "  (linear_relu_stack): Sequential(\n",
            "    (0): Linear(in_features=784, out_features=512, bias=True)\n",
            "    (1): ReLU()\n",
            "    (2): Linear(in_features=512, out_features=512, bias=True)\n",
            "    (3): ReLU()\n",
            "    (4): Linear(in_features=512, out_features=10, bias=True)\n",
            "    (5): ReLU()\n",
            "  )\n",
            ")\n"
          ]
        }
      ]
    },
    {
      "cell_type": "code",
      "metadata": {
        "colab": {
          "base_uri": "https://localhost:8080/"
        },
        "id": "OF-9V3gMqLfe",
        "outputId": "36010715-b0b2-4a8e-edf5-8aed9b598e8b"
      },
      "source": [
        "X = torch.rand(1, 28, 28, device=device)\n",
        "logits = model(X)\n",
        "pred_probab = nn.Softmax(dim=1)(logits)\n",
        "y_pred = pred_probab.argmax(1)\n",
        "print(f\"Predicted class : {y_pred}\")"
      ],
      "execution_count": null,
      "outputs": [
        {
          "output_type": "stream",
          "name": "stdout",
          "text": [
            "Predicted class : tensor([6], device='cuda:0')\n"
          ]
        }
      ]
    },
    {
      "cell_type": "markdown",
      "metadata": {
        "id": "PCUKFORDqwEj"
      },
      "source": [
        "# Layer"
      ]
    },
    {
      "cell_type": "code",
      "metadata": {
        "colab": {
          "base_uri": "https://localhost:8080/"
        },
        "id": "FqqZJ333qvC1",
        "outputId": "0075aee4-b7a1-4669-cba9-eb67f9280e3e"
      },
      "source": [
        "input_image = torch.rand(3, 28, 28)\n",
        "print(input_image.size())"
      ],
      "execution_count": null,
      "outputs": [
        {
          "output_type": "stream",
          "name": "stdout",
          "text": [
            "torch.Size([3, 28, 28])\n"
          ]
        }
      ]
    },
    {
      "cell_type": "markdown",
      "metadata": {
        "id": "hcUS1ABZq23u"
      },
      "source": [
        "- nn.Flatten\n",
        "  - 28x28 -> 784 값을 갖는 연속된 배열로 변환한다.\n",
        "  - dim = 0의 미니배치 차원은 유지된다."
      ]
    },
    {
      "cell_type": "code",
      "metadata": {
        "colab": {
          "base_uri": "https://localhost:8080/"
        },
        "id": "43c9U8C-qgRj",
        "outputId": "32641bed-6aed-41a6-f1d1-2c76d14dde03"
      },
      "source": [
        "flatten = nn.Flatten()\n",
        "flat_image = flatten(input_image)\n",
        "print(flat_image.size())"
      ],
      "execution_count": null,
      "outputs": [
        {
          "output_type": "stream",
          "name": "stdout",
          "text": [
            "torch.Size([3, 784])\n"
          ]
        }
      ]
    },
    {
      "cell_type": "markdown",
      "metadata": {
        "id": "WwSFqbFOrHVm"
      },
      "source": [
        "- nn.Linear\n",
        "  - 저장된 wiehgt, bias를 이용해 linear transformation을 적용한다."
      ]
    },
    {
      "cell_type": "code",
      "metadata": {
        "colab": {
          "base_uri": "https://localhost:8080/"
        },
        "id": "RHqx0WW5rFCQ",
        "outputId": "08c767a7-3281-4e8d-94b7-5885cb31b37e"
      },
      "source": [
        "layer1 = nn.Linear(in_features=28*28, out_features=20)\n",
        "hidden1 = layer1(flat_image)\n",
        "print(hidden1.size())"
      ],
      "execution_count": null,
      "outputs": [
        {
          "output_type": "stream",
          "name": "stdout",
          "text": [
            "torch.Size([3, 20])\n"
          ]
        }
      ]
    },
    {
      "cell_type": "markdown",
      "metadata": {
        "id": "ipzRAS3iraWR"
      },
      "source": [
        "- nn.ReLU\n",
        "  - 비선형 activation : input과 output 사이에 복잡한 관계를 만든다.\n",
        "  - linear transform 후 적용되어 nonlinearity를 도입해 신경망이 다양한 현상을 학습할 수 있도록 돕는다."
      ]
    },
    {
      "cell_type": "code",
      "metadata": {
        "colab": {
          "base_uri": "https://localhost:8080/"
        },
        "id": "7sps0w9LrUJ0",
        "outputId": "cae2c651-3f46-4e58-81ee-e87c6f72f52f"
      },
      "source": [
        "print(f\"Before ReLU : {hidden1}\\n\\n\")\n",
        "hidden1 = nn.ReLU()(hidden1)\n",
        "print(f\"After ReLU : {hidden1}\\n\\n\")"
      ],
      "execution_count": null,
      "outputs": [
        {
          "output_type": "stream",
          "name": "stdout",
          "text": [
            "Before ReLU : tensor([[-0.2829,  0.3555, -0.0149,  0.3796,  0.0906, -0.1055,  0.0634, -0.1396,\n",
            "          0.3259,  0.2247,  0.2648, -0.2033,  0.4946,  0.4724, -0.3663,  0.3642,\n",
            "          0.1579, -0.2760, -0.1618, -0.1720],\n",
            "        [-0.0419,  0.3077,  0.4955,  0.2757, -0.0429,  0.1146, -0.2720, -0.1575,\n",
            "          0.5855,  0.2073,  0.1545, -0.5847,  0.6437,  0.0528, -0.0662,  0.5041,\n",
            "          0.0113,  0.2521, -0.0204,  0.2070],\n",
            "        [-0.2373,  0.2796, -0.0744,  0.2232, -0.3046,  0.0943,  0.0015,  0.2434,\n",
            "          0.0755,  0.3028,  0.3247,  0.0397,  0.3525,  0.2407, -0.1122,  0.2359,\n",
            "         -0.0410, -0.1049, -0.0466,  0.0135]], grad_fn=<AddmmBackward>)\n",
            "\n",
            "\n",
            "After ReLU : tensor([[0.0000, 0.3555, 0.0000, 0.3796, 0.0906, 0.0000, 0.0634, 0.0000, 0.3259,\n",
            "         0.2247, 0.2648, 0.0000, 0.4946, 0.4724, 0.0000, 0.3642, 0.1579, 0.0000,\n",
            "         0.0000, 0.0000],\n",
            "        [0.0000, 0.3077, 0.4955, 0.2757, 0.0000, 0.1146, 0.0000, 0.0000, 0.5855,\n",
            "         0.2073, 0.1545, 0.0000, 0.6437, 0.0528, 0.0000, 0.5041, 0.0113, 0.2521,\n",
            "         0.0000, 0.2070],\n",
            "        [0.0000, 0.2796, 0.0000, 0.2232, 0.0000, 0.0943, 0.0015, 0.2434, 0.0755,\n",
            "         0.3028, 0.3247, 0.0397, 0.3525, 0.2407, 0.0000, 0.2359, 0.0000, 0.0000,\n",
            "         0.0000, 0.0135]], grad_fn=<ReluBackward0>)\n",
            "\n",
            "\n"
          ]
        }
      ]
    },
    {
      "cell_type": "markdown",
      "metadata": {
        "id": "L5K6uV7tsEJx"
      },
      "source": [
        "- nn.Sequential\n",
        "  - 순서를 갖는 모듈의 컨테이너\n",
        "  - 순차적으로 정의된 모듈로 전달된다."
      ]
    },
    {
      "cell_type": "code",
      "metadata": {
        "id": "ugbxPchvsAvN",
        "colab": {
          "base_uri": "https://localhost:8080/"
        },
        "outputId": "5695d1cf-ece8-41ae-ae9a-0351d34910e0"
      },
      "source": [
        "seq_modules = nn.Sequential(\n",
        "    flatten,\n",
        "    layer1,\n",
        "    nn.ReLU(),\n",
        "    nn.Linear(20, 10)\n",
        ")\n",
        "input_image = torch.rand(3, 28, 28)\n",
        "logits = seq_modules(input_image)\n",
        "logits"
      ],
      "execution_count": 16,
      "outputs": [
        {
          "output_type": "execute_result",
          "data": {
            "text/plain": [
              "tensor([[ 0.4686, -0.3211,  0.2432, -0.1934, -0.0009,  0.0764,  0.2137,  0.2884,\n",
              "         -0.2995, -0.2634],\n",
              "        [ 0.3122, -0.2760,  0.2729, -0.0987,  0.0462,  0.1022,  0.0392,  0.2269,\n",
              "         -0.1556, -0.2386],\n",
              "        [ 0.2391, -0.1591,  0.3571, -0.1791, -0.0063,  0.1083,  0.1795,  0.1461,\n",
              "         -0.3258, -0.2167]], grad_fn=<AddmmBackward>)"
            ]
          },
          "metadata": {},
          "execution_count": 16
        }
      ]
    },
    {
      "cell_type": "code",
      "metadata": {
        "colab": {
          "base_uri": "https://localhost:8080/"
        },
        "id": "eKplSnCLumu7",
        "outputId": "379d3ceb-3d98-49fb-8304-25e82a74ef39"
      },
      "source": [
        "logits.size()"
      ],
      "execution_count": 19,
      "outputs": [
        {
          "output_type": "execute_result",
          "data": {
            "text/plain": [
              "torch.Size([3, 10])"
            ]
          },
          "metadata": {},
          "execution_count": 19
        }
      ]
    },
    {
      "cell_type": "markdown",
      "metadata": {
        "id": "azFxUeQit-1I"
      },
      "source": [
        "- nn.Softmax()\n",
        "  - dim : 값의 합이 1이 되는 차원을 나타낸다\n",
        "  - 모델의 각 class에 대한 예측 확률을 나타내도록 [0, 1] 범위로 비례하여 scale 된다."
      ]
    },
    {
      "cell_type": "code",
      "metadata": {
        "id": "Q18snnnst1YT"
      },
      "source": [
        "softmax = nn.Softmax(dim=1)\n",
        "pred_probab = softmax(logits)"
      ],
      "execution_count": 49,
      "outputs": []
    },
    {
      "cell_type": "code",
      "metadata": {
        "colab": {
          "base_uri": "https://localhost:8080/"
        },
        "id": "RJm55B_DuKOj",
        "outputId": "3733fc4d-d7ba-4074-88ff-ce73ddca3294"
      },
      "source": [
        "pred_probab"
      ],
      "execution_count": 50,
      "outputs": [
        {
          "output_type": "execute_result",
          "data": {
            "text/plain": [
              "tensor([[0.1510, 0.0685, 0.1205, 0.0779, 0.0944, 0.1020, 0.1170, 0.1261, 0.0700,\n",
              "         0.0726],\n",
              "        [0.1309, 0.0727, 0.1259, 0.0868, 0.1003, 0.1061, 0.0996, 0.1202, 0.0820,\n",
              "         0.0755],\n",
              "        [0.1224, 0.0822, 0.1377, 0.0806, 0.0958, 0.1074, 0.1153, 0.1115, 0.0696,\n",
              "         0.0776]], grad_fn=<SoftmaxBackward>)"
            ]
          },
          "metadata": {},
          "execution_count": 50
        }
      ]
    },
    {
      "cell_type": "markdown",
      "metadata": {
        "id": "vYVKw9JGwADL"
      },
      "source": [
        "- 모델 매개변수\n",
        "  - 신경망 내부 layer들은 parameterize된다.\n",
        "  - 학습 중 최적화 되는 weight, bias와 연관지어 진다.\n",
        "  - nn.Module을 상속하면 모델 객체 내부의 모든 필드들이 자동으로 track(추적)된다.\n",
        "  - parameters() or named_parameters()로 모든 매개변수에 접근할 수 있게된다."
      ]
    },
    {
      "cell_type": "code",
      "metadata": {
        "colab": {
          "base_uri": "https://localhost:8080/"
        },
        "id": "64_M4AGBvuRa",
        "outputId": "9279ae8c-6972-4857-9233-af07dd73cb63"
      },
      "source": [
        "print(\"Model structure : \", model, \"\\n\\n\")\n",
        "\n",
        "for name, param in model.named_parameters():\n",
        "    print(f\"Layer : {name} | Size: {param.size()} | Values : {param[:2]} \\n\")"
      ],
      "execution_count": 51,
      "outputs": [
        {
          "output_type": "stream",
          "name": "stdout",
          "text": [
            "Model structure :  NeuralNetwork(\n",
            "  (flatten): Flatten(start_dim=1, end_dim=-1)\n",
            "  (linear_relu_stack): Sequential(\n",
            "    (0): Linear(in_features=784, out_features=512, bias=True)\n",
            "    (1): ReLU()\n",
            "    (2): Linear(in_features=512, out_features=512, bias=True)\n",
            "    (3): ReLU()\n",
            "    (4): Linear(in_features=512, out_features=10, bias=True)\n",
            "    (5): ReLU()\n",
            "  )\n",
            ") \n",
            "\n",
            "\n",
            "Layer : linear_relu_stack.0.weight | Size: torch.Size([512, 784]) | Values : tensor([[-0.0103, -0.0101,  0.0141,  ..., -0.0073,  0.0335, -0.0314],\n",
            "        [-0.0200, -0.0308, -0.0157,  ..., -0.0038, -0.0243, -0.0218]],\n",
            "       device='cuda:0', grad_fn=<SliceBackward>) \n",
            "\n",
            "Layer : linear_relu_stack.0.bias | Size: torch.Size([512]) | Values : tensor([0.0115, 0.0301], device='cuda:0', grad_fn=<SliceBackward>) \n",
            "\n",
            "Layer : linear_relu_stack.2.weight | Size: torch.Size([512, 512]) | Values : tensor([[ 0.0434, -0.0056, -0.0127,  ..., -0.0386, -0.0200, -0.0245],\n",
            "        [-0.0241, -0.0035,  0.0162,  ..., -0.0051, -0.0290,  0.0086]],\n",
            "       device='cuda:0', grad_fn=<SliceBackward>) \n",
            "\n",
            "Layer : linear_relu_stack.2.bias | Size: torch.Size([512]) | Values : tensor([-0.0076,  0.0314], device='cuda:0', grad_fn=<SliceBackward>) \n",
            "\n",
            "Layer : linear_relu_stack.4.weight | Size: torch.Size([10, 512]) | Values : tensor([[ 0.0077, -0.0434, -0.0220,  ...,  0.0115, -0.0153,  0.0362],\n",
            "        [ 0.0437,  0.0008, -0.0110,  ...,  0.0173, -0.0006, -0.0146]],\n",
            "       device='cuda:0', grad_fn=<SliceBackward>) \n",
            "\n",
            "Layer : linear_relu_stack.4.bias | Size: torch.Size([10]) | Values : tensor([-0.0425,  0.0126], device='cuda:0', grad_fn=<SliceBackward>) \n",
            "\n"
          ]
        }
      ]
    },
    {
      "cell_type": "code",
      "metadata": {
        "id": "lMXqiMeYweWh"
      },
      "source": [
        ""
      ],
      "execution_count": null,
      "outputs": []
    }
  ]
}